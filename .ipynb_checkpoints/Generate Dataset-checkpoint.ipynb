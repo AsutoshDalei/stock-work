{
 "cells": [
  {
   "cell_type": "markdown",
   "id": "1ab6ae13",
   "metadata": {},
   "source": [
    "# Code to merge all stock data into a single csv file for further analysis"
   ]
  },
  {
   "cell_type": "code",
   "execution_count": 1,
   "id": "ba09ce6c",
   "metadata": {},
   "outputs": [
    {
     "data": {
      "application/javascript": [
       "IPython.notebook.set_autosave_interval(30000)"
      ]
     },
     "metadata": {},
     "output_type": "display_data"
    },
    {
     "name": "stdout",
     "output_type": "stream",
     "text": [
      "Autosaving every 30 seconds\n"
     ]
    }
   ],
   "source": [
    "from os import listdir\n",
    "import numpy as np\n",
    "import pandas as pd\n",
    "from tqdm import tqdm\n",
    "import matplotlib.pyplot as plt\n",
    "%matplotlib inline\n",
    "import seaborn as sns\n",
    "import tensorflow as tf\n",
    "sns.set_theme()\n",
    "%autosave 30"
   ]
  },
  {
   "cell_type": "code",
   "execution_count": 5,
   "id": "d8b22eb3",
   "metadata": {},
   "outputs": [],
   "source": [
    "comps = listdir(r'C:\\Users\\asuto\\Desktop\\Work\\Datasets\\NIFTY50')\n",
    "dates = []\n",
    "for nm in comps:\n",
    "    df = pd.read_csv(rf'C:\\Users\\asuto\\Desktop\\Work\\Datasets\\NIFTY50\\{nm}')\n",
    "    #print(nm)\n",
    "    #print(df.Date[0],nm)\n",
    "    dates.append(df.Date[0])\n",
    "\n",
    "#dates"
   ]
  },
  {
   "cell_type": "code",
   "execution_count": null,
   "id": "8c6e0581",
   "metadata": {},
   "outputs": [],
   "source": [
    "comps = listdir(r'C:\\Users\\asuto\\Desktop\\Work\\Datasets\\NIFTY50')\n",
    "flag = True\n",
    "for nm in tqdm(comps):\n",
    "    #print(nm)\n",
    "    if flag == True:\n",
    "        dft = pd.read_csv(rf'C:\\Users\\asuto\\Desktop\\Work\\Datasets\\NIFTY50\\{nm}')\n",
    "        dft['Date'] = pd.to_datetime(dft['Date'])\n",
    "        dft.set_index('Date',inplace=True)\n",
    "        dft.sort_index(inplace=True)\n",
    "        dft = dft.loc['2010-11-04 00:00:00':]\n",
    "        #print(dft)\n",
    "        \n",
    "        #dft = dft.groupby(level=0).mean()\n",
    "        dft.Symbol = nm[:-4]\n",
    "        flag = False\n",
    "        continue\n",
    "    df = pd.read_csv(rf'C:\\Users\\asuto\\Desktop\\Work\\Datasets\\NIFTY50\\{nm}')\n",
    "    df['Date'] = pd.to_datetime(df['Date'])\n",
    "    df.set_index('Date',inplace=True)\n",
    "    df.sort_index(inplace=True)\n",
    "    df = df.loc['2010-11-04 00:00:00':]\n",
    "    df.Symbol = nm[:-4]\n",
    "    dft = pd.concat([dft,df])\n",
    "dft.columns"
   ]
  },
  {
   "cell_type": "code",
   "execution_count": null,
   "id": "e0a6eb1a",
   "metadata": {},
   "outputs": [],
   "source": [
    "len(dft.Symbol.unique())\n",
    "cols = dft.Symbol.unique()\n",
    "for i in dft.Symbol.unique():\n",
    "    print(dft[dft.Symbol == i].shape,i)"
   ]
  }
 ],
 "metadata": {
  "kernelspec": {
   "display_name": "Python 3 (ipykernel)",
   "language": "python",
   "name": "python3"
  },
  "language_info": {
   "codemirror_mode": {
    "name": "ipython",
    "version": 3
   },
   "file_extension": ".py",
   "mimetype": "text/x-python",
   "name": "python",
   "nbconvert_exporter": "python",
   "pygments_lexer": "ipython3",
   "version": "3.9.7"
  }
 },
 "nbformat": 4,
 "nbformat_minor": 5
}
