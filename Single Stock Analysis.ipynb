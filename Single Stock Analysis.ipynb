{
 "cells": [
  {
   "cell_type": "markdown",
   "id": "0f5e870c",
   "metadata": {
    "papermill": {
     "duration": 0.040774,
     "end_time": "2022-05-15T14:11:03.133359",
     "exception": false,
     "start_time": "2022-05-15T14:11:03.092585",
     "status": "completed"
    },
    "tags": []
   },
   "source": [
    "# NIFTY50 Single stocks analysis\n",
    "**Notebook contains analysis and forecast on a single stock.**\n"
   ]
  },
  {
   "cell_type": "markdown",
   "id": "1c16095d",
   "metadata": {
    "papermill": {
     "duration": 0.041256,
     "end_time": "2022-05-15T14:11:03.211997",
     "exception": false,
     "start_time": "2022-05-15T14:11:03.170741",
     "status": "completed"
    },
    "tags": []
   },
   "source": [
    "Importing necessary packages"
   ]
  },
  {
   "cell_type": "code",
   "execution_count": 1,
   "id": "6da2bba5",
   "metadata": {
    "execution": {
     "iopub.execute_input": "2022-05-15T14:11:03.291964Z",
     "iopub.status.busy": "2022-05-15T14:11:03.291291Z",
     "iopub.status.idle": "2022-05-15T14:11:17.593467Z",
     "shell.execute_reply": "2022-05-15T14:11:17.592337Z"
    },
    "papermill": {
     "duration": 14.344668,
     "end_time": "2022-05-15T14:11:17.596805",
     "exception": false,
     "start_time": "2022-05-15T14:11:03.252137",
     "status": "completed"
    },
    "tags": []
   },
   "outputs": [
    {
     "name": "stdout",
     "output_type": "stream",
     "text": [
      "Collecting livelossplot\r\n",
      "  Downloading livelossplot-0.5.5-py3-none-any.whl (22 kB)\r\n",
      "Requirement already satisfied: numpy<1.22 in /opt/conda/lib/python3.7/site-packages (from livelossplot) (1.21.6)\r\n",
      "Requirement already satisfied: ipython==7.* in /opt/conda/lib/python3.7/site-packages (from livelossplot) (7.32.0)\r\n",
      "Requirement already satisfied: bokeh in /opt/conda/lib/python3.7/site-packages (from livelossplot) (2.4.2)\r\n",
      "Requirement already satisfied: matplotlib in /opt/conda/lib/python3.7/site-packages (from livelossplot) (3.5.2)\r\n",
      "Requirement already satisfied: pygments in /opt/conda/lib/python3.7/site-packages (from ipython==7.*->livelossplot) (2.11.2)\r\n",
      "Requirement already satisfied: setuptools>=18.5 in /opt/conda/lib/python3.7/site-packages (from ipython==7.*->livelossplot) (59.8.0)\r\n",
      "Requirement already satisfied: traitlets>=4.2 in /opt/conda/lib/python3.7/site-packages (from ipython==7.*->livelossplot) (5.1.1)\r\n",
      "Requirement already satisfied: prompt-toolkit!=3.0.0,!=3.0.1,<3.1.0,>=2.0.0 in /opt/conda/lib/python3.7/site-packages (from ipython==7.*->livelossplot) (3.0.27)\r\n",
      "Requirement already satisfied: backcall in /opt/conda/lib/python3.7/site-packages (from ipython==7.*->livelossplot) (0.2.0)\r\n",
      "Requirement already satisfied: pickleshare in /opt/conda/lib/python3.7/site-packages (from ipython==7.*->livelossplot) (0.7.5)\r\n",
      "Requirement already satisfied: matplotlib-inline in /opt/conda/lib/python3.7/site-packages (from ipython==7.*->livelossplot) (0.1.3)\r\n",
      "Requirement already satisfied: decorator in /opt/conda/lib/python3.7/site-packages (from ipython==7.*->livelossplot) (5.1.1)\r\n",
      "Requirement already satisfied: jedi>=0.16 in /opt/conda/lib/python3.7/site-packages (from ipython==7.*->livelossplot) (0.18.1)\r\n",
      "Requirement already satisfied: pexpect>4.3 in /opt/conda/lib/python3.7/site-packages (from ipython==7.*->livelossplot) (4.8.0)\r\n",
      "Requirement already satisfied: pillow>=7.1.0 in /opt/conda/lib/python3.7/site-packages (from bokeh->livelossplot) (9.0.1)\r\n",
      "Requirement already satisfied: typing-extensions>=3.10.0 in /opt/conda/lib/python3.7/site-packages (from bokeh->livelossplot) (4.2.0)\r\n",
      "Requirement already satisfied: packaging>=16.8 in /opt/conda/lib/python3.7/site-packages (from bokeh->livelossplot) (21.3)\r\n",
      "Requirement already satisfied: Jinja2>=2.9 in /opt/conda/lib/python3.7/site-packages (from bokeh->livelossplot) (3.1.2)\r\n",
      "Requirement already satisfied: PyYAML>=3.10 in /opt/conda/lib/python3.7/site-packages (from bokeh->livelossplot) (6.0)\r\n",
      "Requirement already satisfied: tornado>=5.1 in /opt/conda/lib/python3.7/site-packages (from bokeh->livelossplot) (6.1)\r\n",
      "Requirement already satisfied: kiwisolver>=1.0.1 in /opt/conda/lib/python3.7/site-packages (from matplotlib->livelossplot) (1.4.0)\r\n",
      "Requirement already satisfied: python-dateutil>=2.7 in /opt/conda/lib/python3.7/site-packages (from matplotlib->livelossplot) (2.8.2)\r\n",
      "Requirement already satisfied: pyparsing>=2.2.1 in /opt/conda/lib/python3.7/site-packages (from matplotlib->livelossplot) (3.0.7)\r\n",
      "Requirement already satisfied: fonttools>=4.22.0 in /opt/conda/lib/python3.7/site-packages (from matplotlib->livelossplot) (4.30.0)\r\n",
      "Requirement already satisfied: cycler>=0.10 in /opt/conda/lib/python3.7/site-packages (from matplotlib->livelossplot) (0.11.0)\r\n",
      "Requirement already satisfied: parso<0.9.0,>=0.8.0 in /opt/conda/lib/python3.7/site-packages (from jedi>=0.16->ipython==7.*->livelossplot) (0.8.3)\r\n",
      "Requirement already satisfied: MarkupSafe>=2.0 in /opt/conda/lib/python3.7/site-packages (from Jinja2>=2.9->bokeh->livelossplot) (2.0.1)\r\n",
      "Requirement already satisfied: ptyprocess>=0.5 in /opt/conda/lib/python3.7/site-packages (from pexpect>4.3->ipython==7.*->livelossplot) (0.7.0)\r\n",
      "Requirement already satisfied: wcwidth in /opt/conda/lib/python3.7/site-packages (from prompt-toolkit!=3.0.0,!=3.0.1,<3.1.0,>=2.0.0->ipython==7.*->livelossplot) (0.2.5)\r\n",
      "Requirement already satisfied: six>=1.5 in /opt/conda/lib/python3.7/site-packages (from python-dateutil>=2.7->matplotlib->livelossplot) (1.16.0)\r\n",
      "Installing collected packages: livelossplot\r\n",
      "Successfully installed livelossplot-0.5.5\r\n",
      "\u001b[33mWARNING: Running pip as the 'root' user can result in broken permissions and conflicting behaviour with the system package manager. It is recommended to use a virtual environment instead: https://pip.pypa.io/warnings/venv\u001b[0m\u001b[33m\r\n",
      "\u001b[0m"
     ]
    }
   ],
   "source": [
    "!pip install livelossplot"
   ]
  },
  {
   "cell_type": "code",
   "execution_count": 2,
   "id": "a139fad4",
   "metadata": {
    "execution": {
     "iopub.execute_input": "2022-05-15T14:11:17.685487Z",
     "iopub.status.busy": "2022-05-15T14:11:17.685071Z",
     "iopub.status.idle": "2022-05-15T14:11:25.206624Z",
     "shell.execute_reply": "2022-05-15T14:11:25.205648Z"
    },
    "papermill": {
     "duration": 7.567582,
     "end_time": "2022-05-15T14:11:25.209529",
     "exception": false,
     "start_time": "2022-05-15T14:11:17.641947",
     "status": "completed"
    },
    "tags": []
   },
   "outputs": [
    {
     "data": {
      "application/javascript": [
       "IPython.notebook.set_autosave_interval(30000)"
      ]
     },
     "metadata": {},
     "output_type": "display_data"
    },
    {
     "name": "stdout",
     "output_type": "stream",
     "text": [
      "Autosaving every 30 seconds\n"
     ]
    }
   ],
   "source": [
    "from os import listdir\n",
    "import numpy as np\n",
    "import pandas as pd\n",
    "from tqdm import tqdm\n",
    "import matplotlib.pyplot as plt\n",
    "%matplotlib inline\n",
    "import seaborn as sns\n",
    "import tensorflow as tf\n",
    "from sklearn.preprocessing import StandardScaler\n",
    "from livelossplot import PlotLossesKeras\n",
    "sns.set_theme()\n",
    "import warnings\n",
    "warnings.filterwarnings('ignore')\n",
    "%autosave 30"
   ]
  },
  {
   "cell_type": "code",
   "execution_count": 3,
   "id": "236b56d7",
   "metadata": {
    "execution": {
     "iopub.execute_input": "2022-05-15T14:11:25.298164Z",
     "iopub.status.busy": "2022-05-15T14:11:25.297129Z",
     "iopub.status.idle": "2022-05-15T14:11:26.373615Z",
     "shell.execute_reply": "2022-05-15T14:11:26.372387Z"
    },
    "papermill": {
     "duration": 1.124289,
     "end_time": "2022-05-15T14:11:26.376558",
     "exception": false,
     "start_time": "2022-05-15T14:11:25.252269",
     "status": "completed"
    },
    "tags": []
   },
   "outputs": [],
   "source": [
    "#dft = pd.read_csv(r'C:\\Users\\asuto\\Desktop\\Work\\Datasets\\NIFTY50\\NIFTYMASTERDATA.csv',index_col='Date',parse_dates=True)\n",
    "\n",
    "url = 'https://raw.githubusercontent.com/AsutoshDalei/stock-work/main/NIFTYMASTERDATA.csv'\n",
    "dft = pd.read_csv(url,parse_dates=True)\n",
    "dft['Date'] = pd.to_datetime(dft['Date'])\n",
    "dft.set_index('Date',inplace = True)\n",
    "dft\n",
    "\n",
    "comps = dft.Symbol.unique()"
   ]
  },
  {
   "cell_type": "code",
   "execution_count": 4,
   "id": "2c9f90f7",
   "metadata": {
    "execution": {
     "iopub.execute_input": "2022-05-15T14:11:26.463249Z",
     "iopub.status.busy": "2022-05-15T14:11:26.462454Z",
     "iopub.status.idle": "2022-05-15T14:11:26.493626Z",
     "shell.execute_reply": "2022-05-15T14:11:26.492684Z"
    },
    "papermill": {
     "duration": 0.077358,
     "end_time": "2022-05-15T14:11:26.496127",
     "exception": false,
     "start_time": "2022-05-15T14:11:26.418769",
     "status": "completed"
    },
    "tags": []
   },
   "outputs": [
    {
     "data": {
      "text/html": [
       "<div>\n",
       "<style scoped>\n",
       "    .dataframe tbody tr th:only-of-type {\n",
       "        vertical-align: middle;\n",
       "    }\n",
       "\n",
       "    .dataframe tbody tr th {\n",
       "        vertical-align: top;\n",
       "    }\n",
       "\n",
       "    .dataframe thead th {\n",
       "        text-align: right;\n",
       "    }\n",
       "</style>\n",
       "<table border=\"1\" class=\"dataframe\">\n",
       "  <thead>\n",
       "    <tr style=\"text-align: right;\">\n",
       "      <th></th>\n",
       "      <th>Symbol</th>\n",
       "      <th>Prev Close</th>\n",
       "      <th>Open</th>\n",
       "      <th>High</th>\n",
       "      <th>Low</th>\n",
       "      <th>Close</th>\n",
       "      <th>Last</th>\n",
       "      <th>Volume</th>\n",
       "      <th>Turnover</th>\n",
       "    </tr>\n",
       "    <tr>\n",
       "      <th>Date</th>\n",
       "      <th></th>\n",
       "      <th></th>\n",
       "      <th></th>\n",
       "      <th></th>\n",
       "      <th></th>\n",
       "      <th></th>\n",
       "      <th></th>\n",
       "      <th></th>\n",
       "      <th></th>\n",
       "    </tr>\n",
       "  </thead>\n",
       "  <tbody>\n",
       "    <tr>\n",
       "      <th>2010-11-04</th>\n",
       "      <td>ADANIPORTS</td>\n",
       "      <td>159.90</td>\n",
       "      <td>161.0</td>\n",
       "      <td>163.00</td>\n",
       "      <td>160.30</td>\n",
       "      <td>161.20</td>\n",
       "      <td>161.05</td>\n",
       "      <td>835546</td>\n",
       "      <td>1.348395e+13</td>\n",
       "    </tr>\n",
       "    <tr>\n",
       "      <th>2010-11-05</th>\n",
       "      <td>ADANIPORTS</td>\n",
       "      <td>161.20</td>\n",
       "      <td>163.0</td>\n",
       "      <td>163.00</td>\n",
       "      <td>161.60</td>\n",
       "      <td>162.30</td>\n",
       "      <td>162.35</td>\n",
       "      <td>187158</td>\n",
       "      <td>3.037435e+12</td>\n",
       "    </tr>\n",
       "    <tr>\n",
       "      <th>2010-11-08</th>\n",
       "      <td>ADANIPORTS</td>\n",
       "      <td>162.30</td>\n",
       "      <td>162.5</td>\n",
       "      <td>163.45</td>\n",
       "      <td>160.20</td>\n",
       "      <td>161.40</td>\n",
       "      <td>161.30</td>\n",
       "      <td>613082</td>\n",
       "      <td>9.911300e+12</td>\n",
       "    </tr>\n",
       "    <tr>\n",
       "      <th>2010-11-09</th>\n",
       "      <td>ADANIPORTS</td>\n",
       "      <td>161.40</td>\n",
       "      <td>162.5</td>\n",
       "      <td>165.00</td>\n",
       "      <td>161.35</td>\n",
       "      <td>162.25</td>\n",
       "      <td>162.40</td>\n",
       "      <td>601933</td>\n",
       "      <td>9.825511e+12</td>\n",
       "    </tr>\n",
       "    <tr>\n",
       "      <th>2010-11-10</th>\n",
       "      <td>ADANIPORTS</td>\n",
       "      <td>162.25</td>\n",
       "      <td>162.5</td>\n",
       "      <td>162.90</td>\n",
       "      <td>159.55</td>\n",
       "      <td>159.90</td>\n",
       "      <td>160.00</td>\n",
       "      <td>423032</td>\n",
       "      <td>6.795621e+12</td>\n",
       "    </tr>\n",
       "    <tr>\n",
       "      <th>...</th>\n",
       "      <td>...</td>\n",
       "      <td>...</td>\n",
       "      <td>...</td>\n",
       "      <td>...</td>\n",
       "      <td>...</td>\n",
       "      <td>...</td>\n",
       "      <td>...</td>\n",
       "      <td>...</td>\n",
       "      <td>...</td>\n",
       "    </tr>\n",
       "    <tr>\n",
       "      <th>2021-04-26</th>\n",
       "      <td>ZEEL</td>\n",
       "      <td>188.00</td>\n",
       "      <td>190.6</td>\n",
       "      <td>191.10</td>\n",
       "      <td>185.10</td>\n",
       "      <td>186.40</td>\n",
       "      <td>186.70</td>\n",
       "      <td>8542755</td>\n",
       "      <td>1.600451e+14</td>\n",
       "    </tr>\n",
       "    <tr>\n",
       "      <th>2021-04-27</th>\n",
       "      <td>ZEEL</td>\n",
       "      <td>186.40</td>\n",
       "      <td>188.0</td>\n",
       "      <td>192.95</td>\n",
       "      <td>186.80</td>\n",
       "      <td>188.15</td>\n",
       "      <td>188.80</td>\n",
       "      <td>14247767</td>\n",
       "      <td>2.698636e+14</td>\n",
       "    </tr>\n",
       "    <tr>\n",
       "      <th>2021-04-28</th>\n",
       "      <td>ZEEL</td>\n",
       "      <td>188.15</td>\n",
       "      <td>188.8</td>\n",
       "      <td>190.60</td>\n",
       "      <td>187.10</td>\n",
       "      <td>189.10</td>\n",
       "      <td>188.95</td>\n",
       "      <td>8429439</td>\n",
       "      <td>1.591917e+14</td>\n",
       "    </tr>\n",
       "    <tr>\n",
       "      <th>2021-04-29</th>\n",
       "      <td>ZEEL</td>\n",
       "      <td>189.10</td>\n",
       "      <td>190.8</td>\n",
       "      <td>191.65</td>\n",
       "      <td>186.00</td>\n",
       "      <td>186.55</td>\n",
       "      <td>186.60</td>\n",
       "      <td>9483009</td>\n",
       "      <td>1.777471e+14</td>\n",
       "    </tr>\n",
       "    <tr>\n",
       "      <th>2021-04-30</th>\n",
       "      <td>ZEEL</td>\n",
       "      <td>186.55</td>\n",
       "      <td>185.3</td>\n",
       "      <td>190.95</td>\n",
       "      <td>183.65</td>\n",
       "      <td>185.60</td>\n",
       "      <td>185.00</td>\n",
       "      <td>11435285</td>\n",
       "      <td>2.144440e+14</td>\n",
       "    </tr>\n",
       "  </tbody>\n",
       "</table>\n",
       "<p>127302 rows × 9 columns</p>\n",
       "</div>"
      ],
      "text/plain": [
       "                Symbol  Prev Close   Open    High     Low   Close    Last  \\\n",
       "Date                                                                        \n",
       "2010-11-04  ADANIPORTS      159.90  161.0  163.00  160.30  161.20  161.05   \n",
       "2010-11-05  ADANIPORTS      161.20  163.0  163.00  161.60  162.30  162.35   \n",
       "2010-11-08  ADANIPORTS      162.30  162.5  163.45  160.20  161.40  161.30   \n",
       "2010-11-09  ADANIPORTS      161.40  162.5  165.00  161.35  162.25  162.40   \n",
       "2010-11-10  ADANIPORTS      162.25  162.5  162.90  159.55  159.90  160.00   \n",
       "...                ...         ...    ...     ...     ...     ...     ...   \n",
       "2021-04-26        ZEEL      188.00  190.6  191.10  185.10  186.40  186.70   \n",
       "2021-04-27        ZEEL      186.40  188.0  192.95  186.80  188.15  188.80   \n",
       "2021-04-28        ZEEL      188.15  188.8  190.60  187.10  189.10  188.95   \n",
       "2021-04-29        ZEEL      189.10  190.8  191.65  186.00  186.55  186.60   \n",
       "2021-04-30        ZEEL      186.55  185.3  190.95  183.65  185.60  185.00   \n",
       "\n",
       "              Volume      Turnover  \n",
       "Date                                \n",
       "2010-11-04    835546  1.348395e+13  \n",
       "2010-11-05    187158  3.037435e+12  \n",
       "2010-11-08    613082  9.911300e+12  \n",
       "2010-11-09    601933  9.825511e+12  \n",
       "2010-11-10    423032  6.795621e+12  \n",
       "...              ...           ...  \n",
       "2021-04-26   8542755  1.600451e+14  \n",
       "2021-04-27  14247767  2.698636e+14  \n",
       "2021-04-28   8429439  1.591917e+14  \n",
       "2021-04-29   9483009  1.777471e+14  \n",
       "2021-04-30  11435285  2.144440e+14  \n",
       "\n",
       "[127302 rows x 9 columns]"
      ]
     },
     "execution_count": 4,
     "metadata": {},
     "output_type": "execute_result"
    }
   ],
   "source": [
    "dft"
   ]
  },
  {
   "cell_type": "markdown",
   "id": "d567144a",
   "metadata": {
    "papermill": {
     "duration": 0.044591,
     "end_time": "2022-05-15T14:11:26.582785",
     "exception": false,
     "start_time": "2022-05-15T14:11:26.538194",
     "status": "completed"
    },
    "tags": []
   },
   "source": [
    "## Below are the companies the model will be monitoring"
   ]
  },
  {
   "cell_type": "code",
   "execution_count": 5,
   "id": "d4da9a8c",
   "metadata": {
    "execution": {
     "iopub.execute_input": "2022-05-15T14:11:26.669874Z",
     "iopub.status.busy": "2022-05-15T14:11:26.669487Z",
     "iopub.status.idle": "2022-05-15T14:11:26.675991Z",
     "shell.execute_reply": "2022-05-15T14:11:26.674952Z"
    },
    "papermill": {
     "duration": 0.053616,
     "end_time": "2022-05-15T14:11:26.678640",
     "exception": false,
     "start_time": "2022-05-15T14:11:26.625024",
     "status": "completed"
    },
    "tags": []
   },
   "outputs": [
    {
     "data": {
      "text/plain": [
       "array(['ADANIPORTS', 'ASIANPAINT', 'AXISBANK', 'BAJAJ-AUTO', 'BAJAJFINSV',\n",
       "       'BAJFINANCE', 'BHARTIARTL', 'BPCL', 'BRITANNIA', 'CIPLA',\n",
       "       'COALINDIA', 'DRREDDY', 'EICHERMOT', 'GAIL', 'GRASIM', 'HCLTECH',\n",
       "       'HDFC', 'HDFCBANK', 'HEROMOTOCO', 'HINDALCO', 'HINDUNILVR',\n",
       "       'ICICIBANK', 'INDUSINDBK', 'INFY', 'IOC', 'ITC', 'JSWSTEEL',\n",
       "       'KOTAKBANK', 'LT', 'MARUTI', 'MM', 'NESTLEIND', 'NTPC', 'ONGC',\n",
       "       'POWERGRID', 'RELIANCE', 'SBIN', 'SHREECEM', 'SUNPHARMA',\n",
       "       'TATAMOTORS', 'TATASTEEL', 'TCS', 'TECHM', 'TITAN', 'ULTRACEMCO',\n",
       "       'UPL', 'VEDL', 'WIPRO', 'ZEEL'], dtype=object)"
      ]
     },
     "execution_count": 5,
     "metadata": {},
     "output_type": "execute_result"
    }
   ],
   "source": [
    "comps"
   ]
  },
  {
   "cell_type": "code",
   "execution_count": 6,
   "id": "6950a3a9",
   "metadata": {
    "execution": {
     "iopub.execute_input": "2022-05-15T14:11:26.766475Z",
     "iopub.status.busy": "2022-05-15T14:11:26.765583Z",
     "iopub.status.idle": "2022-05-15T14:11:26.774415Z",
     "shell.execute_reply": "2022-05-15T14:11:26.773531Z"
    },
    "papermill": {
     "duration": 0.054923,
     "end_time": "2022-05-15T14:11:26.776571",
     "exception": false,
     "start_time": "2022-05-15T14:11:26.721648",
     "status": "completed"
    },
    "tags": []
   },
   "outputs": [
    {
     "data": {
      "text/plain": [
       "30"
      ]
     },
     "execution_count": 6,
     "metadata": {},
     "output_type": "execute_result"
    }
   ],
   "source": [
    "comp30 = ['INFY','TCS','RELIANCE','ICICIBANK','HDFC','HCLTECH','BHARTIARTL',\n",
    "          'INDUSINDBK','SBIN','LT','TECHM','MM','AXISBANK','ITC','BAJAJ-AUTO','ONGC',\n",
    "          'TATASTEEL','NTPC','TECHM','ASIANPAINT','POWERGRID','BAJAJFINSV','TITAN','NESTLEIND',\n",
    "          'ULTRACEMCO','MARUTI','HDFCBANK','HINDUNILVR','SUNPHARMA','KOTAKBANK'  \n",
    "         ]\n",
    "len(comp30)"
   ]
  },
  {
   "cell_type": "code",
   "execution_count": 7,
   "id": "06016a27",
   "metadata": {
    "execution": {
     "iopub.execute_input": "2022-05-15T14:11:26.864698Z",
     "iopub.status.busy": "2022-05-15T14:11:26.863748Z",
     "iopub.status.idle": "2022-05-15T14:11:26.868224Z",
     "shell.execute_reply": "2022-05-15T14:11:26.867537Z"
    },
    "papermill": {
     "duration": 0.051012,
     "end_time": "2022-05-15T14:11:26.870464",
     "exception": false,
     "start_time": "2022-05-15T14:11:26.819452",
     "status": "completed"
    },
    "tags": []
   },
   "outputs": [],
   "source": [
    "#comp30"
   ]
  },
  {
   "cell_type": "markdown",
   "id": "60560157",
   "metadata": {
    "papermill": {
     "duration": 0.042331,
     "end_time": "2022-05-15T14:11:26.955678",
     "exception": false,
     "start_time": "2022-05-15T14:11:26.913347",
     "status": "completed"
    },
    "tags": []
   },
   "source": [
    "## Various columns and the dataframe itself"
   ]
  },
  {
   "cell_type": "code",
   "execution_count": 8,
   "id": "bd1c9bae",
   "metadata": {
    "execution": {
     "iopub.execute_input": "2022-05-15T14:11:27.044328Z",
     "iopub.status.busy": "2022-05-15T14:11:27.043569Z",
     "iopub.status.idle": "2022-05-15T14:11:27.069084Z",
     "shell.execute_reply": "2022-05-15T14:11:27.068155Z"
    },
    "papermill": {
     "duration": 0.073013,
     "end_time": "2022-05-15T14:11:27.071425",
     "exception": false,
     "start_time": "2022-05-15T14:11:26.998412",
     "status": "completed"
    },
    "tags": []
   },
   "outputs": [
    {
     "data": {
      "text/html": [
       "<div>\n",
       "<style scoped>\n",
       "    .dataframe tbody tr th:only-of-type {\n",
       "        vertical-align: middle;\n",
       "    }\n",
       "\n",
       "    .dataframe tbody tr th {\n",
       "        vertical-align: top;\n",
       "    }\n",
       "\n",
       "    .dataframe thead th {\n",
       "        text-align: right;\n",
       "    }\n",
       "</style>\n",
       "<table border=\"1\" class=\"dataframe\">\n",
       "  <thead>\n",
       "    <tr style=\"text-align: right;\">\n",
       "      <th></th>\n",
       "      <th>Symbol</th>\n",
       "      <th>Prev Close</th>\n",
       "      <th>Open</th>\n",
       "      <th>High</th>\n",
       "      <th>Low</th>\n",
       "      <th>Close</th>\n",
       "      <th>Last</th>\n",
       "      <th>Volume</th>\n",
       "      <th>Turnover</th>\n",
       "    </tr>\n",
       "    <tr>\n",
       "      <th>Date</th>\n",
       "      <th></th>\n",
       "      <th></th>\n",
       "      <th></th>\n",
       "      <th></th>\n",
       "      <th></th>\n",
       "      <th></th>\n",
       "      <th></th>\n",
       "      <th></th>\n",
       "      <th></th>\n",
       "    </tr>\n",
       "  </thead>\n",
       "  <tbody>\n",
       "    <tr>\n",
       "      <th>2010-11-04</th>\n",
       "      <td>ADANIPORTS</td>\n",
       "      <td>159.90</td>\n",
       "      <td>161.0</td>\n",
       "      <td>163.00</td>\n",
       "      <td>160.30</td>\n",
       "      <td>161.20</td>\n",
       "      <td>161.05</td>\n",
       "      <td>835546</td>\n",
       "      <td>1.348395e+13</td>\n",
       "    </tr>\n",
       "    <tr>\n",
       "      <th>2010-11-05</th>\n",
       "      <td>ADANIPORTS</td>\n",
       "      <td>161.20</td>\n",
       "      <td>163.0</td>\n",
       "      <td>163.00</td>\n",
       "      <td>161.60</td>\n",
       "      <td>162.30</td>\n",
       "      <td>162.35</td>\n",
       "      <td>187158</td>\n",
       "      <td>3.037435e+12</td>\n",
       "    </tr>\n",
       "    <tr>\n",
       "      <th>2010-11-08</th>\n",
       "      <td>ADANIPORTS</td>\n",
       "      <td>162.30</td>\n",
       "      <td>162.5</td>\n",
       "      <td>163.45</td>\n",
       "      <td>160.20</td>\n",
       "      <td>161.40</td>\n",
       "      <td>161.30</td>\n",
       "      <td>613082</td>\n",
       "      <td>9.911300e+12</td>\n",
       "    </tr>\n",
       "    <tr>\n",
       "      <th>2010-11-09</th>\n",
       "      <td>ADANIPORTS</td>\n",
       "      <td>161.40</td>\n",
       "      <td>162.5</td>\n",
       "      <td>165.00</td>\n",
       "      <td>161.35</td>\n",
       "      <td>162.25</td>\n",
       "      <td>162.40</td>\n",
       "      <td>601933</td>\n",
       "      <td>9.825511e+12</td>\n",
       "    </tr>\n",
       "    <tr>\n",
       "      <th>2010-11-10</th>\n",
       "      <td>ADANIPORTS</td>\n",
       "      <td>162.25</td>\n",
       "      <td>162.5</td>\n",
       "      <td>162.90</td>\n",
       "      <td>159.55</td>\n",
       "      <td>159.90</td>\n",
       "      <td>160.00</td>\n",
       "      <td>423032</td>\n",
       "      <td>6.795621e+12</td>\n",
       "    </tr>\n",
       "    <tr>\n",
       "      <th>...</th>\n",
       "      <td>...</td>\n",
       "      <td>...</td>\n",
       "      <td>...</td>\n",
       "      <td>...</td>\n",
       "      <td>...</td>\n",
       "      <td>...</td>\n",
       "      <td>...</td>\n",
       "      <td>...</td>\n",
       "      <td>...</td>\n",
       "    </tr>\n",
       "    <tr>\n",
       "      <th>2021-04-26</th>\n",
       "      <td>ZEEL</td>\n",
       "      <td>188.00</td>\n",
       "      <td>190.6</td>\n",
       "      <td>191.10</td>\n",
       "      <td>185.10</td>\n",
       "      <td>186.40</td>\n",
       "      <td>186.70</td>\n",
       "      <td>8542755</td>\n",
       "      <td>1.600451e+14</td>\n",
       "    </tr>\n",
       "    <tr>\n",
       "      <th>2021-04-27</th>\n",
       "      <td>ZEEL</td>\n",
       "      <td>186.40</td>\n",
       "      <td>188.0</td>\n",
       "      <td>192.95</td>\n",
       "      <td>186.80</td>\n",
       "      <td>188.15</td>\n",
       "      <td>188.80</td>\n",
       "      <td>14247767</td>\n",
       "      <td>2.698636e+14</td>\n",
       "    </tr>\n",
       "    <tr>\n",
       "      <th>2021-04-28</th>\n",
       "      <td>ZEEL</td>\n",
       "      <td>188.15</td>\n",
       "      <td>188.8</td>\n",
       "      <td>190.60</td>\n",
       "      <td>187.10</td>\n",
       "      <td>189.10</td>\n",
       "      <td>188.95</td>\n",
       "      <td>8429439</td>\n",
       "      <td>1.591917e+14</td>\n",
       "    </tr>\n",
       "    <tr>\n",
       "      <th>2021-04-29</th>\n",
       "      <td>ZEEL</td>\n",
       "      <td>189.10</td>\n",
       "      <td>190.8</td>\n",
       "      <td>191.65</td>\n",
       "      <td>186.00</td>\n",
       "      <td>186.55</td>\n",
       "      <td>186.60</td>\n",
       "      <td>9483009</td>\n",
       "      <td>1.777471e+14</td>\n",
       "    </tr>\n",
       "    <tr>\n",
       "      <th>2021-04-30</th>\n",
       "      <td>ZEEL</td>\n",
       "      <td>186.55</td>\n",
       "      <td>185.3</td>\n",
       "      <td>190.95</td>\n",
       "      <td>183.65</td>\n",
       "      <td>185.60</td>\n",
       "      <td>185.00</td>\n",
       "      <td>11435285</td>\n",
       "      <td>2.144440e+14</td>\n",
       "    </tr>\n",
       "  </tbody>\n",
       "</table>\n",
       "<p>127302 rows × 9 columns</p>\n",
       "</div>"
      ],
      "text/plain": [
       "                Symbol  Prev Close   Open    High     Low   Close    Last  \\\n",
       "Date                                                                        \n",
       "2010-11-04  ADANIPORTS      159.90  161.0  163.00  160.30  161.20  161.05   \n",
       "2010-11-05  ADANIPORTS      161.20  163.0  163.00  161.60  162.30  162.35   \n",
       "2010-11-08  ADANIPORTS      162.30  162.5  163.45  160.20  161.40  161.30   \n",
       "2010-11-09  ADANIPORTS      161.40  162.5  165.00  161.35  162.25  162.40   \n",
       "2010-11-10  ADANIPORTS      162.25  162.5  162.90  159.55  159.90  160.00   \n",
       "...                ...         ...    ...     ...     ...     ...     ...   \n",
       "2021-04-26        ZEEL      188.00  190.6  191.10  185.10  186.40  186.70   \n",
       "2021-04-27        ZEEL      186.40  188.0  192.95  186.80  188.15  188.80   \n",
       "2021-04-28        ZEEL      188.15  188.8  190.60  187.10  189.10  188.95   \n",
       "2021-04-29        ZEEL      189.10  190.8  191.65  186.00  186.55  186.60   \n",
       "2021-04-30        ZEEL      186.55  185.3  190.95  183.65  185.60  185.00   \n",
       "\n",
       "              Volume      Turnover  \n",
       "Date                                \n",
       "2010-11-04    835546  1.348395e+13  \n",
       "2010-11-05    187158  3.037435e+12  \n",
       "2010-11-08    613082  9.911300e+12  \n",
       "2010-11-09    601933  9.825511e+12  \n",
       "2010-11-10    423032  6.795621e+12  \n",
       "...              ...           ...  \n",
       "2021-04-26   8542755  1.600451e+14  \n",
       "2021-04-27  14247767  2.698636e+14  \n",
       "2021-04-28   8429439  1.591917e+14  \n",
       "2021-04-29   9483009  1.777471e+14  \n",
       "2021-04-30  11435285  2.144440e+14  \n",
       "\n",
       "[127302 rows x 9 columns]"
      ]
     },
     "execution_count": 8,
     "metadata": {},
     "output_type": "execute_result"
    }
   ],
   "source": [
    "cols = ['Symbol','Prev Close', 'Open', 'High', 'Low','Close' ,'Last','Volume', 'Turnover']\n",
    "dft"
   ]
  },
  {
   "cell_type": "code",
   "execution_count": null,
   "id": "2621a067",
   "metadata": {
    "papermill": {
     "duration": 0.043947,
     "end_time": "2022-05-15T14:11:27.163797",
     "exception": false,
     "start_time": "2022-05-15T14:11:27.119850",
     "status": "completed"
    },
    "tags": []
   },
   "outputs": [],
   "source": []
  },
  {
   "cell_type": "markdown",
   "id": "35f6ba46",
   "metadata": {
    "papermill": {
     "duration": 0.045031,
     "end_time": "2022-05-15T14:11:27.253460",
     "exception": false,
     "start_time": "2022-05-15T14:11:27.208429",
     "status": "completed"
    },
    "tags": []
   },
   "source": [
    "## Get Data Function"
   ]
  },
  {
   "cell_type": "code",
   "execution_count": 9,
   "id": "df4f89f0",
   "metadata": {
    "execution": {
     "iopub.execute_input": "2022-05-15T14:11:27.344309Z",
     "iopub.status.busy": "2022-05-15T14:11:27.343950Z",
     "iopub.status.idle": "2022-05-15T14:11:27.348464Z",
     "shell.execute_reply": "2022-05-15T14:11:27.347518Z"
    },
    "papermill": {
     "duration": 0.053338,
     "end_time": "2022-05-15T14:11:27.350755",
     "exception": false,
     "start_time": "2022-05-15T14:11:27.297417",
     "status": "completed"
    },
    "tags": []
   },
   "outputs": [],
   "source": [
    "def get_data(stock,feature):\n",
    "    return dft[dft.Symbol == stock][feature]"
   ]
  },
  {
   "cell_type": "code",
   "execution_count": null,
   "id": "49e77d3b",
   "metadata": {
    "papermill": {
     "duration": 0.043586,
     "end_time": "2022-05-15T14:11:27.439696",
     "exception": false,
     "start_time": "2022-05-15T14:11:27.396110",
     "status": "completed"
    },
    "tags": []
   },
   "outputs": [],
   "source": []
  },
  {
   "cell_type": "markdown",
   "id": "72d029eb",
   "metadata": {
    "papermill": {
     "duration": 0.043463,
     "end_time": "2022-05-15T14:11:27.526741",
     "exception": false,
     "start_time": "2022-05-15T14:11:27.483278",
     "status": "completed"
    },
    "tags": []
   },
   "source": [
    "## Generate Data Function\n",
    "**This function returns a dataframe containing the following features of a stock:**\n",
    "- Opening Price\n",
    "- Day wise difference\n",
    "- Consecutive day opening price difference\n",
    "- MACD Histogram value for the day\n",
    "- RSI value for the day\n",
    "\n",
    "These features are returned as a dataframe, which will later be used for time series forecasting."
   ]
  },
  {
   "cell_type": "code",
   "execution_count": 10,
   "id": "b5541209",
   "metadata": {
    "execution": {
     "iopub.execute_input": "2022-05-15T14:11:27.616406Z",
     "iopub.status.busy": "2022-05-15T14:11:27.616058Z",
     "iopub.status.idle": "2022-05-15T14:11:27.630457Z",
     "shell.execute_reply": "2022-05-15T14:11:27.629589Z"
    },
    "papermill": {
     "duration": 0.062387,
     "end_time": "2022-05-15T14:11:27.633062",
     "exception": false,
     "start_time": "2022-05-15T14:11:27.570675",
     "status": "completed"
    },
    "tags": []
   },
   "outputs": [],
   "source": [
    "def generate_data(stock,feature,slow=26,fast=12,smooth=9,lookback=14):\n",
    "    op = get_data(stock,'Open') # Open\n",
    "    cl = get_data(stock,'Close') # Close\n",
    "    #diff = cl-op # Daily Difference\n",
    "    ewa1 = op.ewm(span=slow,min_periods=0,adjust=False).mean()\n",
    "    datf = ewa1.diff() # Consecutive Day Difference\n",
    "    ewa2 = op.ewm(span=fast,min_periods=0,adjust=False).mean()\n",
    "    macd = ewa2-ewa1\n",
    "    signal = macd.ewm(span=smooth,min_periods=0,adjust=False).mean().values\n",
    "    hist = macd - signal # MACD Difference\n",
    "    \n",
    "    #datf = op.diff()\n",
    "    up = []\n",
    "    down = []\n",
    "    for i in range(len(datf)):\n",
    "        if datf[i] < 0:\n",
    "            up.append(0)\n",
    "            down.append(datf[i])\n",
    "        else:\n",
    "            up.append(datf[i])\n",
    "            down.append(0)\n",
    "            \n",
    "    up_series = pd.Series(up)\n",
    "    down_series = pd.Series(down).abs()\n",
    "    up_ewm = up_series.ewm(com = lookback - 1, adjust = False).mean()\n",
    "    down_ewm = down_series.ewm(com = lookback - 1, adjust = False).mean()\n",
    "    rs = up_ewm/down_ewm\n",
    "    rsi = 100 - (100 / (1 + rs)) # RSI\n",
    "    \n",
    "    final = {'open':op.values,'close':cl.values,'cdiff':datf.values,\n",
    "             'macdhist':hist.values,'rsi':rsi.values\n",
    "            }\n",
    "    \n",
    "    df = pd.DataFrame(final)\n",
    "    df.set_index(op.index,inplace=True)\n",
    "    df.interpolate(limit_direction ='backward',methoh = 'linear',inplace=True)\n",
    "    \n",
    "    return df\n",
    "    "
   ]
  },
  {
   "cell_type": "code",
   "execution_count": 11,
   "id": "4e481b2b",
   "metadata": {
    "execution": {
     "iopub.execute_input": "2022-05-15T14:11:27.723125Z",
     "iopub.status.busy": "2022-05-15T14:11:27.722203Z",
     "iopub.status.idle": "2022-05-15T14:11:27.824169Z",
     "shell.execute_reply": "2022-05-15T14:11:27.823182Z"
    },
    "papermill": {
     "duration": 0.150066,
     "end_time": "2022-05-15T14:11:27.826973",
     "exception": false,
     "start_time": "2022-05-15T14:11:27.676907",
     "status": "completed"
    },
    "tags": []
   },
   "outputs": [
    {
     "name": "stdout",
     "output_type": "stream",
     "text": [
      "CPU times: user 70.1 ms, sys: 5.77 ms, total: 75.8 ms\n",
      "Wall time: 80.3 ms\n"
     ]
    },
    {
     "data": {
      "text/html": [
       "<div>\n",
       "<style scoped>\n",
       "    .dataframe tbody tr th:only-of-type {\n",
       "        vertical-align: middle;\n",
       "    }\n",
       "\n",
       "    .dataframe tbody tr th {\n",
       "        vertical-align: top;\n",
       "    }\n",
       "\n",
       "    .dataframe thead th {\n",
       "        text-align: right;\n",
       "    }\n",
       "</style>\n",
       "<table border=\"1\" class=\"dataframe\">\n",
       "  <thead>\n",
       "    <tr style=\"text-align: right;\">\n",
       "      <th></th>\n",
       "      <th>open</th>\n",
       "      <th>close</th>\n",
       "      <th>cdiff</th>\n",
       "      <th>macdhist</th>\n",
       "      <th>rsi</th>\n",
       "    </tr>\n",
       "    <tr>\n",
       "      <th>Date</th>\n",
       "      <th></th>\n",
       "      <th></th>\n",
       "      <th></th>\n",
       "      <th></th>\n",
       "      <th></th>\n",
       "    </tr>\n",
       "  </thead>\n",
       "  <tbody>\n",
       "    <tr>\n",
       "      <th>2010-11-04</th>\n",
       "      <td>1501.00</td>\n",
       "      <td>1507.60</td>\n",
       "      <td>1.777778</td>\n",
       "      <td>0.000000</td>\n",
       "      <td>100.000000</td>\n",
       "    </tr>\n",
       "    <tr>\n",
       "      <th>2010-11-05</th>\n",
       "      <td>1525.00</td>\n",
       "      <td>1512.35</td>\n",
       "      <td>1.777778</td>\n",
       "      <td>1.531624</td>\n",
       "      <td>100.000000</td>\n",
       "    </tr>\n",
       "    <tr>\n",
       "      <th>2010-11-08</th>\n",
       "      <td>1515.00</td>\n",
       "      <td>1488.60</td>\n",
       "      <td>0.905350</td>\n",
       "      <td>1.769658</td>\n",
       "      <td>100.000000</td>\n",
       "    </tr>\n",
       "    <tr>\n",
       "      <th>2010-11-09</th>\n",
       "      <td>1490.00</td>\n",
       "      <td>1471.95</td>\n",
       "      <td>-1.013565</td>\n",
       "      <td>0.223119</td>\n",
       "      <td>95.652653</td>\n",
       "    </tr>\n",
       "    <tr>\n",
       "      <th>2010-11-10</th>\n",
       "      <td>1475.00</td>\n",
       "      <td>1475.10</td>\n",
       "      <td>-2.049597</td>\n",
       "      <td>-1.723215</td>\n",
       "      <td>87.380120</td>\n",
       "    </tr>\n",
       "    <tr>\n",
       "      <th>...</th>\n",
       "      <td>...</td>\n",
       "      <td>...</td>\n",
       "      <td>...</td>\n",
       "      <td>...</td>\n",
       "      <td>...</td>\n",
       "    </tr>\n",
       "    <tr>\n",
       "      <th>2021-04-26</th>\n",
       "      <td>6690.20</td>\n",
       "      <td>6638.90</td>\n",
       "      <td>-11.953606</td>\n",
       "      <td>0.907720</td>\n",
       "      <td>1.374358</td>\n",
       "    </tr>\n",
       "    <tr>\n",
       "      <th>2021-04-27</th>\n",
       "      <td>6669.95</td>\n",
       "      <td>6568.75</td>\n",
       "      <td>-12.568154</td>\n",
       "      <td>7.469229</td>\n",
       "      <td>1.309428</td>\n",
       "    </tr>\n",
       "    <tr>\n",
       "      <th>2021-04-28</th>\n",
       "      <td>6568.75</td>\n",
       "      <td>6573.80</td>\n",
       "      <td>-19.133476</td>\n",
       "      <td>6.024766</td>\n",
       "      <td>1.215296</td>\n",
       "    </tr>\n",
       "    <tr>\n",
       "      <th>2021-04-29</th>\n",
       "      <td>6635.00</td>\n",
       "      <td>6565.65</td>\n",
       "      <td>-12.808774</td>\n",
       "      <td>10.310572</td>\n",
       "      <td>1.155414</td>\n",
       "    </tr>\n",
       "    <tr>\n",
       "      <th>2021-04-30</th>\n",
       "      <td>6537.10</td>\n",
       "      <td>6455.65</td>\n",
       "      <td>-19.111828</td>\n",
       "      <td>7.464161</td>\n",
       "      <td>1.070645</td>\n",
       "    </tr>\n",
       "  </tbody>\n",
       "</table>\n",
       "<p>2598 rows × 5 columns</p>\n",
       "</div>"
      ],
      "text/plain": [
       "               open    close      cdiff   macdhist         rsi\n",
       "Date                                                          \n",
       "2010-11-04  1501.00  1507.60   1.777778   0.000000  100.000000\n",
       "2010-11-05  1525.00  1512.35   1.777778   1.531624  100.000000\n",
       "2010-11-08  1515.00  1488.60   0.905350   1.769658  100.000000\n",
       "2010-11-09  1490.00  1471.95  -1.013565   0.223119   95.652653\n",
       "2010-11-10  1475.00  1475.10  -2.049597  -1.723215   87.380120\n",
       "...             ...      ...        ...        ...         ...\n",
       "2021-04-26  6690.20  6638.90 -11.953606   0.907720    1.374358\n",
       "2021-04-27  6669.95  6568.75 -12.568154   7.469229    1.309428\n",
       "2021-04-28  6568.75  6573.80 -19.133476   6.024766    1.215296\n",
       "2021-04-29  6635.00  6565.65 -12.808774  10.310572    1.155414\n",
       "2021-04-30  6537.10  6455.65 -19.111828   7.464161    1.070645\n",
       "\n",
       "[2598 rows x 5 columns]"
      ]
     },
     "execution_count": 11,
     "metadata": {},
     "output_type": "execute_result"
    }
   ],
   "source": [
    "%%time\n",
    "df = generate_data('MARUTI','Open')\n",
    "df"
   ]
  },
  {
   "cell_type": "code",
   "execution_count": 12,
   "id": "2eff34ab",
   "metadata": {
    "execution": {
     "iopub.execute_input": "2022-05-15T14:11:27.918525Z",
     "iopub.status.busy": "2022-05-15T14:11:27.918152Z",
     "iopub.status.idle": "2022-05-15T14:11:30.175967Z",
     "shell.execute_reply": "2022-05-15T14:11:30.175152Z"
    },
    "papermill": {
     "duration": 2.309097,
     "end_time": "2022-05-15T14:11:30.180988",
     "exception": false,
     "start_time": "2022-05-15T14:11:27.871891",
     "status": "completed"
    },
    "tags": []
   },
   "outputs": [
    {
     "data": {
      "image/png": "[encoded data removed]",
      "text/plain": [
       "<Figure size 1080x1440 with 5 Axes>"
      ]
     },
     "metadata": {},
     "output_type": "display_data"
    }
   ],
   "source": [
    "def plot_data(data):\n",
    "    n = len(data.columns)\n",
    "    plt.figure(figsize=(15,20))\n",
    "    for i in range(n):\n",
    "        plt.subplot(n,1,i+1)\n",
    "        sns.lineplot(data = data,x = data.index, y = data.columns[i])\n",
    "        \n",
    "plot_data(df)"
   ]
  },
  {
   "cell_type": "code",
   "execution_count": 13,
   "id": "868d4491",
   "metadata": {
    "execution": {
     "iopub.execute_input": "2022-05-15T14:11:30.284346Z",
     "iopub.status.busy": "2022-05-15T14:11:30.283454Z",
     "iopub.status.idle": "2022-05-15T14:11:30.290078Z",
     "shell.execute_reply": "2022-05-15T14:11:30.289514Z"
    },
    "papermill": {
     "duration": 0.059922,
     "end_time": "2022-05-15T14:11:30.291950",
     "exception": false,
     "start_time": "2022-05-15T14:11:30.232028",
     "status": "completed"
    },
    "tags": []
   },
   "outputs": [
    {
     "data": {
      "text/plain": [
       "(2598, 5)"
      ]
     },
     "execution_count": 13,
     "metadata": {},
     "output_type": "execute_result"
    }
   ],
   "source": [
    "df.shape"
   ]
  },
  {
   "cell_type": "markdown",
   "id": "27b4cc10",
   "metadata": {
    "papermill": {
     "duration": 0.050038,
     "end_time": "2022-05-15T14:11:30.392538",
     "exception": false,
     "start_time": "2022-05-15T14:11:30.342500",
     "status": "completed"
    },
    "tags": []
   },
   "source": [
    "**For our task, the input data will be:** \n",
    "- Stock Opening Price\n",
    "- Consecutive Day Difference\n",
    "- MACD Histogram\n",
    "- RSI\n",
    "\n",
    "**While the target will be:**\n",
    "- Daily Difference\n"
   ]
  },
  {
   "cell_type": "code",
   "execution_count": 14,
   "id": "9db794d4",
   "metadata": {
    "execution": {
     "iopub.execute_input": "2022-05-15T14:11:30.495956Z",
     "iopub.status.busy": "2022-05-15T14:11:30.495399Z",
     "iopub.status.idle": "2022-05-15T14:11:30.499555Z",
     "shell.execute_reply": "2022-05-15T14:11:30.499011Z"
    },
    "papermill": {
     "duration": 0.058208,
     "end_time": "2022-05-15T14:11:30.501429",
     "exception": false,
     "start_time": "2022-05-15T14:11:30.443221",
     "status": "completed"
    },
    "tags": []
   },
   "outputs": [],
   "source": [
    "ipfea = ['open','cdiff','macdhist','rsi']\n",
    "opfea = ['close']"
   ]
  },
  {
   "cell_type": "markdown",
   "id": "2253ea24",
   "metadata": {
    "papermill": {
     "duration": 0.051758,
     "end_time": "2022-05-15T14:11:30.604930",
     "exception": false,
     "start_time": "2022-05-15T14:11:30.553172",
     "status": "completed"
    },
    "tags": []
   },
   "source": [
    "**Since all our features are of a different scale, it is important for us to scale our data, for our model to run faster and not develop bias towards a higher scale feature** "
   ]
  },
  {
   "cell_type": "code",
   "execution_count": 15,
   "id": "cf479c59",
   "metadata": {
    "execution": {
     "iopub.execute_input": "2022-05-15T14:11:30.710848Z",
     "iopub.status.busy": "2022-05-15T14:11:30.710212Z",
     "iopub.status.idle": "2022-05-15T14:11:30.721827Z",
     "shell.execute_reply": "2022-05-15T14:11:30.720738Z"
    },
    "papermill": {
     "duration": 0.067465,
     "end_time": "2022-05-15T14:11:30.724433",
     "exception": false,
     "start_time": "2022-05-15T14:11:30.656968",
     "status": "completed"
    },
    "tags": []
   },
   "outputs": [
    {
     "name": "stdout",
     "output_type": "stream",
     "text": [
      "CPU times: user 4.09 ms, sys: 10 µs, total: 4.1 ms\n",
      "Wall time: 4.12 ms\n"
     ]
    }
   ],
   "source": [
    "%%time\n",
    "sca = StandardScaler()\n",
    "#df[ipfea] = sca.fit_transform(df[ipfea])\n",
    "df_sca = pd.DataFrame(sca.fit_transform(df),columns=df.columns)"
   ]
  },
  {
   "cell_type": "code",
   "execution_count": null,
   "id": "0baa9bcb",
   "metadata": {
    "papermill": {
     "duration": 0.055017,
     "end_time": "2022-05-15T14:11:30.831454",
     "exception": false,
     "start_time": "2022-05-15T14:11:30.776437",
     "status": "completed"
    },
    "tags": []
   },
   "outputs": [],
   "source": []
  },
  {
   "cell_type": "code",
   "execution_count": 16,
   "id": "79be36bf",
   "metadata": {
    "execution": {
     "iopub.execute_input": "2022-05-15T14:11:30.939356Z",
     "iopub.status.busy": "2022-05-15T14:11:30.938688Z",
     "iopub.status.idle": "2022-05-15T14:11:30.945185Z",
     "shell.execute_reply": "2022-05-15T14:11:30.944499Z"
    },
    "papermill": {
     "duration": 0.063887,
     "end_time": "2022-05-15T14:11:30.947659",
     "exception": false,
     "start_time": "2022-05-15T14:11:30.883772",
     "status": "completed"
    },
    "tags": []
   },
   "outputs": [],
   "source": [
    "def chunk(data,window=7):\n",
    "    iparr,oparr = [],[]\n",
    "    for i in tqdm(range(data.shape[0]-window)):\n",
    "        iparr.append(data[ipfea].iloc[i:i+window])\n",
    "        oparr.append(data[opfea].iloc[i+window])\n",
    "    iparr,oparr = np.array(iparr),np.array(oparr)\n",
    "    print(iparr.shape,oparr.shape)\n",
    "    return iparr,oparr    \n",
    "       "
   ]
  },
  {
   "cell_type": "markdown",
   "id": "96dbe3d6",
   "metadata": {
    "papermill": {
     "duration": 0.051515,
     "end_time": "2022-05-15T14:11:31.053033",
     "exception": false,
     "start_time": "2022-05-15T14:11:31.001518",
     "status": "completed"
    },
    "tags": []
   },
   "source": [
    "**We will keep data from start till 31/12/2020 for training and the data from 1/1/2021 for test**"
   ]
  },
  {
   "cell_type": "code",
   "execution_count": 17,
   "id": "0769d040",
   "metadata": {
    "execution": {
     "iopub.execute_input": "2022-05-15T14:11:31.161529Z",
     "iopub.status.busy": "2022-05-15T14:11:31.160938Z",
     "iopub.status.idle": "2022-05-15T14:11:34.700594Z",
     "shell.execute_reply": "2022-05-15T14:11:34.699176Z"
    },
    "papermill": {
     "duration": 3.597295,
     "end_time": "2022-05-15T14:11:34.704530",
     "exception": false,
     "start_time": "2022-05-15T14:11:31.107235",
     "status": "completed"
    },
    "tags": []
   },
   "outputs": [
    {
     "name": "stderr",
     "output_type": "stream",
     "text": [
      "100%|██████████| 2015/2015 [00:02<00:00, 719.69it/s]\n"
     ]
    },
    {
     "name": "stdout",
     "output_type": "stream",
     "text": [
      "(2015, 7, 4) (2015, 1)\n"
     ]
    },
    {
     "name": "stderr",
     "output_type": "stream",
     "text": [
      "100%|██████████| 569/569 [00:00<00:00, 903.01it/s]"
     ]
    },
    {
     "name": "stdout",
     "output_type": "stream",
     "text": [
      "(569, 7, 4) (569, 1)\n",
      "CPU times: user 3.36 s, sys: 319 ms, total: 3.68 s\n",
      "Wall time: 3.53 s\n"
     ]
    },
    {
     "name": "stderr",
     "output_type": "stream",
     "text": [
      "\n"
     ]
    }
   ],
   "source": [
    "%%time\n",
    "date = '2021-01-01'\n",
    "ipx,opx = chunk(df_sca.loc[:date])\n",
    "ipt,opt = chunk(df_sca.loc[date:])"
   ]
  },
  {
   "cell_type": "code",
   "execution_count": 18,
   "id": "81ad83a9",
   "metadata": {
    "execution": {
     "iopub.execute_input": "2022-05-15T14:11:34.842704Z",
     "iopub.status.busy": "2022-05-15T14:11:34.841795Z",
     "iopub.status.idle": "2022-05-15T14:11:34.855502Z",
     "shell.execute_reply": "2022-05-15T14:11:34.854720Z"
    },
    "papermill": {
     "duration": 0.084975,
     "end_time": "2022-05-15T14:11:34.857892",
     "exception": false,
     "start_time": "2022-05-15T14:11:34.772917",
     "status": "completed"
    },
    "tags": []
   },
   "outputs": [
    {
     "data": {
      "text/html": [
       "<div>\n",
       "<style scoped>\n",
       "    .dataframe tbody tr th:only-of-type {\n",
       "        vertical-align: middle;\n",
       "    }\n",
       "\n",
       "    .dataframe tbody tr th {\n",
       "        vertical-align: top;\n",
       "    }\n",
       "\n",
       "    .dataframe thead th {\n",
       "        text-align: right;\n",
       "    }\n",
       "</style>\n",
       "<table border=\"1\" class=\"dataframe\">\n",
       "  <thead>\n",
       "    <tr style=\"text-align: right;\">\n",
       "      <th></th>\n",
       "      <th>open</th>\n",
       "      <th>close</th>\n",
       "      <th>cdiff</th>\n",
       "      <th>macdhist</th>\n",
       "      <th>rsi</th>\n",
       "    </tr>\n",
       "  </thead>\n",
       "  <tbody>\n",
       "    <tr>\n",
       "      <th>0</th>\n",
       "      <td>-1.090828</td>\n",
       "      <td>-1.089120</td>\n",
       "      <td>-0.014041</td>\n",
       "      <td>0.007080</td>\n",
       "      <td>1.069493</td>\n",
       "    </tr>\n",
       "    <tr>\n",
       "      <th>1</th>\n",
       "      <td>-1.081909</td>\n",
       "      <td>-1.087351</td>\n",
       "      <td>-0.014041</td>\n",
       "      <td>0.058923</td>\n",
       "      <td>1.069493</td>\n",
       "    </tr>\n",
       "    <tr>\n",
       "      <th>2</th>\n",
       "      <td>-1.085625</td>\n",
       "      <td>-1.096196</td>\n",
       "      <td>-0.062401</td>\n",
       "      <td>0.066981</td>\n",
       "      <td>1.069493</td>\n",
       "    </tr>\n",
       "    <tr>\n",
       "      <th>3</th>\n",
       "      <td>-1.094915</td>\n",
       "      <td>-1.102397</td>\n",
       "      <td>-0.168768</td>\n",
       "      <td>0.014632</td>\n",
       "      <td>0.950447</td>\n",
       "    </tr>\n",
       "    <tr>\n",
       "      <th>4</th>\n",
       "      <td>-1.100489</td>\n",
       "      <td>-1.101224</td>\n",
       "      <td>-0.226197</td>\n",
       "      <td>-0.051248</td>\n",
       "      <td>0.723916</td>\n",
       "    </tr>\n",
       "  </tbody>\n",
       "</table>\n",
       "</div>"
      ],
      "text/plain": [
       "       open     close     cdiff  macdhist       rsi\n",
       "0 -1.090828 -1.089120 -0.014041  0.007080  1.069493\n",
       "1 -1.081909 -1.087351 -0.014041  0.058923  1.069493\n",
       "2 -1.085625 -1.096196 -0.062401  0.066981  1.069493\n",
       "3 -1.094915 -1.102397 -0.168768  0.014632  0.950447\n",
       "4 -1.100489 -1.101224 -0.226197 -0.051248  0.723916"
      ]
     },
     "execution_count": 18,
     "metadata": {},
     "output_type": "execute_result"
    }
   ],
   "source": [
    "df_sca.head()"
   ]
  },
  {
   "cell_type": "markdown",
   "id": "49d1784d",
   "metadata": {
    "papermill": {
     "duration": 0.072225,
     "end_time": "2022-05-15T14:11:35.002300",
     "exception": false,
     "start_time": "2022-05-15T14:11:34.930075",
     "status": "completed"
    },
    "tags": []
   },
   "source": [
    "## LSTM Model"
   ]
  },
  {
   "cell_type": "code",
   "execution_count": 19,
   "id": "a297930b",
   "metadata": {
    "execution": {
     "iopub.execute_input": "2022-05-15T14:11:35.140402Z",
     "iopub.status.busy": "2022-05-15T14:11:35.140053Z",
     "iopub.status.idle": "2022-05-15T14:11:35.997848Z",
     "shell.execute_reply": "2022-05-15T14:11:35.996822Z"
    },
    "papermill": {
     "duration": 0.930312,
     "end_time": "2022-05-15T14:11:36.000835",
     "exception": false,
     "start_time": "2022-05-15T14:11:35.070523",
     "status": "completed"
    },
    "tags": []
   },
   "outputs": [],
   "source": [
    "import tensorflow as tf\n",
    "import optuna"
   ]
  },
  {
   "cell_type": "code",
   "execution_count": 20,
   "id": "de71d3e3",
   "metadata": {
    "execution": {
     "iopub.execute_input": "2022-05-15T14:11:36.143993Z",
     "iopub.status.busy": "2022-05-15T14:11:36.143592Z",
     "iopub.status.idle": "2022-05-15T14:11:38.344492Z",
     "shell.execute_reply": "2022-05-15T14:11:38.343707Z"
    },
    "papermill": {
     "duration": 2.273729,
     "end_time": "2022-05-15T14:11:38.347206",
     "exception": false,
     "start_time": "2022-05-15T14:11:36.073477",
     "status": "completed"
    },
    "tags": []
   },
   "outputs": [
    {
     "name": "stderr",
     "output_type": "stream",
     "text": [
      "2022-05-15 14:11:37.522833: I tensorflow/core/common_runtime/process_util.cc:146] Creating new thread pool with default inter op setting: 2. Tune using inter_op_parallelism_threads for best performance.\n"
     ]
    }
   ],
   "source": [
    "act = 'relu'\n",
    "drp = 0.2\n",
    "model = tf.keras.models.Sequential([\n",
    "                           tf.keras.layers.GRU(units=8,activation=act,return_sequences=True,\n",
    "                                                input_shape=(ipx.shape[1],ipx.shape[2])),\n",
    "                           tf.keras.layers.GRU(units=16,activation=act,return_sequences=True),\n",
    "                           tf.keras.layers.Dropout(drp),\n",
    "                           tf.keras.layers.GRU(units=64,activation=act,return_sequences=True),\n",
    "                           tf.keras.layers.Dropout(drp),\n",
    "                           tf.keras.layers.GRU(units=64,activation=act,return_sequences=True),\n",
    "                           tf.keras.layers.Dropout(drp),\n",
    "                           tf.keras.layers.GRU(units=16,activation=act,return_sequences=True),\n",
    "                           tf.keras.layers.Dropout(drp),\n",
    "                           tf.keras.layers.GRU(units=8,activation='tanh',return_sequences=True),\n",
    "                           tf.keras.layers.Dropout(drp),\n",
    "                           tf.keras.layers.GRU(units=4,activation=act),\n",
    "                           tf.keras.layers.Dense(units=1)\n",
    "                          ])"
   ]
  },
  {
   "cell_type": "code",
   "execution_count": 21,
   "id": "54a2fc8f",
   "metadata": {
    "execution": {
     "iopub.execute_input": "2022-05-15T14:11:38.484299Z",
     "iopub.status.busy": "2022-05-15T14:11:38.483144Z",
     "iopub.status.idle": "2022-05-15T14:15:04.078747Z",
     "shell.execute_reply": "2022-05-15T14:15:04.077670Z"
    },
    "papermill": {
     "duration": 205.668193,
     "end_time": "2022-05-15T14:15:04.082770",
     "exception": false,
     "start_time": "2022-05-15T14:11:38.414577",
     "status": "completed"
    },
    "tags": []
   },
   "outputs": [
    {
     "data": {
      "image/png": "[encoded data removed]",
      "text/plain": [
       "<Figure size 864x576 with 2 Axes>"
      ]
     },
     "metadata": {},
     "output_type": "display_data"
    },
    {
     "name": "stdout",
     "output_type": "stream",
     "text": [
      "Loss\n",
      "\tloss             \t (min:    0.039, max:    0.601, cur:    0.041)\n",
      "lr\n",
      "\tlr               \t (min:    0.000, max:    0.010, cur:    0.000)\n"
     ]
    }
   ],
   "source": [
    "tf.keras.backend.clear_session()\n",
    "\n",
    "opti = tf.optimizers.Adam(learning_rate=0.01)\n",
    "reduce_lr = tf.keras.callbacks.ReduceLROnPlateau(monitor='loss',min_lr=0.00001)\n",
    "early_stp = tf.keras.callbacks.EarlyStopping('loss',patience=15)\n",
    "\n",
    "\n",
    "model.compile(optimizer=opti,loss='mean_absolute_error')\n",
    "history=model.fit(ipx,opx,epochs=150,batch_size=64,verbose=0,callbacks=[reduce_lr,PlotLossesKeras(),early_stp])"
   ]
  },
  {
   "cell_type": "code",
   "execution_count": 22,
   "id": "1b5ec1c8",
   "metadata": {
    "execution": {
     "iopub.execute_input": "2022-05-15T14:15:04.223590Z",
     "iopub.status.busy": "2022-05-15T14:15:04.223227Z",
     "iopub.status.idle": "2022-05-15T14:15:15.002492Z",
     "shell.execute_reply": "2022-05-15T14:15:15.001856Z"
    },
    "papermill": {
     "duration": 10.852208,
     "end_time": "2022-05-15T14:15:15.004596",
     "exception": false,
     "start_time": "2022-05-15T14:15:04.152388",
     "status": "completed"
    },
    "tags": []
   },
   "outputs": [
    {
     "data": {
      "text/plain": [
       "0.026305988"
      ]
     },
     "execution_count": 22,
     "metadata": {},
     "output_type": "execute_result"
    }
   ],
   "source": [
    "lossfn = tf.keras.losses.MeanSquaredError()\n",
    "lossfn(opt,model.predict(ipt)).numpy()"
   ]
  },
  {
   "cell_type": "code",
   "execution_count": 23,
   "id": "dae6d752",
   "metadata": {
    "execution": {
     "iopub.execute_input": "2022-05-15T14:15:15.142845Z",
     "iopub.status.busy": "2022-05-15T14:15:15.142514Z",
     "iopub.status.idle": "2022-05-15T14:15:15.463500Z",
     "shell.execute_reply": "2022-05-15T14:15:15.462934Z"
    },
    "papermill": {
     "duration": 0.392471,
     "end_time": "2022-05-15T14:15:15.465520",
     "exception": false,
     "start_time": "2022-05-15T14:15:15.073049",
     "status": "completed"
    },
    "tags": []
   },
   "outputs": [
    {
     "data": {
      "text/plain": [
       "array([[0.9588157 ],\n",
       "       [0.96951246],\n",
       "       [0.9677808 ],\n",
       "       [0.96767783],\n",
       "       [0.95722353]], dtype=float32)"
      ]
     },
     "execution_count": 23,
     "metadata": {},
     "output_type": "execute_result"
    }
   ],
   "source": [
    "model.predict(ipt)[:5]"
   ]
  },
  {
   "cell_type": "code",
   "execution_count": null,
   "id": "cf588833",
   "metadata": {
    "papermill": {
     "duration": 0.07023,
     "end_time": "2022-05-15T14:15:15.604653",
     "exception": false,
     "start_time": "2022-05-15T14:15:15.534423",
     "status": "completed"
    },
    "tags": []
   },
   "outputs": [],
   "source": []
  },
  {
   "cell_type": "code",
   "execution_count": 24,
   "id": "fdb1be3c",
   "metadata": {
    "execution": {
     "iopub.execute_input": "2022-05-15T14:15:15.746067Z",
     "iopub.status.busy": "2022-05-15T14:15:15.745746Z",
     "iopub.status.idle": "2022-05-15T14:15:16.116471Z",
     "shell.execute_reply": "2022-05-15T14:15:16.115570Z"
    },
    "papermill": {
     "duration": 0.443262,
     "end_time": "2022-05-15T14:15:16.118526",
     "exception": false,
     "start_time": "2022-05-15T14:15:15.675264",
     "status": "completed"
    },
    "tags": []
   },
   "outputs": [
    {
     "data": {
      "image/png": "[encoded data removed]",
      "text/plain": [
       "<Figure size 720x432 with 2 Axes>"
      ]
     },
     "metadata": {},
     "output_type": "display_data"
    }
   ],
   "source": [
    "n = len(history.history)\n",
    "plt.figure(figsize=(10,6))\n",
    "ix = 1\n",
    "for i in history.history:\n",
    "    plt.subplot(2,1,ix)\n",
    "    plt.plot(history.history[i],label = i)\n",
    "    plt.legend()\n",
    "    ix+=1"
   ]
  },
  {
   "cell_type": "markdown",
   "id": "3d7ab90e",
   "metadata": {
    "execution": {
     "iopub.execute_input": "2022-05-15T13:40:36.001269Z",
     "iopub.status.busy": "2022-05-15T13:40:36.000982Z",
     "iopub.status.idle": "2022-05-15T13:40:37.272129Z",
     "shell.execute_reply": "2022-05-15T13:40:37.271466Z",
     "shell.execute_reply.started": "2022-05-15T13:40:36.001239Z"
    },
    "papermill": {
     "duration": 0.069262,
     "end_time": "2022-05-15T14:15:16.257576",
     "exception": false,
     "start_time": "2022-05-15T14:15:16.188314",
     "status": "completed"
    },
    "tags": []
   },
   "source": [
    "def plot_res(model=model,ipx=ipt,opx=opt):\n",
    "    opp = model.predict(ipt)\n",
    "    lossfn = tf.keras.losses.MeanSquaredError()\n",
    "    print(lossfn(opt,model.predict(ipt)).numpy())\n",
    "    \n",
    "    plt.plot(opt)\n",
    "    plt.plot(opp)\n",
    "    return opp\n",
    "plot_res()\n",
    "    \n",
    "    "
   ]
  },
  {
   "cell_type": "code",
   "execution_count": null,
   "id": "f2bba4c0",
   "metadata": {
    "papermill": {
     "duration": 0.072007,
     "end_time": "2022-05-15T14:15:16.398780",
     "exception": false,
     "start_time": "2022-05-15T14:15:16.326773",
     "status": "completed"
    },
    "tags": []
   },
   "outputs": [],
   "source": []
  },
  {
   "cell_type": "markdown",
   "id": "260d6c96",
   "metadata": {
    "execution": {
     "iopub.execute_input": "2022-05-15T13:13:45.196085Z",
     "iopub.status.busy": "2022-05-15T13:13:45.195603Z",
     "iopub.status.idle": "2022-05-15T13:13:46.459295Z",
     "shell.execute_reply": "2022-05-15T13:13:46.458225Z",
     "shell.execute_reply.started": "2022-05-15T13:13:45.196045Z"
    },
    "papermill": {
     "duration": 0.071762,
     "end_time": "2022-05-15T14:15:16.542377",
     "exception": false,
     "start_time": "2022-05-15T14:15:16.470615",
     "status": "completed"
    },
    "tags": []
   },
   "source": [
    "act = 'relu'\n",
    "drp = 0.2\n",
    "model = tf.keras.models.Sequential([\n",
    "                           tf.keras.layers.GRU(units=8,activation=act,return_sequences=True,\n",
    "                                                input_shape=(ipx.shape[1],ipx.shape[2])),\n",
    "                           tf.keras.layers.GRU(units=16,activation=act,return_sequences=True),\n",
    "                           tf.keras.layers.Dropout(drp),\n",
    "                           tf.keras.layers.GRU(units=64,activation=act,return_sequences=True),\n",
    "                           tf.keras.layers.Dropout(drp),\n",
    "                           tf.keras.layers.GRU(units=64,activation=act,return_sequences=True),\n",
    "                           tf.keras.layers.Dropout(drp),\n",
    "                           tf.keras.layers.GRU(units=128,activation=act,return_sequences=True),\n",
    "                           tf.keras.layers.Dropout(drp),\n",
    "                           tf.keras.layers.GRU(units=256,activation=act,return_sequences=True),\n",
    "                           tf.keras.layers.Dropout(drp),\n",
    "                           tf.keras.layers.GRU(units=256,activation=act,return_sequences=True),\n",
    "                           tf.keras.layers.Dropout(drp),\n",
    "                           tf.keras.layers.GRU(units=256,activation=act,return_sequences=True),\n",
    "                           tf.keras.layers.Dropout(drp),\n",
    "                           tf.keras.layers.GRU(units=128,activation=act,return_sequences=True),\n",
    "                           tf.keras.layers.Dropout(drp),\n",
    "                           tf.keras.layers.GRU(units=64,activation=act,return_sequences=True),\n",
    "                           tf.keras.layers.Dropout(drp),\n",
    "                           tf.keras.layers.GRU(units=64,activation=act,return_sequences=True),\n",
    "                           tf.keras.layers.Dropout(drp),\n",
    "                           tf.keras.layers.GRU(units=16,activation=act,return_sequences=True),\n",
    "                           tf.keras.layers.Dropout(drp),\n",
    "                           tf.keras.layers.GRU(units=8,activation='tanh',return_sequences=True),\n",
    "                           tf.keras.layers.Dropout(drp),\n",
    "                           tf.keras.layers.GRU(units=4,activation=act),\n",
    "                           tf.keras.layers.Dense(units=1)\n",
    "                          ])"
   ]
  },
  {
   "cell_type": "code",
   "execution_count": null,
   "id": "8ec59be5",
   "metadata": {
    "papermill": {
     "duration": 0.070133,
     "end_time": "2022-05-15T14:15:16.682769",
     "exception": false,
     "start_time": "2022-05-15T14:15:16.612636",
     "status": "completed"
    },
    "tags": []
   },
   "outputs": [],
   "source": []
  },
  {
   "cell_type": "code",
   "execution_count": null,
   "id": "8b52ecac",
   "metadata": {
    "papermill": {
     "duration": 0.069861,
     "end_time": "2022-05-15T14:15:16.824222",
     "exception": false,
     "start_time": "2022-05-15T14:15:16.754361",
     "status": "completed"
    },
    "tags": []
   },
   "outputs": [],
   "source": []
  }
 ],
 "metadata": {
  "kernelspec": {
   "display_name": "Python 3",
   "language": "python",
   "name": "python3"
  },
  "language_info": {
   "codemirror_mode": {
    "name": "ipython",
    "version": 3
   },
   "file_extension": ".py",
   "mimetype": "text/x-python",
   "name": "python",
   "nbconvert_exporter": "python",
   "pygments_lexer": "ipython3",
   "version": "3.7.12"
  },
  "papermill": {
   "default_parameters": {},
   "duration": 270.036279,
   "end_time": "2022-05-15T14:15:20.344044",
   "environment_variables": {},
   "exception": null,
   "input_path": "__notebook__.ipynb",
   "output_path": "__notebook__.ipynb",
   "parameters": {},
   "start_time": "2022-05-15T14:10:50.307765",
   "version": "2.3.4"
  }
 },
 "nbformat": 4,
 "nbformat_minor": 5
}
