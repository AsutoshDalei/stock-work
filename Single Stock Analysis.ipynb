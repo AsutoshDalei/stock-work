{
 "cells": [
  {
   "cell_type": "markdown",
   "id": "fca64a98",
   "metadata": {
    "papermill": {
     "duration": 0.056339,
     "end_time": "2022-05-16T15:39:14.273933",
     "exception": false,
     "start_time": "2022-05-16T15:39:14.217594",
     "status": "completed"
    },
    "tags": []
   },
   "source": [
    "# NIFTY50 Single stocks analysis\n",
    "**Notebook contains analysis and forecast on a single stock.**\n"
   ]
  },
  {
   "cell_type": "markdown",
   "id": "5534a63c",
   "metadata": {
    "papermill": {
     "duration": 0.056521,
     "end_time": "2022-05-16T15:39:14.385446",
     "exception": false,
     "start_time": "2022-05-16T15:39:14.328925",
     "status": "completed"
    },
    "tags": []
   },
   "source": [
    "Importing necessary packages"
   ]
  },
  {
   "cell_type": "code",
   "execution_count": 1,
   "id": "f5387a2a",
   "metadata": {
    "execution": {
     "iopub.execute_input": "2022-05-16T15:39:14.497919Z",
     "iopub.status.busy": "2022-05-16T15:39:14.497210Z",
     "iopub.status.idle": "2022-05-16T15:39:27.607794Z",
     "shell.execute_reply": "2022-05-16T15:39:27.606678Z"
    },
    "papermill": {
     "duration": 13.170246,
     "end_time": "2022-05-16T15:39:27.610517",
     "exception": false,
     "start_time": "2022-05-16T15:39:14.440271",
     "status": "completed"
    },
    "tags": []
   },
   "outputs": [
    {
     "name": "stdout",
     "output_type": "stream",
     "text": [
      "Collecting livelossplot\r\n",
      "  Downloading livelossplot-0.5.5-py3-none-any.whl (22 kB)\r\n",
      "Requirement already satisfied: bokeh in /opt/conda/lib/python3.7/site-packages (from livelossplot) (2.4.2)\r\n",
      "Requirement already satisfied: matplotlib in /opt/conda/lib/python3.7/site-packages (from livelossplot) (3.5.2)\r\n",
      "Requirement already satisfied: ipython==7.* in /opt/conda/lib/python3.7/site-packages (from livelossplot) (7.32.0)\r\n",
      "Requirement already satisfied: numpy<1.22 in /opt/conda/lib/python3.7/site-packages (from livelossplot) (1.21.6)\r\n",
      "Requirement already satisfied: setuptools>=18.5 in /opt/conda/lib/python3.7/site-packages (from ipython==7.*->livelossplot) (59.8.0)\r\n",
      "Requirement already satisfied: prompt-toolkit!=3.0.0,!=3.0.1,<3.1.0,>=2.0.0 in /opt/conda/lib/python3.7/site-packages (from ipython==7.*->livelossplot) (3.0.27)\r\n",
      "Requirement already satisfied: backcall in /opt/conda/lib/python3.7/site-packages (from ipython==7.*->livelossplot) (0.2.0)\r\n",
      "Requirement already satisfied: pexpect>4.3 in /opt/conda/lib/python3.7/site-packages (from ipython==7.*->livelossplot) (4.8.0)\r\n",
      "Requirement already satisfied: pygments in /opt/conda/lib/python3.7/site-packages (from ipython==7.*->livelossplot) (2.11.2)\r\n",
      "Requirement already satisfied: decorator in /opt/conda/lib/python3.7/site-packages (from ipython==7.*->livelossplot) (5.1.1)\r\n",
      "Requirement already satisfied: matplotlib-inline in /opt/conda/lib/python3.7/site-packages (from ipython==7.*->livelossplot) (0.1.3)\r\n",
      "Requirement already satisfied: traitlets>=4.2 in /opt/conda/lib/python3.7/site-packages (from ipython==7.*->livelossplot) (5.1.1)\r\n",
      "Requirement already satisfied: jedi>=0.16 in /opt/conda/lib/python3.7/site-packages (from ipython==7.*->livelossplot) (0.18.1)\r\n",
      "Requirement already satisfied: pickleshare in /opt/conda/lib/python3.7/site-packages (from ipython==7.*->livelossplot) (0.7.5)\r\n",
      "Requirement already satisfied: pillow>=7.1.0 in /opt/conda/lib/python3.7/site-packages (from bokeh->livelossplot) (9.0.1)\r\n",
      "Requirement already satisfied: packaging>=16.8 in /opt/conda/lib/python3.7/site-packages (from bokeh->livelossplot) (21.3)\r\n",
      "Requirement already satisfied: tornado>=5.1 in /opt/conda/lib/python3.7/site-packages (from bokeh->livelossplot) (6.1)\r\n",
      "Requirement already satisfied: PyYAML>=3.10 in /opt/conda/lib/python3.7/site-packages (from bokeh->livelossplot) (6.0)\r\n",
      "Requirement already satisfied: Jinja2>=2.9 in /opt/conda/lib/python3.7/site-packages (from bokeh->livelossplot) (3.1.2)\r\n",
      "Requirement already satisfied: typing-extensions>=3.10.0 in /opt/conda/lib/python3.7/site-packages (from bokeh->livelossplot) (4.2.0)\r\n",
      "Requirement already satisfied: kiwisolver>=1.0.1 in /opt/conda/lib/python3.7/site-packages (from matplotlib->livelossplot) (1.4.0)\r\n",
      "Requirement already satisfied: fonttools>=4.22.0 in /opt/conda/lib/python3.7/site-packages (from matplotlib->livelossplot) (4.30.0)\r\n",
      "Requirement already satisfied: cycler>=0.10 in /opt/conda/lib/python3.7/site-packages (from matplotlib->livelossplot) (0.11.0)\r\n",
      "Requirement already satisfied: pyparsing>=2.2.1 in /opt/conda/lib/python3.7/site-packages (from matplotlib->livelossplot) (3.0.7)\r\n",
      "Requirement already satisfied: python-dateutil>=2.7 in /opt/conda/lib/python3.7/site-packages (from matplotlib->livelossplot) (2.8.2)\r\n",
      "Requirement already satisfied: parso<0.9.0,>=0.8.0 in /opt/conda/lib/python3.7/site-packages (from jedi>=0.16->ipython==7.*->livelossplot) (0.8.3)\r\n",
      "Requirement already satisfied: MarkupSafe>=2.0 in /opt/conda/lib/python3.7/site-packages (from Jinja2>=2.9->bokeh->livelossplot) (2.0.1)\r\n",
      "Requirement already satisfied: ptyprocess>=0.5 in /opt/conda/lib/python3.7/site-packages (from pexpect>4.3->ipython==7.*->livelossplot) (0.7.0)\r\n",
      "Requirement already satisfied: wcwidth in /opt/conda/lib/python3.7/site-packages (from prompt-toolkit!=3.0.0,!=3.0.1,<3.1.0,>=2.0.0->ipython==7.*->livelossplot) (0.2.5)\r\n",
      "Requirement already satisfied: six>=1.5 in /opt/conda/lib/python3.7/site-packages (from python-dateutil>=2.7->matplotlib->livelossplot) (1.16.0)\r\n",
      "Installing collected packages: livelossplot\r\n",
      "Successfully installed livelossplot-0.5.5\r\n",
      "\u001b[33mWARNING: Running pip as the 'root' user can result in broken permissions and conflicting behaviour with the system package manager. It is recommended to use a virtual environment instead: https://pip.pypa.io/warnings/venv\u001b[0m\u001b[33m\r\n",
      "\u001b[0m"
     ]
    }
   ],
   "source": [
    "!pip install livelossplot"
   ]
  },
  {
   "cell_type": "code",
   "execution_count": 2,
   "id": "27990988",
   "metadata": {
    "execution": {
     "iopub.execute_input": "2022-05-16T15:39:27.732673Z",
     "iopub.status.busy": "2022-05-16T15:39:27.731849Z",
     "iopub.status.idle": "2022-05-16T15:39:34.127664Z",
     "shell.execute_reply": "2022-05-16T15:39:34.126532Z"
    },
    "papermill": {
     "duration": 6.459288,
     "end_time": "2022-05-16T15:39:34.129768",
     "exception": false,
     "start_time": "2022-05-16T15:39:27.670480",
     "status": "completed"
    },
    "tags": []
   },
   "outputs": [
    {
     "data": {
      "application/javascript": [
       "IPython.notebook.set_autosave_interval(30000)"
      ]
     },
     "metadata": {},
     "output_type": "display_data"
    },
    {
     "name": "stdout",
     "output_type": "stream",
     "text": [
      "Autosaving every 30 seconds\n"
     ]
    }
   ],
   "source": [
    "from os import listdir\n",
    "import numpy as np\n",
    "import pandas as pd\n",
    "from tqdm import tqdm\n",
    "import matplotlib.pyplot as plt\n",
    "%matplotlib inline\n",
    "import seaborn as sns\n",
    "import tensorflow as tf\n",
    "from sklearn.preprocessing import StandardScaler\n",
    "from sklearn.utils import shuffle\n",
    "from livelossplot import PlotLossesKeras\n",
    "sns.set_theme()\n",
    "import warnings\n",
    "warnings.filterwarnings('ignore')\n",
    "%autosave 30"
   ]
  },
  {
   "cell_type": "code",
   "execution_count": 3,
   "id": "ba38bc57",
   "metadata": {
    "execution": {
     "iopub.execute_input": "2022-05-16T15:39:34.253197Z",
     "iopub.status.busy": "2022-05-16T15:39:34.252880Z",
     "iopub.status.idle": "2022-05-16T15:39:35.585551Z",
     "shell.execute_reply": "2022-05-16T15:39:35.584809Z"
    },
    "papermill": {
     "duration": 1.397451,
     "end_time": "2022-05-16T15:39:35.587952",
     "exception": false,
     "start_time": "2022-05-16T15:39:34.190501",
     "status": "completed"
    },
    "tags": []
   },
   "outputs": [],
   "source": [
    "#dft = pd.read_csv(r'C:\\Users\\asuto\\Desktop\\Work\\Datasets\\NIFTY50\\NIFTYMASTERDATA.csv',index_col='Date',parse_dates=True)\n",
    "\n",
    "url = 'https://raw.githubusercontent.com/AsutoshDalei/stock-work/main/NIFTYMASTERDATA.csv'\n",
    "dft = pd.read_csv(url,parse_dates=True)\n",
    "dft['Date'] = pd.to_datetime(dft['Date'])\n",
    "dft.set_index('Date',inplace = True)\n",
    "dft\n",
    "\n",
    "comps = dft.Symbol.unique()"
   ]
  },
  {
   "cell_type": "code",
   "execution_count": 4,
   "id": "687eb8db",
   "metadata": {
    "execution": {
     "iopub.execute_input": "2022-05-16T15:39:35.709877Z",
     "iopub.status.busy": "2022-05-16T15:39:35.709558Z",
     "iopub.status.idle": "2022-05-16T15:39:35.738824Z",
     "shell.execute_reply": "2022-05-16T15:39:35.738158Z"
    },
    "papermill": {
     "duration": 0.092998,
     "end_time": "2022-05-16T15:39:35.740742",
     "exception": false,
     "start_time": "2022-05-16T15:39:35.647744",
     "status": "completed"
    },
    "tags": []
   },
   "outputs": [
    {
     "data": {
      "text/html": [
       "<div>\n",
       "<style scoped>\n",
       "    .dataframe tbody tr th:only-of-type {\n",
       "        vertical-align: middle;\n",
       "    }\n",
       "\n",
       "    .dataframe tbody tr th {\n",
       "        vertical-align: top;\n",
       "    }\n",
       "\n",
       "    .dataframe thead th {\n",
       "        text-align: right;\n",
       "    }\n",
       "</style>\n",
       "<table border=\"1\" class=\"dataframe\">\n",
       "  <thead>\n",
       "    <tr style=\"text-align: right;\">\n",
       "      <th></th>\n",
       "      <th>Symbol</th>\n",
       "      <th>Prev Close</th>\n",
       "      <th>Open</th>\n",
       "      <th>High</th>\n",
       "      <th>Low</th>\n",
       "      <th>Close</th>\n",
       "      <th>Last</th>\n",
       "      <th>Volume</th>\n",
       "      <th>Turnover</th>\n",
       "    </tr>\n",
       "    <tr>\n",
       "      <th>Date</th>\n",
       "      <th></th>\n",
       "      <th></th>\n",
       "      <th></th>\n",
       "      <th></th>\n",
       "      <th></th>\n",
       "      <th></th>\n",
       "      <th></th>\n",
       "      <th></th>\n",
       "      <th></th>\n",
       "    </tr>\n",
       "  </thead>\n",
       "  <tbody>\n",
       "    <tr>\n",
       "      <th>2010-11-04</th>\n",
       "      <td>ADANIPORTS</td>\n",
       "      <td>159.90</td>\n",
       "      <td>161.0</td>\n",
       "      <td>163.00</td>\n",
       "      <td>160.30</td>\n",
       "      <td>161.20</td>\n",
       "      <td>161.05</td>\n",
       "      <td>835546</td>\n",
       "      <td>1.348395e+13</td>\n",
       "    </tr>\n",
       "    <tr>\n",
       "      <th>2010-11-05</th>\n",
       "      <td>ADANIPORTS</td>\n",
       "      <td>161.20</td>\n",
       "      <td>163.0</td>\n",
       "      <td>163.00</td>\n",
       "      <td>161.60</td>\n",
       "      <td>162.30</td>\n",
       "      <td>162.35</td>\n",
       "      <td>187158</td>\n",
       "      <td>3.037435e+12</td>\n",
       "    </tr>\n",
       "    <tr>\n",
       "      <th>2010-11-08</th>\n",
       "      <td>ADANIPORTS</td>\n",
       "      <td>162.30</td>\n",
       "      <td>162.5</td>\n",
       "      <td>163.45</td>\n",
       "      <td>160.20</td>\n",
       "      <td>161.40</td>\n",
       "      <td>161.30</td>\n",
       "      <td>613082</td>\n",
       "      <td>9.911300e+12</td>\n",
       "    </tr>\n",
       "    <tr>\n",
       "      <th>2010-11-09</th>\n",
       "      <td>ADANIPORTS</td>\n",
       "      <td>161.40</td>\n",
       "      <td>162.5</td>\n",
       "      <td>165.00</td>\n",
       "      <td>161.35</td>\n",
       "      <td>162.25</td>\n",
       "      <td>162.40</td>\n",
       "      <td>601933</td>\n",
       "      <td>9.825511e+12</td>\n",
       "    </tr>\n",
       "    <tr>\n",
       "      <th>2010-11-10</th>\n",
       "      <td>ADANIPORTS</td>\n",
       "      <td>162.25</td>\n",
       "      <td>162.5</td>\n",
       "      <td>162.90</td>\n",
       "      <td>159.55</td>\n",
       "      <td>159.90</td>\n",
       "      <td>160.00</td>\n",
       "      <td>423032</td>\n",
       "      <td>6.795621e+12</td>\n",
       "    </tr>\n",
       "    <tr>\n",
       "      <th>...</th>\n",
       "      <td>...</td>\n",
       "      <td>...</td>\n",
       "      <td>...</td>\n",
       "      <td>...</td>\n",
       "      <td>...</td>\n",
       "      <td>...</td>\n",
       "      <td>...</td>\n",
       "      <td>...</td>\n",
       "      <td>...</td>\n",
       "    </tr>\n",
       "    <tr>\n",
       "      <th>2021-04-26</th>\n",
       "      <td>ZEEL</td>\n",
       "      <td>188.00</td>\n",
       "      <td>190.6</td>\n",
       "      <td>191.10</td>\n",
       "      <td>185.10</td>\n",
       "      <td>186.40</td>\n",
       "      <td>186.70</td>\n",
       "      <td>8542755</td>\n",
       "      <td>1.600451e+14</td>\n",
       "    </tr>\n",
       "    <tr>\n",
       "      <th>2021-04-27</th>\n",
       "      <td>ZEEL</td>\n",
       "      <td>186.40</td>\n",
       "      <td>188.0</td>\n",
       "      <td>192.95</td>\n",
       "      <td>186.80</td>\n",
       "      <td>188.15</td>\n",
       "      <td>188.80</td>\n",
       "      <td>14247767</td>\n",
       "      <td>2.698636e+14</td>\n",
       "    </tr>\n",
       "    <tr>\n",
       "      <th>2021-04-28</th>\n",
       "      <td>ZEEL</td>\n",
       "      <td>188.15</td>\n",
       "      <td>188.8</td>\n",
       "      <td>190.60</td>\n",
       "      <td>187.10</td>\n",
       "      <td>189.10</td>\n",
       "      <td>188.95</td>\n",
       "      <td>8429439</td>\n",
       "      <td>1.591917e+14</td>\n",
       "    </tr>\n",
       "    <tr>\n",
       "      <th>2021-04-29</th>\n",
       "      <td>ZEEL</td>\n",
       "      <td>189.10</td>\n",
       "      <td>190.8</td>\n",
       "      <td>191.65</td>\n",
       "      <td>186.00</td>\n",
       "      <td>186.55</td>\n",
       "      <td>186.60</td>\n",
       "      <td>9483009</td>\n",
       "      <td>1.777471e+14</td>\n",
       "    </tr>\n",
       "    <tr>\n",
       "      <th>2021-04-30</th>\n",
       "      <td>ZEEL</td>\n",
       "      <td>186.55</td>\n",
       "      <td>185.3</td>\n",
       "      <td>190.95</td>\n",
       "      <td>183.65</td>\n",
       "      <td>185.60</td>\n",
       "      <td>185.00</td>\n",
       "      <td>11435285</td>\n",
       "      <td>2.144440e+14</td>\n",
       "    </tr>\n",
       "  </tbody>\n",
       "</table>\n",
       "<p>127302 rows × 9 columns</p>\n",
       "</div>"
      ],
      "text/plain": [
       "                Symbol  Prev Close   Open    High     Low   Close    Last  \\\n",
       "Date                                                                        \n",
       "2010-11-04  ADANIPORTS      159.90  161.0  163.00  160.30  161.20  161.05   \n",
       "2010-11-05  ADANIPORTS      161.20  163.0  163.00  161.60  162.30  162.35   \n",
       "2010-11-08  ADANIPORTS      162.30  162.5  163.45  160.20  161.40  161.30   \n",
       "2010-11-09  ADANIPORTS      161.40  162.5  165.00  161.35  162.25  162.40   \n",
       "2010-11-10  ADANIPORTS      162.25  162.5  162.90  159.55  159.90  160.00   \n",
       "...                ...         ...    ...     ...     ...     ...     ...   \n",
       "2021-04-26        ZEEL      188.00  190.6  191.10  185.10  186.40  186.70   \n",
       "2021-04-27        ZEEL      186.40  188.0  192.95  186.80  188.15  188.80   \n",
       "2021-04-28        ZEEL      188.15  188.8  190.60  187.10  189.10  188.95   \n",
       "2021-04-29        ZEEL      189.10  190.8  191.65  186.00  186.55  186.60   \n",
       "2021-04-30        ZEEL      186.55  185.3  190.95  183.65  185.60  185.00   \n",
       "\n",
       "              Volume      Turnover  \n",
       "Date                                \n",
       "2010-11-04    835546  1.348395e+13  \n",
       "2010-11-05    187158  3.037435e+12  \n",
       "2010-11-08    613082  9.911300e+12  \n",
       "2010-11-09    601933  9.825511e+12  \n",
       "2010-11-10    423032  6.795621e+12  \n",
       "...              ...           ...  \n",
       "2021-04-26   8542755  1.600451e+14  \n",
       "2021-04-27  14247767  2.698636e+14  \n",
       "2021-04-28   8429439  1.591917e+14  \n",
       "2021-04-29   9483009  1.777471e+14  \n",
       "2021-04-30  11435285  2.144440e+14  \n",
       "\n",
       "[127302 rows x 9 columns]"
      ]
     },
     "execution_count": 4,
     "metadata": {},
     "output_type": "execute_result"
    }
   ],
   "source": [
    "dft"
   ]
  },
  {
   "cell_type": "markdown",
   "id": "f387cf08",
   "metadata": {
    "papermill": {
     "duration": 0.060327,
     "end_time": "2022-05-16T15:39:35.862410",
     "exception": false,
     "start_time": "2022-05-16T15:39:35.802083",
     "status": "completed"
    },
    "tags": []
   },
   "source": [
    "## Below are the companies the model will be monitoring"
   ]
  },
  {
   "cell_type": "code",
   "execution_count": 5,
   "id": "a9f20982",
   "metadata": {
    "execution": {
     "iopub.execute_input": "2022-05-16T15:39:35.985148Z",
     "iopub.status.busy": "2022-05-16T15:39:35.984601Z",
     "iopub.status.idle": "2022-05-16T15:39:35.989520Z",
     "shell.execute_reply": "2022-05-16T15:39:35.988937Z"
    },
    "papermill": {
     "duration": 0.068795,
     "end_time": "2022-05-16T15:39:35.991351",
     "exception": false,
     "start_time": "2022-05-16T15:39:35.922556",
     "status": "completed"
    },
    "tags": []
   },
   "outputs": [
    {
     "data": {
      "text/plain": [
       "array(['ADANIPORTS', 'ASIANPAINT', 'AXISBANK', 'BAJAJ-AUTO', 'BAJAJFINSV',\n",
       "       'BAJFINANCE', 'BHARTIARTL', 'BPCL', 'BRITANNIA', 'CIPLA',\n",
       "       'COALINDIA', 'DRREDDY', 'EICHERMOT', 'GAIL', 'GRASIM', 'HCLTECH',\n",
       "       'HDFC', 'HDFCBANK', 'HEROMOTOCO', 'HINDALCO', 'HINDUNILVR',\n",
       "       'ICICIBANK', 'INDUSINDBK', 'INFY', 'IOC', 'ITC', 'JSWSTEEL',\n",
       "       'KOTAKBANK', 'LT', 'MARUTI', 'MM', 'NESTLEIND', 'NTPC', 'ONGC',\n",
       "       'POWERGRID', 'RELIANCE', 'SBIN', 'SHREECEM', 'SUNPHARMA',\n",
       "       'TATAMOTORS', 'TATASTEEL', 'TCS', 'TECHM', 'TITAN', 'ULTRACEMCO',\n",
       "       'UPL', 'VEDL', 'WIPRO', 'ZEEL'], dtype=object)"
      ]
     },
     "execution_count": 5,
     "metadata": {},
     "output_type": "execute_result"
    }
   ],
   "source": [
    "comps"
   ]
  },
  {
   "cell_type": "code",
   "execution_count": 6,
   "id": "5f6604c9",
   "metadata": {
    "execution": {
     "iopub.execute_input": "2022-05-16T15:39:36.115085Z",
     "iopub.status.busy": "2022-05-16T15:39:36.114658Z",
     "iopub.status.idle": "2022-05-16T15:39:36.120880Z",
     "shell.execute_reply": "2022-05-16T15:39:36.120284Z"
    },
    "papermill": {
     "duration": 0.070108,
     "end_time": "2022-05-16T15:39:36.122658",
     "exception": false,
     "start_time": "2022-05-16T15:39:36.052550",
     "status": "completed"
    },
    "tags": []
   },
   "outputs": [
    {
     "data": {
      "text/plain": [
       "30"
      ]
     },
     "execution_count": 6,
     "metadata": {},
     "output_type": "execute_result"
    }
   ],
   "source": [
    "comp30 = ['INFY','TCS','RELIANCE','ICICIBANK','HDFC','HCLTECH','BHARTIARTL',\n",
    "          'INDUSINDBK','SBIN','LT','TECHM','MM','AXISBANK','ITC','BAJAJ-AUTO','ONGC',\n",
    "          'TATASTEEL','NTPC','TECHM','ASIANPAINT','POWERGRID','BAJAJFINSV','TITAN','NESTLEIND',\n",
    "          'ULTRACEMCO','MARUTI','HDFCBANK','HINDUNILVR','SUNPHARMA','KOTAKBANK'  \n",
    "         ]\n",
    "len(comp30)"
   ]
  },
  {
   "cell_type": "code",
   "execution_count": 7,
   "id": "bf4e37aa",
   "metadata": {
    "execution": {
     "iopub.execute_input": "2022-05-16T15:39:36.246308Z",
     "iopub.status.busy": "2022-05-16T15:39:36.245879Z",
     "iopub.status.idle": "2022-05-16T15:39:36.248756Z",
     "shell.execute_reply": "2022-05-16T15:39:36.248207Z"
    },
    "papermill": {
     "duration": 0.066868,
     "end_time": "2022-05-16T15:39:36.250572",
     "exception": false,
     "start_time": "2022-05-16T15:39:36.183704",
     "status": "completed"
    },
    "tags": []
   },
   "outputs": [],
   "source": [
    "#comp30"
   ]
  },
  {
   "cell_type": "markdown",
   "id": "0155cf3f",
   "metadata": {
    "papermill": {
     "duration": 0.060321,
     "end_time": "2022-05-16T15:39:36.372055",
     "exception": false,
     "start_time": "2022-05-16T15:39:36.311734",
     "status": "completed"
    },
    "tags": []
   },
   "source": [
    "## Various columns and the dataframe itself"
   ]
  },
  {
   "cell_type": "code",
   "execution_count": 8,
   "id": "85b3f301",
   "metadata": {
    "execution": {
     "iopub.execute_input": "2022-05-16T15:39:36.494987Z",
     "iopub.status.busy": "2022-05-16T15:39:36.494688Z",
     "iopub.status.idle": "2022-05-16T15:39:36.516470Z",
     "shell.execute_reply": "2022-05-16T15:39:36.515890Z"
    },
    "papermill": {
     "duration": 0.085868,
     "end_time": "2022-05-16T15:39:36.518517",
     "exception": false,
     "start_time": "2022-05-16T15:39:36.432649",
     "status": "completed"
    },
    "tags": []
   },
   "outputs": [
    {
     "data": {
      "text/html": [
       "<div>\n",
       "<style scoped>\n",
       "    .dataframe tbody tr th:only-of-type {\n",
       "        vertical-align: middle;\n",
       "    }\n",
       "\n",
       "    .dataframe tbody tr th {\n",
       "        vertical-align: top;\n",
       "    }\n",
       "\n",
       "    .dataframe thead th {\n",
       "        text-align: right;\n",
       "    }\n",
       "</style>\n",
       "<table border=\"1\" class=\"dataframe\">\n",
       "  <thead>\n",
       "    <tr style=\"text-align: right;\">\n",
       "      <th></th>\n",
       "      <th>Symbol</th>\n",
       "      <th>Prev Close</th>\n",
       "      <th>Open</th>\n",
       "      <th>High</th>\n",
       "      <th>Low</th>\n",
       "      <th>Close</th>\n",
       "      <th>Last</th>\n",
       "      <th>Volume</th>\n",
       "      <th>Turnover</th>\n",
       "    </tr>\n",
       "    <tr>\n",
       "      <th>Date</th>\n",
       "      <th></th>\n",
       "      <th></th>\n",
       "      <th></th>\n",
       "      <th></th>\n",
       "      <th></th>\n",
       "      <th></th>\n",
       "      <th></th>\n",
       "      <th></th>\n",
       "      <th></th>\n",
       "    </tr>\n",
       "  </thead>\n",
       "  <tbody>\n",
       "    <tr>\n",
       "      <th>2010-11-04</th>\n",
       "      <td>ADANIPORTS</td>\n",
       "      <td>159.90</td>\n",
       "      <td>161.0</td>\n",
       "      <td>163.00</td>\n",
       "      <td>160.30</td>\n",
       "      <td>161.20</td>\n",
       "      <td>161.05</td>\n",
       "      <td>835546</td>\n",
       "      <td>1.348395e+13</td>\n",
       "    </tr>\n",
       "    <tr>\n",
       "      <th>2010-11-05</th>\n",
       "      <td>ADANIPORTS</td>\n",
       "      <td>161.20</td>\n",
       "      <td>163.0</td>\n",
       "      <td>163.00</td>\n",
       "      <td>161.60</td>\n",
       "      <td>162.30</td>\n",
       "      <td>162.35</td>\n",
       "      <td>187158</td>\n",
       "      <td>3.037435e+12</td>\n",
       "    </tr>\n",
       "    <tr>\n",
       "      <th>2010-11-08</th>\n",
       "      <td>ADANIPORTS</td>\n",
       "      <td>162.30</td>\n",
       "      <td>162.5</td>\n",
       "      <td>163.45</td>\n",
       "      <td>160.20</td>\n",
       "      <td>161.40</td>\n",
       "      <td>161.30</td>\n",
       "      <td>613082</td>\n",
       "      <td>9.911300e+12</td>\n",
       "    </tr>\n",
       "    <tr>\n",
       "      <th>2010-11-09</th>\n",
       "      <td>ADANIPORTS</td>\n",
       "      <td>161.40</td>\n",
       "      <td>162.5</td>\n",
       "      <td>165.00</td>\n",
       "      <td>161.35</td>\n",
       "      <td>162.25</td>\n",
       "      <td>162.40</td>\n",
       "      <td>601933</td>\n",
       "      <td>9.825511e+12</td>\n",
       "    </tr>\n",
       "    <tr>\n",
       "      <th>2010-11-10</th>\n",
       "      <td>ADANIPORTS</td>\n",
       "      <td>162.25</td>\n",
       "      <td>162.5</td>\n",
       "      <td>162.90</td>\n",
       "      <td>159.55</td>\n",
       "      <td>159.90</td>\n",
       "      <td>160.00</td>\n",
       "      <td>423032</td>\n",
       "      <td>6.795621e+12</td>\n",
       "    </tr>\n",
       "    <tr>\n",
       "      <th>...</th>\n",
       "      <td>...</td>\n",
       "      <td>...</td>\n",
       "      <td>...</td>\n",
       "      <td>...</td>\n",
       "      <td>...</td>\n",
       "      <td>...</td>\n",
       "      <td>...</td>\n",
       "      <td>...</td>\n",
       "      <td>...</td>\n",
       "    </tr>\n",
       "    <tr>\n",
       "      <th>2021-04-26</th>\n",
       "      <td>ZEEL</td>\n",
       "      <td>188.00</td>\n",
       "      <td>190.6</td>\n",
       "      <td>191.10</td>\n",
       "      <td>185.10</td>\n",
       "      <td>186.40</td>\n",
       "      <td>186.70</td>\n",
       "      <td>8542755</td>\n",
       "      <td>1.600451e+14</td>\n",
       "    </tr>\n",
       "    <tr>\n",
       "      <th>2021-04-27</th>\n",
       "      <td>ZEEL</td>\n",
       "      <td>186.40</td>\n",
       "      <td>188.0</td>\n",
       "      <td>192.95</td>\n",
       "      <td>186.80</td>\n",
       "      <td>188.15</td>\n",
       "      <td>188.80</td>\n",
       "      <td>14247767</td>\n",
       "      <td>2.698636e+14</td>\n",
       "    </tr>\n",
       "    <tr>\n",
       "      <th>2021-04-28</th>\n",
       "      <td>ZEEL</td>\n",
       "      <td>188.15</td>\n",
       "      <td>188.8</td>\n",
       "      <td>190.60</td>\n",
       "      <td>187.10</td>\n",
       "      <td>189.10</td>\n",
       "      <td>188.95</td>\n",
       "      <td>8429439</td>\n",
       "      <td>1.591917e+14</td>\n",
       "    </tr>\n",
       "    <tr>\n",
       "      <th>2021-04-29</th>\n",
       "      <td>ZEEL</td>\n",
       "      <td>189.10</td>\n",
       "      <td>190.8</td>\n",
       "      <td>191.65</td>\n",
       "      <td>186.00</td>\n",
       "      <td>186.55</td>\n",
       "      <td>186.60</td>\n",
       "      <td>9483009</td>\n",
       "      <td>1.777471e+14</td>\n",
       "    </tr>\n",
       "    <tr>\n",
       "      <th>2021-04-30</th>\n",
       "      <td>ZEEL</td>\n",
       "      <td>186.55</td>\n",
       "      <td>185.3</td>\n",
       "      <td>190.95</td>\n",
       "      <td>183.65</td>\n",
       "      <td>185.60</td>\n",
       "      <td>185.00</td>\n",
       "      <td>11435285</td>\n",
       "      <td>2.144440e+14</td>\n",
       "    </tr>\n",
       "  </tbody>\n",
       "</table>\n",
       "<p>127302 rows × 9 columns</p>\n",
       "</div>"
      ],
      "text/plain": [
       "                Symbol  Prev Close   Open    High     Low   Close    Last  \\\n",
       "Date                                                                        \n",
       "2010-11-04  ADANIPORTS      159.90  161.0  163.00  160.30  161.20  161.05   \n",
       "2010-11-05  ADANIPORTS      161.20  163.0  163.00  161.60  162.30  162.35   \n",
       "2010-11-08  ADANIPORTS      162.30  162.5  163.45  160.20  161.40  161.30   \n",
       "2010-11-09  ADANIPORTS      161.40  162.5  165.00  161.35  162.25  162.40   \n",
       "2010-11-10  ADANIPORTS      162.25  162.5  162.90  159.55  159.90  160.00   \n",
       "...                ...         ...    ...     ...     ...     ...     ...   \n",
       "2021-04-26        ZEEL      188.00  190.6  191.10  185.10  186.40  186.70   \n",
       "2021-04-27        ZEEL      186.40  188.0  192.95  186.80  188.15  188.80   \n",
       "2021-04-28        ZEEL      188.15  188.8  190.60  187.10  189.10  188.95   \n",
       "2021-04-29        ZEEL      189.10  190.8  191.65  186.00  186.55  186.60   \n",
       "2021-04-30        ZEEL      186.55  185.3  190.95  183.65  185.60  185.00   \n",
       "\n",
       "              Volume      Turnover  \n",
       "Date                                \n",
       "2010-11-04    835546  1.348395e+13  \n",
       "2010-11-05    187158  3.037435e+12  \n",
       "2010-11-08    613082  9.911300e+12  \n",
       "2010-11-09    601933  9.825511e+12  \n",
       "2010-11-10    423032  6.795621e+12  \n",
       "...              ...           ...  \n",
       "2021-04-26   8542755  1.600451e+14  \n",
       "2021-04-27  14247767  2.698636e+14  \n",
       "2021-04-28   8429439  1.591917e+14  \n",
       "2021-04-29   9483009  1.777471e+14  \n",
       "2021-04-30  11435285  2.144440e+14  \n",
       "\n",
       "[127302 rows x 9 columns]"
      ]
     },
     "execution_count": 8,
     "metadata": {},
     "output_type": "execute_result"
    }
   ],
   "source": [
    "cols = ['Symbol','Prev Close', 'Open', 'High', 'Low','Close' ,'Last','Volume', 'Turnover']\n",
    "dft"
   ]
  },
  {
   "cell_type": "code",
   "execution_count": null,
   "id": "38140123",
   "metadata": {
    "papermill": {
     "duration": 0.061356,
     "end_time": "2022-05-16T15:39:36.642099",
     "exception": false,
     "start_time": "2022-05-16T15:39:36.580743",
     "status": "completed"
    },
    "tags": []
   },
   "outputs": [],
   "source": []
  },
  {
   "cell_type": "markdown",
   "id": "01b5c92b",
   "metadata": {
    "papermill": {
     "duration": 0.062401,
     "end_time": "2022-05-16T15:39:36.766229",
     "exception": false,
     "start_time": "2022-05-16T15:39:36.703828",
     "status": "completed"
    },
    "tags": []
   },
   "source": [
    "## Get Data Function"
   ]
  },
  {
   "cell_type": "code",
   "execution_count": 9,
   "id": "bbbd33a6",
   "metadata": {
    "execution": {
     "iopub.execute_input": "2022-05-16T15:39:36.891655Z",
     "iopub.status.busy": "2022-05-16T15:39:36.891213Z",
     "iopub.status.idle": "2022-05-16T15:39:36.895290Z",
     "shell.execute_reply": "2022-05-16T15:39:36.894429Z"
    },
    "papermill": {
     "duration": 0.069758,
     "end_time": "2022-05-16T15:39:36.897373",
     "exception": false,
     "start_time": "2022-05-16T15:39:36.827615",
     "status": "completed"
    },
    "tags": []
   },
   "outputs": [],
   "source": [
    "def get_data(stock,feature):\n",
    "    return dft[dft.Symbol == stock][feature]"
   ]
  },
  {
   "cell_type": "code",
   "execution_count": null,
   "id": "403ff903",
   "metadata": {
    "papermill": {
     "duration": 0.062442,
     "end_time": "2022-05-16T15:39:37.022081",
     "exception": false,
     "start_time": "2022-05-16T15:39:36.959639",
     "status": "completed"
    },
    "tags": []
   },
   "outputs": [],
   "source": []
  },
  {
   "cell_type": "markdown",
   "id": "92d239ef",
   "metadata": {
    "papermill": {
     "duration": 0.061073,
     "end_time": "2022-05-16T15:39:37.146123",
     "exception": false,
     "start_time": "2022-05-16T15:39:37.085050",
     "status": "completed"
    },
    "tags": []
   },
   "source": [
    "## Generate Data Function\n",
    "**This function returns a dataframe containing the following features of a stock:**\n",
    "- Opening Price\n",
    "- Day wise difference\n",
    "- Consecutive day opening price difference\n",
    "- MACD Histogram value for the day\n",
    "- RSI value for the day\n",
    "\n",
    "These features are returned as a dataframe, which will later be used for time series forecasting."
   ]
  },
  {
   "cell_type": "code",
   "execution_count": 10,
   "id": "335e99c6",
   "metadata": {
    "execution": {
     "iopub.execute_input": "2022-05-16T15:39:37.271037Z",
     "iopub.status.busy": "2022-05-16T15:39:37.270699Z",
     "iopub.status.idle": "2022-05-16T15:39:37.283800Z",
     "shell.execute_reply": "2022-05-16T15:39:37.282929Z"
    },
    "papermill": {
     "duration": 0.078014,
     "end_time": "2022-05-16T15:39:37.285893",
     "exception": false,
     "start_time": "2022-05-16T15:39:37.207879",
     "status": "completed"
    },
    "tags": []
   },
   "outputs": [],
   "source": [
    "def generate_data(stock,feature,slow=26,fast=12,smooth=9,lookback=14):\n",
    "    op = get_data(stock,'Open') # Open\n",
    "    cl = get_data(stock,'Close') # Close\n",
    "    vol = get_data(stock,'Volume') # Volume\n",
    "    #diff = cl-op # Daily Difference\n",
    "    ewa1 = op.ewm(span=slow,min_periods=0,adjust=False).mean()\n",
    "    datf = ewa1.diff() # Consecutive Day Difference\n",
    "    ewa2 = op.ewm(span=fast,min_periods=0,adjust=False).mean()\n",
    "    macd = ewa2-ewa1\n",
    "    signal = macd.ewm(span=smooth,min_periods=0,adjust=False).mean().values\n",
    "    hist = macd - signal # MACD Difference\n",
    "    \n",
    "    #datf = op.diff()\n",
    "    \n",
    "    up = []\n",
    "    down = []\n",
    "    for i in range(len(datf)):\n",
    "        if datf[i] < 0:\n",
    "            up.append(0)\n",
    "            down.append(datf[i])\n",
    "        else:\n",
    "            up.append(datf[i])\n",
    "            down.append(0)\n",
    "            \n",
    "    up_series = pd.Series(up)\n",
    "    down_series = pd.Series(down).abs()\n",
    "    up_ewm = up_series.ewm(com = lookback - 1, adjust = False).mean()\n",
    "    down_ewm = down_series.ewm(com = lookback - 1, adjust = False).mean()\n",
    "    rs = up_ewm/down_ewm\n",
    "    rsi = 100 - (100 / (1 + rs)) # RSI\n",
    "    \n",
    "    final = {'open':op.values,'close':cl.values,'volume':vol,'cdiff':datf.values,\n",
    "             'macdhist':hist.values,'rsi':rsi.values\n",
    "            }\n",
    "    \n",
    "    df = pd.DataFrame(final)\n",
    "    df.set_index(op.index,inplace=True)\n",
    "    df.interpolate(limit_direction ='backward',methoh = 'linear',inplace=True)\n",
    "    \n",
    "    return df\n",
    "    "
   ]
  },
  {
   "cell_type": "code",
   "execution_count": 11,
   "id": "6cf9ae23",
   "metadata": {
    "execution": {
     "iopub.execute_input": "2022-05-16T15:39:37.412109Z",
     "iopub.status.busy": "2022-05-16T15:39:37.411509Z",
     "iopub.status.idle": "2022-05-16T15:39:37.527590Z",
     "shell.execute_reply": "2022-05-16T15:39:37.526648Z"
    },
    "papermill": {
     "duration": 0.182201,
     "end_time": "2022-05-16T15:39:37.529597",
     "exception": false,
     "start_time": "2022-05-16T15:39:37.347396",
     "status": "completed"
    },
    "tags": []
   },
   "outputs": [
    {
     "name": "stdout",
     "output_type": "stream",
     "text": [
      "CPU times: user 84 ms, sys: 3.66 ms, total: 87.7 ms\n",
      "Wall time: 93.7 ms\n"
     ]
    },
    {
     "data": {
      "text/html": [
       "<div>\n",
       "<style scoped>\n",
       "    .dataframe tbody tr th:only-of-type {\n",
       "        vertical-align: middle;\n",
       "    }\n",
       "\n",
       "    .dataframe tbody tr th {\n",
       "        vertical-align: top;\n",
       "    }\n",
       "\n",
       "    .dataframe thead th {\n",
       "        text-align: right;\n",
       "    }\n",
       "</style>\n",
       "<table border=\"1\" class=\"dataframe\">\n",
       "  <thead>\n",
       "    <tr style=\"text-align: right;\">\n",
       "      <th></th>\n",
       "      <th>open</th>\n",
       "      <th>close</th>\n",
       "      <th>volume</th>\n",
       "      <th>cdiff</th>\n",
       "      <th>macdhist</th>\n",
       "      <th>rsi</th>\n",
       "    </tr>\n",
       "    <tr>\n",
       "      <th>Date</th>\n",
       "      <th></th>\n",
       "      <th></th>\n",
       "      <th></th>\n",
       "      <th></th>\n",
       "      <th></th>\n",
       "      <th></th>\n",
       "    </tr>\n",
       "  </thead>\n",
       "  <tbody>\n",
       "    <tr>\n",
       "      <th>2010-11-04</th>\n",
       "      <td>1501.00</td>\n",
       "      <td>1507.60</td>\n",
       "      <td>352793</td>\n",
       "      <td>1.777778</td>\n",
       "      <td>0.000000</td>\n",
       "      <td>100.000000</td>\n",
       "    </tr>\n",
       "    <tr>\n",
       "      <th>2010-11-05</th>\n",
       "      <td>1525.00</td>\n",
       "      <td>1512.35</td>\n",
       "      <td>40103</td>\n",
       "      <td>1.777778</td>\n",
       "      <td>1.531624</td>\n",
       "      <td>100.000000</td>\n",
       "    </tr>\n",
       "    <tr>\n",
       "      <th>2010-11-08</th>\n",
       "      <td>1515.00</td>\n",
       "      <td>1488.60</td>\n",
       "      <td>228488</td>\n",
       "      <td>0.905350</td>\n",
       "      <td>1.769658</td>\n",
       "      <td>100.000000</td>\n",
       "    </tr>\n",
       "    <tr>\n",
       "      <th>2010-11-09</th>\n",
       "      <td>1490.00</td>\n",
       "      <td>1471.95</td>\n",
       "      <td>382790</td>\n",
       "      <td>-1.013565</td>\n",
       "      <td>0.223119</td>\n",
       "      <td>95.652653</td>\n",
       "    </tr>\n",
       "    <tr>\n",
       "      <th>2010-11-10</th>\n",
       "      <td>1475.00</td>\n",
       "      <td>1475.10</td>\n",
       "      <td>209770</td>\n",
       "      <td>-2.049597</td>\n",
       "      <td>-1.723215</td>\n",
       "      <td>87.380120</td>\n",
       "    </tr>\n",
       "    <tr>\n",
       "      <th>...</th>\n",
       "      <td>...</td>\n",
       "      <td>...</td>\n",
       "      <td>...</td>\n",
       "      <td>...</td>\n",
       "      <td>...</td>\n",
       "      <td>...</td>\n",
       "    </tr>\n",
       "    <tr>\n",
       "      <th>2021-04-26</th>\n",
       "      <td>6690.20</td>\n",
       "      <td>6638.90</td>\n",
       "      <td>937344</td>\n",
       "      <td>-11.953606</td>\n",
       "      <td>0.907720</td>\n",
       "      <td>1.374358</td>\n",
       "    </tr>\n",
       "    <tr>\n",
       "      <th>2021-04-27</th>\n",
       "      <td>6669.95</td>\n",
       "      <td>6568.75</td>\n",
       "      <td>1610651</td>\n",
       "      <td>-12.568154</td>\n",
       "      <td>7.469229</td>\n",
       "      <td>1.309428</td>\n",
       "    </tr>\n",
       "    <tr>\n",
       "      <th>2021-04-28</th>\n",
       "      <td>6568.75</td>\n",
       "      <td>6573.80</td>\n",
       "      <td>1406270</td>\n",
       "      <td>-19.133476</td>\n",
       "      <td>6.024766</td>\n",
       "      <td>1.215296</td>\n",
       "    </tr>\n",
       "    <tr>\n",
       "      <th>2021-04-29</th>\n",
       "      <td>6635.00</td>\n",
       "      <td>6565.65</td>\n",
       "      <td>757075</td>\n",
       "      <td>-12.808774</td>\n",
       "      <td>10.310572</td>\n",
       "      <td>1.155414</td>\n",
       "    </tr>\n",
       "    <tr>\n",
       "      <th>2021-04-30</th>\n",
       "      <td>6537.10</td>\n",
       "      <td>6455.65</td>\n",
       "      <td>849997</td>\n",
       "      <td>-19.111828</td>\n",
       "      <td>7.464161</td>\n",
       "      <td>1.070645</td>\n",
       "    </tr>\n",
       "  </tbody>\n",
       "</table>\n",
       "<p>2598 rows × 6 columns</p>\n",
       "</div>"
      ],
      "text/plain": [
       "               open    close   volume      cdiff   macdhist         rsi\n",
       "Date                                                                   \n",
       "2010-11-04  1501.00  1507.60   352793   1.777778   0.000000  100.000000\n",
       "2010-11-05  1525.00  1512.35    40103   1.777778   1.531624  100.000000\n",
       "2010-11-08  1515.00  1488.60   228488   0.905350   1.769658  100.000000\n",
       "2010-11-09  1490.00  1471.95   382790  -1.013565   0.223119   95.652653\n",
       "2010-11-10  1475.00  1475.10   209770  -2.049597  -1.723215   87.380120\n",
       "...             ...      ...      ...        ...        ...         ...\n",
       "2021-04-26  6690.20  6638.90   937344 -11.953606   0.907720    1.374358\n",
       "2021-04-27  6669.95  6568.75  1610651 -12.568154   7.469229    1.309428\n",
       "2021-04-28  6568.75  6573.80  1406270 -19.133476   6.024766    1.215296\n",
       "2021-04-29  6635.00  6565.65   757075 -12.808774  10.310572    1.155414\n",
       "2021-04-30  6537.10  6455.65   849997 -19.111828   7.464161    1.070645\n",
       "\n",
       "[2598 rows x 6 columns]"
      ]
     },
     "execution_count": 11,
     "metadata": {},
     "output_type": "execute_result"
    }
   ],
   "source": [
    "%%time\n",
    "df = generate_data('MARUTI','Open')\n",
    "df"
   ]
  },
  {
   "cell_type": "code",
   "execution_count": 12,
   "id": "2151d458",
   "metadata": {
    "execution": {
     "iopub.execute_input": "2022-05-16T15:39:37.656156Z",
     "iopub.status.busy": "2022-05-16T15:39:37.655550Z",
     "iopub.status.idle": "2022-05-16T15:39:40.309647Z",
     "shell.execute_reply": "2022-05-16T15:39:40.308687Z"
    },
    "papermill": {
     "duration": 2.723002,
     "end_time": "2022-05-16T15:39:40.314823",
     "exception": false,
     "start_time": "2022-05-16T15:39:37.591821",
     "status": "completed"
    },
    "tags": []
   },
   "outputs": [
    {
     "data": {
      "image/png": "[encoded data removed]",
      "text/plain": [
       "<Figure size 1080x1800 with 6 Axes>"
      ]
     },
     "metadata": {},
     "output_type": "display_data"
    }
   ],
   "source": [
    "def plot_data(data):\n",
    "    n = len(data.columns)\n",
    "    plt.figure(figsize=(15,25))\n",
    "    for i in range(n):\n",
    "        plt.subplot(n,1,i+1)\n",
    "        sns.lineplot(data = data,x = data.index, y = data.columns[i])\n",
    "        plt.title(data.columns[i])\n",
    "        plt.xlabel('')\n",
    "        \n",
    "plot_data(df)"
   ]
  },
  {
   "cell_type": "code",
   "execution_count": 13,
   "id": "a313da2d",
   "metadata": {
    "execution": {
     "iopub.execute_input": "2022-05-16T15:39:40.458441Z",
     "iopub.status.busy": "2022-05-16T15:39:40.458126Z",
     "iopub.status.idle": "2022-05-16T15:39:40.463993Z",
     "shell.execute_reply": "2022-05-16T15:39:40.463096Z"
    },
    "papermill": {
     "duration": 0.080042,
     "end_time": "2022-05-16T15:39:40.465969",
     "exception": false,
     "start_time": "2022-05-16T15:39:40.385927",
     "status": "completed"
    },
    "tags": []
   },
   "outputs": [
    {
     "data": {
      "text/plain": [
       "(2598, 6)"
      ]
     },
     "execution_count": 13,
     "metadata": {},
     "output_type": "execute_result"
    }
   ],
   "source": [
    "df.shape"
   ]
  },
  {
   "cell_type": "markdown",
   "id": "590ce1a8",
   "metadata": {
    "papermill": {
     "duration": 0.069659,
     "end_time": "2022-05-16T15:39:40.606171",
     "exception": false,
     "start_time": "2022-05-16T15:39:40.536512",
     "status": "completed"
    },
    "tags": []
   },
   "source": [
    "**For our task, the input data will be:** \n",
    "- Stock Opening Price\n",
    "- Consecutive Day Difference\n",
    "- MACD Histogram\n",
    "- RSI\n",
    "\n",
    "**While the target will be:**\n",
    "- Daily Difference\n"
   ]
  },
  {
   "cell_type": "code",
   "execution_count": 14,
   "id": "ec37a7ba",
   "metadata": {
    "execution": {
     "iopub.execute_input": "2022-05-16T15:39:40.748459Z",
     "iopub.status.busy": "2022-05-16T15:39:40.748132Z",
     "iopub.status.idle": "2022-05-16T15:39:40.752529Z",
     "shell.execute_reply": "2022-05-16T15:39:40.751622Z"
    },
    "papermill": {
     "duration": 0.078365,
     "end_time": "2022-05-16T15:39:40.754732",
     "exception": false,
     "start_time": "2022-05-16T15:39:40.676367",
     "status": "completed"
    },
    "tags": []
   },
   "outputs": [],
   "source": [
    "ipfea = ['open','cdiff','macdhist','rsi','volume']\n",
    "opfea = ['close']"
   ]
  },
  {
   "cell_type": "markdown",
   "id": "a3f63a1a",
   "metadata": {
    "papermill": {
     "duration": 0.06971,
     "end_time": "2022-05-16T15:39:40.894748",
     "exception": false,
     "start_time": "2022-05-16T15:39:40.825038",
     "status": "completed"
    },
    "tags": []
   },
   "source": [
    "**Since all our features are of a different scale, it is important for us to scale our data, for our model to run faster and not develop bias towards a higher scale feature** "
   ]
  },
  {
   "cell_type": "code",
   "execution_count": 15,
   "id": "13e0997c",
   "metadata": {
    "execution": {
     "iopub.execute_input": "2022-05-16T15:39:41.039476Z",
     "iopub.status.busy": "2022-05-16T15:39:41.039180Z",
     "iopub.status.idle": "2022-05-16T15:39:41.054625Z",
     "shell.execute_reply": "2022-05-16T15:39:41.053661Z"
    },
    "papermill": {
     "duration": 0.089444,
     "end_time": "2022-05-16T15:39:41.056656",
     "exception": false,
     "start_time": "2022-05-16T15:39:40.967212",
     "status": "completed"
    },
    "tags": []
   },
   "outputs": [
    {
     "name": "stdout",
     "output_type": "stream",
     "text": [
      "CPU times: user 9.65 ms, sys: 0 ns, total: 9.65 ms\n",
      "Wall time: 9.56 ms\n"
     ]
    }
   ],
   "source": [
    "%%time\n",
    "scaip = StandardScaler()\n",
    "scaop = StandardScaler()\n",
    "df[ipfea] = scaip.fit_transform(df[ipfea])\n",
    "df[opfea] = scaop.fit_transform(df[opfea])\n",
    "#df_sca = pd.DataFrame(sca.fit_transform(df),columns=df.columns)"
   ]
  },
  {
   "cell_type": "code",
   "execution_count": 16,
   "id": "357fb1c2",
   "metadata": {
    "execution": {
     "iopub.execute_input": "2022-05-16T15:39:41.199978Z",
     "iopub.status.busy": "2022-05-16T15:39:41.199620Z",
     "iopub.status.idle": "2022-05-16T15:39:41.206204Z",
     "shell.execute_reply": "2022-05-16T15:39:41.205167Z"
    },
    "papermill": {
     "duration": 0.08054,
     "end_time": "2022-05-16T15:39:41.208264",
     "exception": false,
     "start_time": "2022-05-16T15:39:41.127724",
     "status": "completed"
    },
    "tags": []
   },
   "outputs": [],
   "source": [
    "def chunk(data,window=7):\n",
    "    iparr,oparr = [],[]\n",
    "    for i in tqdm(range(data.shape[0]-window)):\n",
    "        iparr.append(data[ipfea].iloc[i:i+window])\n",
    "        oparr.append(data[opfea].iloc[i+window])\n",
    "    iparr,oparr = np.array(iparr),np.array(oparr)\n",
    "    print(iparr.shape,oparr.shape)\n",
    "    return iparr,oparr    \n",
    "       "
   ]
  },
  {
   "cell_type": "markdown",
   "id": "99f91a1a",
   "metadata": {
    "papermill": {
     "duration": 0.070091,
     "end_time": "2022-05-16T15:39:41.351410",
     "exception": false,
     "start_time": "2022-05-16T15:39:41.281319",
     "status": "completed"
    },
    "tags": []
   },
   "source": [
    "**We will keep data from start till 31/12/2020 for training and the data from 1/1/2021 for test**"
   ]
  },
  {
   "cell_type": "code",
   "execution_count": 17,
   "id": "7338e109",
   "metadata": {
    "execution": {
     "iopub.execute_input": "2022-05-16T15:39:41.493879Z",
     "iopub.status.busy": "2022-05-16T15:39:41.493555Z",
     "iopub.status.idle": "2022-05-16T15:39:45.039446Z",
     "shell.execute_reply": "2022-05-16T15:39:45.038527Z"
    },
    "papermill": {
     "duration": 3.620848,
     "end_time": "2022-05-16T15:39:45.042439",
     "exception": false,
     "start_time": "2022-05-16T15:39:41.421591",
     "status": "completed"
    },
    "tags": []
   },
   "outputs": [
    {
     "name": "stderr",
     "output_type": "stream",
     "text": [
      "100%|██████████| 2512/2512 [00:03<00:00, 749.66it/s]\n"
     ]
    },
    {
     "name": "stdout",
     "output_type": "stream",
     "text": [
      "(2512, 7, 5) (2512, 1)\n"
     ]
    },
    {
     "name": "stderr",
     "output_type": "stream",
     "text": [
      "100%|██████████| 73/73 [00:00<00:00, 845.93it/s]"
     ]
    },
    {
     "name": "stdout",
     "output_type": "stream",
     "text": [
      "(73, 7, 5) (73, 1)\n",
      "CPU times: user 3.39 s, sys: 272 ms, total: 3.67 s\n",
      "Wall time: 3.54 s\n"
     ]
    },
    {
     "name": "stderr",
     "output_type": "stream",
     "text": [
      "\n"
     ]
    }
   ],
   "source": [
    "%%time\n",
    "date = '2021-01-01'\n",
    "ips,ops = chunk(df.loc[:date])\n",
    "ipt,opt = chunk(df.loc[date:])"
   ]
  },
  {
   "cell_type": "code",
   "execution_count": 18,
   "id": "cae4fdff",
   "metadata": {
    "execution": {
     "iopub.execute_input": "2022-05-16T15:39:45.240008Z",
     "iopub.status.busy": "2022-05-16T15:39:45.238827Z",
     "iopub.status.idle": "2022-05-16T15:39:45.247331Z",
     "shell.execute_reply": "2022-05-16T15:39:45.246621Z"
    },
    "papermill": {
     "duration": 0.105413,
     "end_time": "2022-05-16T15:39:45.249771",
     "exception": false,
     "start_time": "2022-05-16T15:39:45.144358",
     "status": "completed"
    },
    "tags": []
   },
   "outputs": [
    {
     "name": "stdout",
     "output_type": "stream",
     "text": [
      "CPU times: user 1.61 ms, sys: 0 ns, total: 1.61 ms\n",
      "Wall time: 1.62 ms\n"
     ]
    }
   ],
   "source": [
    "%%time\n",
    "ipx,opx = shuffle(ips,ops,random_state=32)"
   ]
  },
  {
   "cell_type": "code",
   "execution_count": 19,
   "id": "f65e3b89",
   "metadata": {
    "execution": {
     "iopub.execute_input": "2022-05-16T15:39:45.461805Z",
     "iopub.status.busy": "2022-05-16T15:39:45.460888Z",
     "iopub.status.idle": "2022-05-16T15:39:45.476666Z",
     "shell.execute_reply": "2022-05-16T15:39:45.475660Z"
    },
    "papermill": {
     "duration": 0.10809,
     "end_time": "2022-05-16T15:39:45.479539",
     "exception": false,
     "start_time": "2022-05-16T15:39:45.371449",
     "status": "completed"
    },
    "tags": []
   },
   "outputs": [
    {
     "data": {
      "text/html": [
       "<div>\n",
       "<style scoped>\n",
       "    .dataframe tbody tr th:only-of-type {\n",
       "        vertical-align: middle;\n",
       "    }\n",
       "\n",
       "    .dataframe tbody tr th {\n",
       "        vertical-align: top;\n",
       "    }\n",
       "\n",
       "    .dataframe thead th {\n",
       "        text-align: right;\n",
       "    }\n",
       "</style>\n",
       "<table border=\"1\" class=\"dataframe\">\n",
       "  <thead>\n",
       "    <tr style=\"text-align: right;\">\n",
       "      <th></th>\n",
       "      <th>open</th>\n",
       "      <th>close</th>\n",
       "      <th>volume</th>\n",
       "      <th>cdiff</th>\n",
       "      <th>macdhist</th>\n",
       "      <th>rsi</th>\n",
       "    </tr>\n",
       "    <tr>\n",
       "      <th>Date</th>\n",
       "      <th></th>\n",
       "      <th></th>\n",
       "      <th></th>\n",
       "      <th></th>\n",
       "      <th></th>\n",
       "      <th></th>\n",
       "    </tr>\n",
       "  </thead>\n",
       "  <tbody>\n",
       "    <tr>\n",
       "      <th>2010-11-04</th>\n",
       "      <td>-1.090828</td>\n",
       "      <td>-1.089120</td>\n",
       "      <td>-0.609118</td>\n",
       "      <td>-0.014041</td>\n",
       "      <td>0.007080</td>\n",
       "      <td>1.069493</td>\n",
       "    </tr>\n",
       "    <tr>\n",
       "      <th>2010-11-05</th>\n",
       "      <td>-1.081909</td>\n",
       "      <td>-1.087351</td>\n",
       "      <td>-1.135564</td>\n",
       "      <td>-0.014041</td>\n",
       "      <td>0.058923</td>\n",
       "      <td>1.069493</td>\n",
       "    </tr>\n",
       "    <tr>\n",
       "      <th>2010-11-08</th>\n",
       "      <td>-1.085625</td>\n",
       "      <td>-1.096196</td>\n",
       "      <td>-0.818398</td>\n",
       "      <td>-0.062401</td>\n",
       "      <td>0.066981</td>\n",
       "      <td>1.069493</td>\n",
       "    </tr>\n",
       "    <tr>\n",
       "      <th>2010-11-09</th>\n",
       "      <td>-1.094915</td>\n",
       "      <td>-1.102397</td>\n",
       "      <td>-0.558615</td>\n",
       "      <td>-0.168768</td>\n",
       "      <td>0.014632</td>\n",
       "      <td>0.950447</td>\n",
       "    </tr>\n",
       "    <tr>\n",
       "      <th>2010-11-10</th>\n",
       "      <td>-1.100489</td>\n",
       "      <td>-1.101224</td>\n",
       "      <td>-0.849912</td>\n",
       "      <td>-0.226197</td>\n",
       "      <td>-0.051248</td>\n",
       "      <td>0.723916</td>\n",
       "    </tr>\n",
       "  </tbody>\n",
       "</table>\n",
       "</div>"
      ],
      "text/plain": [
       "                open     close    volume     cdiff  macdhist       rsi\n",
       "Date                                                                  \n",
       "2010-11-04 -1.090828 -1.089120 -0.609118 -0.014041  0.007080  1.069493\n",
       "2010-11-05 -1.081909 -1.087351 -1.135564 -0.014041  0.058923  1.069493\n",
       "2010-11-08 -1.085625 -1.096196 -0.818398 -0.062401  0.066981  1.069493\n",
       "2010-11-09 -1.094915 -1.102397 -0.558615 -0.168768  0.014632  0.950447\n",
       "2010-11-10 -1.100489 -1.101224 -0.849912 -0.226197 -0.051248  0.723916"
      ]
     },
     "execution_count": 19,
     "metadata": {},
     "output_type": "execute_result"
    }
   ],
   "source": [
    "df.head()"
   ]
  },
  {
   "cell_type": "code",
   "execution_count": null,
   "id": "eed1569a",
   "metadata": {
    "papermill": {
     "duration": 0.087994,
     "end_time": "2022-05-16T15:39:45.670174",
     "exception": false,
     "start_time": "2022-05-16T15:39:45.582180",
     "status": "completed"
    },
    "tags": []
   },
   "outputs": [],
   "source": []
  },
  {
   "cell_type": "markdown",
   "id": "e0968c47",
   "metadata": {
    "papermill": {
     "duration": 0.086238,
     "end_time": "2022-05-16T15:39:45.843215",
     "exception": false,
     "start_time": "2022-05-16T15:39:45.756977",
     "status": "completed"
    },
    "tags": []
   },
   "source": [
    "## LSTM Model"
   ]
  },
  {
   "cell_type": "code",
   "execution_count": 20,
   "id": "fcd17823",
   "metadata": {
    "execution": {
     "iopub.execute_input": "2022-05-16T15:39:46.020191Z",
     "iopub.status.busy": "2022-05-16T15:39:46.019924Z",
     "iopub.status.idle": "2022-05-16T15:39:46.023626Z",
     "shell.execute_reply": "2022-05-16T15:39:46.022609Z"
    },
    "papermill": {
     "duration": 0.093873,
     "end_time": "2022-05-16T15:39:46.025782",
     "exception": false,
     "start_time": "2022-05-16T15:39:45.931909",
     "status": "completed"
    },
    "tags": []
   },
   "outputs": [],
   "source": [
    "import tensorflow as tf\n"
   ]
  },
  {
   "cell_type": "code",
   "execution_count": 21,
   "id": "e453b078",
   "metadata": {
    "execution": {
     "iopub.execute_input": "2022-05-16T15:39:46.218136Z",
     "iopub.status.busy": "2022-05-16T15:39:46.217646Z",
     "iopub.status.idle": "2022-05-16T15:39:46.223823Z",
     "shell.execute_reply": "2022-05-16T15:39:46.223011Z"
    },
    "papermill": {
     "duration": 0.104712,
     "end_time": "2022-05-16T15:39:46.225733",
     "exception": false,
     "start_time": "2022-05-16T15:39:46.121021",
     "status": "completed"
    },
    "tags": []
   },
   "outputs": [
    {
     "data": {
      "text/plain": [
       "{'act': 'tanh',\n",
       " 'batch': 16,\n",
       " 'drp': 0.017342822420160185,\n",
       " 'lr': 0.0005363928590922107,\n",
       " 'epoch': 45}"
      ]
     },
     "execution_count": 21,
     "metadata": {},
     "output_type": "execute_result"
    }
   ],
   "source": [
    "{'act': 'tanh',\n",
    " 'batch': 16,\n",
    " 'drp': 0.017342822420160185,\n",
    " 'lr': 0.0005363928590922107,\n",
    " 'epoch': 45}"
   ]
  },
  {
   "cell_type": "code",
   "execution_count": 22,
   "id": "d3ecf4e8",
   "metadata": {
    "execution": {
     "iopub.execute_input": "2022-05-16T15:39:46.431423Z",
     "iopub.status.busy": "2022-05-16T15:39:46.430770Z",
     "iopub.status.idle": "2022-05-16T15:39:49.148099Z",
     "shell.execute_reply": "2022-05-16T15:39:49.147113Z"
    },
    "papermill": {
     "duration": 2.815763,
     "end_time": "2022-05-16T15:39:49.150849",
     "exception": false,
     "start_time": "2022-05-16T15:39:46.335086",
     "status": "completed"
    },
    "tags": []
   },
   "outputs": [
    {
     "name": "stderr",
     "output_type": "stream",
     "text": [
      "2022-05-16 15:39:47.583330: I tensorflow/core/common_runtime/process_util.cc:146] Creating new thread pool with default inter op setting: 2. Tune using inter_op_parallelism_threads for best performance.\n"
     ]
    }
   ],
   "source": [
    "act = 'tanh'\n",
    "drp = 0.017342822420160185\n",
    "model = tf.keras.models.Sequential([\n",
    "                           tf.keras.layers.GRU(units=8,activation=act,return_sequences=True,\n",
    "                                                input_shape=(ipx.shape[1],ipx.shape[2])),\n",
    "                           tf.keras.layers.GRU(units=16,activation=act,return_sequences=True),\n",
    "                           tf.keras.layers.Dropout(drp),\n",
    "                           tf.keras.layers.GRU(units=64,activation=act,return_sequences=True),\n",
    "                           tf.keras.layers.Dropout(drp),\n",
    "    \n",
    "                           #tf.keras.layers.GRU(units=128,activation=act,return_sequences=True),\n",
    "                           #tf.keras.layers.Dropout(drp),\n",
    "                           #tf.keras.layers.GRU(units=128,activation=act,return_sequences=True),\n",
    "                           #tf.keras.layers.Dropout(drp),\n",
    "    \n",
    "                           tf.keras.layers.GRU(units=64,activation=act,return_sequences=True),\n",
    "                           tf.keras.layers.Dropout(drp),\n",
    "                           tf.keras.layers.GRU(units=16,activation=act,return_sequences=True),\n",
    "                           tf.keras.layers.Dropout(drp),\n",
    "                           tf.keras.layers.GRU(units=8,activation='tanh',return_sequences=True),\n",
    "                           tf.keras.layers.Dropout(drp),\n",
    "                           tf.keras.layers.GRU(units=4,activation=act),\n",
    "                           tf.keras.layers.Dense(units=1)\n",
    "                          ])"
   ]
  },
  {
   "cell_type": "code",
   "execution_count": 23,
   "id": "224167b4",
   "metadata": {
    "execution": {
     "iopub.execute_input": "2022-05-16T15:39:49.333294Z",
     "iopub.status.busy": "2022-05-16T15:39:49.332541Z",
     "iopub.status.idle": "2022-05-16T15:39:49.353476Z",
     "shell.execute_reply": "2022-05-16T15:39:49.352399Z"
    },
    "papermill": {
     "duration": 0.11357,
     "end_time": "2022-05-16T15:39:49.355708",
     "exception": false,
     "start_time": "2022-05-16T15:39:49.242138",
     "status": "completed"
    },
    "tags": []
   },
   "outputs": [
    {
     "name": "stdout",
     "output_type": "stream",
     "text": [
      "CPU times: user 12.7 ms, sys: 0 ns, total: 12.7 ms\n",
      "Wall time: 12.7 ms\n"
     ]
    }
   ],
   "source": [
    "%%time\n",
    "tf.keras.backend.clear_session()\n",
    "\n",
    "opti = tf.optimizers.Adam(learning_rate=0.0005363928590922107)\n",
    "reduce_lr = tf.keras.callbacks.ReduceLROnPlateau(monitor='loss',min_lr=0.0001,factor = 0.05)\n",
    "early_stp = tf.keras.callbacks.EarlyStopping('loss',patience=25)\n",
    "\n",
    "\n",
    "model.compile(optimizer=opti,loss='mean_absolute_error')\n",
    "#history=model.fit(ipx,opx,epochs=150,batch_size=16,verbose=0,callbacks=[PlotLossesKeras(),early_stp])"
   ]
  },
  {
   "cell_type": "code",
   "execution_count": 24,
   "id": "60257f6e",
   "metadata": {
    "execution": {
     "iopub.execute_input": "2022-05-16T15:39:49.532736Z",
     "iopub.status.busy": "2022-05-16T15:39:49.532174Z",
     "iopub.status.idle": "2022-05-16T15:39:49.535876Z",
     "shell.execute_reply": "2022-05-16T15:39:49.535034Z"
    },
    "papermill": {
     "duration": 0.094329,
     "end_time": "2022-05-16T15:39:49.538123",
     "exception": false,
     "start_time": "2022-05-16T15:39:49.443794",
     "status": "completed"
    },
    "tags": []
   },
   "outputs": [],
   "source": [
    "#model.summary()"
   ]
  },
  {
   "cell_type": "code",
   "execution_count": 25,
   "id": "bdd96c1b",
   "metadata": {
    "execution": {
     "iopub.execute_input": "2022-05-16T15:39:49.713670Z",
     "iopub.status.busy": "2022-05-16T15:39:49.713356Z",
     "iopub.status.idle": "2022-05-16T15:39:52.688435Z",
     "shell.execute_reply": "2022-05-16T15:39:52.687766Z"
    },
    "papermill": {
     "duration": 3.065563,
     "end_time": "2022-05-16T15:39:52.690857",
     "exception": false,
     "start_time": "2022-05-16T15:39:49.625294",
     "status": "completed"
    },
    "tags": []
   },
   "outputs": [
    {
     "name": "stderr",
     "output_type": "stream",
     "text": [
      "2022-05-16 15:39:49.771303: I tensorflow/compiler/mlir/mlir_graph_optimization_pass.cc:185] None of the MLIR Optimization Passes are enabled (registered 2)\n"
     ]
    }
   ],
   "source": [
    "opp = model.predict(ipt)"
   ]
  },
  {
   "cell_type": "code",
   "execution_count": 26,
   "id": "916eb82f",
   "metadata": {
    "execution": {
     "iopub.execute_input": "2022-05-16T15:39:52.868737Z",
     "iopub.status.busy": "2022-05-16T15:39:52.868451Z",
     "iopub.status.idle": "2022-05-16T15:39:52.892301Z",
     "shell.execute_reply": "2022-05-16T15:39:52.891712Z"
    },
    "papermill": {
     "duration": 0.114673,
     "end_time": "2022-05-16T15:39:52.894285",
     "exception": false,
     "start_time": "2022-05-16T15:39:52.779612",
     "status": "completed"
    },
    "tags": []
   },
   "outputs": [
    {
     "data": {
      "text/plain": [
       "1.0546423"
      ]
     },
     "execution_count": 26,
     "metadata": {},
     "output_type": "execute_result"
    }
   ],
   "source": [
    "lossfn = tf.keras.losses.MeanSquaredError()\n",
    "lossfn(opt,opp).numpy()"
   ]
  },
  {
   "cell_type": "code",
   "execution_count": 27,
   "id": "4f8278aa",
   "metadata": {
    "execution": {
     "iopub.execute_input": "2022-05-16T15:39:53.073305Z",
     "iopub.status.busy": "2022-05-16T15:39:53.072770Z",
     "iopub.status.idle": "2022-05-16T15:39:53.560625Z",
     "shell.execute_reply": "2022-05-16T15:39:53.559937Z"
    },
    "papermill": {
     "duration": 0.581035,
     "end_time": "2022-05-16T15:39:53.562636",
     "exception": false,
     "start_time": "2022-05-16T15:39:52.981601",
     "status": "completed"
    },
    "tags": []
   },
   "outputs": [
    {
     "name": "stdout",
     "output_type": "stream",
     "text": [
      "1.0546423\n"
     ]
    },
    {
     "data": {
      "image/png": "[encoded data removed]",
      "text/plain": [
       "<Figure size 936x504 with 1 Axes>"
      ]
     },
     "metadata": {},
     "output_type": "display_data"
    }
   ],
   "source": [
    "def plot_res(model=model,ipx=ipt,opx=opt,scaled = True):\n",
    "    opp = model.predict(ipx)\n",
    "    lossfn = tf.keras.losses.MeanSquaredError()\n",
    "    print(lossfn(opx,model.predict(ipx)).numpy())\n",
    "    \n",
    "    plt.figure(figsize=(13,7))\n",
    "    if scaled:\n",
    "        plt.plot(opx,label = 'Actual')\n",
    "        plt.plot(opp, label = 'Predictions')\n",
    "    else:\n",
    "        opt1 = scaop.inverse_transform(opx)\n",
    "        opp1 = scaop.inverse_transform(opp)\n",
    "        plt.plot(opt1,label = 'Actual')\n",
    "        plt.plot(opp1, label = 'Predictions')\n",
    "        \n",
    "        \n",
    "    plt.legend()\n",
    "    return\n",
    "\n",
    "plot_res(ipx=ipt,opx=opt,scaled = False)"
   ]
  },
  {
   "cell_type": "code",
   "execution_count": null,
   "id": "b99147df",
   "metadata": {
    "papermill": {
     "duration": 0.089097,
     "end_time": "2022-05-16T15:39:53.740601",
     "exception": false,
     "start_time": "2022-05-16T15:39:53.651504",
     "status": "completed"
    },
    "tags": []
   },
   "outputs": [],
   "source": []
  },
  {
   "cell_type": "markdown",
   "id": "c943b35b",
   "metadata": {
    "papermill": {
     "duration": 0.089183,
     "end_time": "2022-05-16T15:39:53.920914",
     "exception": false,
     "start_time": "2022-05-16T15:39:53.831731",
     "status": "completed"
    },
    "tags": []
   },
   "source": [
    "## Transfer Learning Attempt"
   ]
  },
  {
   "cell_type": "code",
   "execution_count": 28,
   "id": "e83761c5",
   "metadata": {
    "execution": {
     "iopub.execute_input": "2022-05-16T15:39:54.106666Z",
     "iopub.status.busy": "2022-05-16T15:39:54.106132Z",
     "iopub.status.idle": "2022-05-16T15:39:54.112463Z",
     "shell.execute_reply": "2022-05-16T15:39:54.111777Z"
    },
    "papermill": {
     "duration": 0.104292,
     "end_time": "2022-05-16T15:39:54.114809",
     "exception": false,
     "start_time": "2022-05-16T15:39:54.010517",
     "status": "completed"
    },
    "tags": []
   },
   "outputs": [],
   "source": [
    "def flow_fn(stock,model=model,feature = 'Open',scaled = False):\n",
    "    dfl = generate_data(stock,'Open')\n",
    "    \n",
    "    \n",
    "    scaipl = StandardScaler()\n",
    "    scaopl = StandardScaler()\n",
    "    dfl[ipfea] = scaipl.fit_transform(dfl[ipfea])\n",
    "    dfl[opfea] = scaopl.fit_transform(dfl[opfea])\n",
    "    #return dfl\n",
    "    ipl,opl = chunk(dfl)\n",
    "    \n",
    "    plot_res(model = model,ipx = ipl,opx = opl,scaled = scaled)\n",
    "    return"
   ]
  },
  {
   "cell_type": "code",
   "execution_count": 29,
   "id": "ff8fbc5a",
   "metadata": {
    "execution": {
     "iopub.execute_input": "2022-05-16T15:39:54.296624Z",
     "iopub.status.busy": "2022-05-16T15:39:54.296180Z",
     "iopub.status.idle": "2022-05-16T15:40:00.475159Z",
     "shell.execute_reply": "2022-05-16T15:40:00.474375Z"
    },
    "papermill": {
     "duration": 6.272438,
     "end_time": "2022-05-16T15:40:00.477408",
     "exception": false,
     "start_time": "2022-05-16T15:39:54.204970",
     "status": "completed"
    },
    "tags": []
   },
   "outputs": [
    {
     "name": "stdout",
     "output_type": "stream",
     "text": [
      "MARUTI\n"
     ]
    },
    {
     "name": "stderr",
     "output_type": "stream",
     "text": [
      "100%|██████████| 2591/2591 [00:03<00:00, 822.61it/s]\n"
     ]
    },
    {
     "name": "stdout",
     "output_type": "stream",
     "text": [
      "(2591, 7, 5) (2591, 1)\n",
      "0.9550951\n",
      "CPU times: user 6.62 s, sys: 1.19 s, total: 7.81 s\n",
      "Wall time: 5.94 s\n"
     ]
    },
    {
     "data": {
      "image/png": "[encoded data removed]",
      "text/plain": [
       "<Figure size 936x504 with 1 Axes>"
      ]
     },
     "metadata": {},
     "output_type": "display_data"
    }
   ],
   "source": [
    "%%time\n",
    "stk = comp30[9]\n",
    "stk = np.random.choice(comp30)\n",
    "stk = 'MARUTI'\n",
    "print(stk)\n",
    "flow_fn(stock = stk)"
   ]
  },
  {
   "cell_type": "code",
   "execution_count": null,
   "id": "e5b00271",
   "metadata": {
    "papermill": {
     "duration": 0.107421,
     "end_time": "2022-05-16T15:40:00.690618",
     "exception": false,
     "start_time": "2022-05-16T15:40:00.583197",
     "status": "completed"
    },
    "tags": []
   },
   "outputs": [],
   "source": []
  },
  {
   "cell_type": "markdown",
   "id": "d5b6ac1e",
   "metadata": {
    "papermill": {
     "duration": 0.106285,
     "end_time": "2022-05-16T15:40:00.903421",
     "exception": false,
     "start_time": "2022-05-16T15:40:00.797136",
     "status": "completed"
    },
    "tags": []
   },
   "source": [
    "**As we see, the model's predictions on different stocks are not greatly bad. There is scope of improvement which can be implement towards building a generalized model.**"
   ]
  },
  {
   "cell_type": "markdown",
   "id": "360a0af4",
   "metadata": {
    "papermill": {
     "duration": 0.105168,
     "end_time": "2022-05-16T15:40:01.113828",
     "exception": false,
     "start_time": "2022-05-16T15:40:01.008660",
     "status": "completed"
    },
    "tags": []
   },
   "source": [
    "## Optuna Hyper Parameter tuning"
   ]
  },
  {
   "cell_type": "code",
   "execution_count": 30,
   "id": "3056f1d7",
   "metadata": {
    "execution": {
     "iopub.execute_input": "2022-05-16T15:40:01.330224Z",
     "iopub.status.busy": "2022-05-16T15:40:01.329165Z",
     "iopub.status.idle": "2022-05-16T15:40:02.328182Z",
     "shell.execute_reply": "2022-05-16T15:40:02.327382Z"
    },
    "papermill": {
     "duration": 1.11139,
     "end_time": "2022-05-16T15:40:02.330639",
     "exception": false,
     "start_time": "2022-05-16T15:40:01.219249",
     "status": "completed"
    },
    "tags": []
   },
   "outputs": [],
   "source": [
    "#!pip install optuna\n",
    "import optuna\n",
    "from optuna.integration import TFKerasPruningCallback\n",
    "from tensorflow.keras.layers import GRU,Dense"
   ]
  },
  {
   "cell_type": "code",
   "execution_count": 31,
   "id": "f63ad7d7",
   "metadata": {
    "execution": {
     "iopub.execute_input": "2022-05-16T15:40:02.546079Z",
     "iopub.status.busy": "2022-05-16T15:40:02.545228Z",
     "iopub.status.idle": "2022-05-16T15:40:02.559662Z",
     "shell.execute_reply": "2022-05-16T15:40:02.558939Z"
    },
    "papermill": {
     "duration": 0.124133,
     "end_time": "2022-05-16T15:40:02.561960",
     "exception": false,
     "start_time": "2022-05-16T15:40:02.437827",
     "status": "completed"
    },
    "tags": []
   },
   "outputs": [],
   "source": [
    "def savebest(study, trial):\n",
    "    global best_model\n",
    "    if study.best_trial == trial:\n",
    "        best_model = model\n",
    "\n",
    "def objective(trial):\n",
    "    act = trial.suggest_categorical(\"act\", [\"tanh\", \"relu\"])\n",
    "    batch = trial.suggest_categorical(\"batch\", [8,16,32,64,128])\n",
    "    drp = trial.suggest_uniform('drp', 0.0, 0.7)\n",
    "    lr = trial.suggest_float(\"lr\", 1e-5, 1e-2, log=True)\n",
    "    epoch = trial.suggest_int(\"epoch\", 30,55)\n",
    "    \n",
    "    layers = trial.suggest_int('layers',5,10)\n",
    "    units = trial.suggest_int('units',64,256)\n",
    "\n",
    "    \n",
    "    \n",
    "    monitor = \"loss\"\n",
    "    callbacks = [TFKerasPruningCallback(trial, monitor)]\n",
    "    #early_stop = EarlyStopping(monitor='val_loss',patience=3,min_delta = 0.0001)\n",
    "    opti = tf.keras.optimizers.Adam(learning_rate=lr)\n",
    "    \n",
    "    global model\n",
    "    \n",
    "    model = tf.keras.models.Sequential()\n",
    "    model.add(GRU(units=8,activation='tanh',return_sequences=True,input_shape=(ipx.shape[1],ipx.shape[2])))\n",
    "    model.add(GRU(units=16,activation = act,return_sequences=True))\n",
    "    model.add(tf.keras.layers.Dropout(drp))\n",
    "    \n",
    "    for lay in range(layers):\n",
    "        model.add(GRU(units = units,activation=act,return_sequences=True))\n",
    "        model.add(tf.keras.layers.Dropout(drp))\n",
    "    \n",
    "    model.add(GRU(units=16,activation = act,return_sequences=True))\n",
    "    model.add(GRU(units=8,activation = act))\n",
    "    model.add(Dense(units=1))\n",
    "\n",
    "    tf.keras.backend.clear_session()\n",
    "    model.compile(optimizer=opti,loss='mean_absolute_error')\n",
    "\n",
    "    model.fit(ipx,opx, epochs = epoch, batch_size = batch,verbose = 0,\n",
    "                     callbacks=callbacks)\n",
    "    \n",
    "    \n",
    "    return model.evaluate(ipt,opt)"
   ]
  },
  {
   "cell_type": "code",
   "execution_count": 32,
   "id": "b4d8c36f",
   "metadata": {
    "execution": {
     "iopub.execute_input": "2022-05-16T15:40:02.777709Z",
     "iopub.status.busy": "2022-05-16T15:40:02.776731Z",
     "iopub.status.idle": "2022-05-16T19:48:56.321858Z",
     "shell.execute_reply": "2022-05-16T19:48:56.320913Z"
    },
    "papermill": {
     "duration": 14933.802591,
     "end_time": "2022-05-16T19:48:56.470814",
     "exception": false,
     "start_time": "2022-05-16T15:40:02.668223",
     "status": "completed"
    },
    "tags": []
   },
   "outputs": [
    {
     "name": "stderr",
     "output_type": "stream",
     "text": [
      "\u001b[32m[I 2022-05-16 15:40:02,780]\u001b[0m A new study created in memory with name: no-name-8783318e-b962-4322-93bd-75a6894a3a99\u001b[0m\n"
     ]
    },
    {
     "name": "stdout",
     "output_type": "stream",
     "text": [
      "3/3 [==============================] - 3s 51ms/step - loss: 0.2311\n"
     ]
    },
    {
     "name": "stderr",
     "output_type": "stream",
     "text": [
      "\u001b[32m[I 2022-05-16 15:45:09,816]\u001b[0m Trial 0 finished with value: 0.2310533970594406 and parameters: {'act': 'relu', 'batch': 64, 'drp': 0.2692663161273061, 'lr': 0.0007476932101597925, 'epoch': 46, 'layers': 7, 'units': 203}. Best is trial 0 with value: 0.2310533970594406.\u001b[0m\n"
     ]
    },
    {
     "name": "stdout",
     "output_type": "stream",
     "text": [
      "3/3 [==============================] - 4s 60ms/step - loss: 0.1589\n"
     ]
    },
    {
     "name": "stderr",
     "output_type": "stream",
     "text": [
      "\u001b[32m[I 2022-05-16 15:55:19,887]\u001b[0m Trial 1 finished with value: 0.15886089205741882 and parameters: {'act': 'tanh', 'batch': 16, 'drp': 0.5388511299495055, 'lr': 2.3547616828563555e-05, 'epoch': 49, 'layers': 7, 'units': 168}. Best is trial 1 with value: 0.15886089205741882.\u001b[0m\n",
      "\u001b[32m[I 2022-05-16 15:55:49,882]\u001b[0m Trial 2 pruned. Trial was pruned at epoch 1.\u001b[0m\n"
     ]
    },
    {
     "name": "stdout",
     "output_type": "stream",
     "text": [
      "3/3 [==============================] - 2s 29ms/step - loss: 0.1588\n"
     ]
    },
    {
     "name": "stderr",
     "output_type": "stream",
     "text": [
      "\u001b[32m[I 2022-05-16 15:57:07,077]\u001b[0m Trial 3 finished with value: 0.1588219851255417 and parameters: {'act': 'relu', 'batch': 128, 'drp': 0.471895313014674, 'lr': 0.002838166505824001, 'epoch': 36, 'layers': 5, 'units': 64}. Best is trial 3 with value: 0.1588219851255417.\u001b[0m\n",
      "\u001b[32m[I 2022-05-16 15:57:53,509]\u001b[0m Trial 4 pruned. Trial was pruned at epoch 3.\u001b[0m\n",
      "\u001b[32m[I 2022-05-16 15:58:31,847]\u001b[0m Trial 5 pruned. Trial was pruned at epoch 3.\u001b[0m\n"
     ]
    },
    {
     "name": "stdout",
     "output_type": "stream",
     "text": [
      "3/3 [==============================] - 5s 196ms/step - loss: 0.1107\n"
     ]
    },
    {
     "name": "stderr",
     "output_type": "stream",
     "text": [
      "\u001b[32m[I 2022-05-16 16:03:50,933]\u001b[0m Trial 6 finished with value: 0.11065637320280075 and parameters: {'act': 'tanh', 'batch': 128, 'drp': 0.31212135785817685, 'lr': 0.00038891592168491945, 'epoch': 41, 'layers': 8, 'units': 245}. Best is trial 6 with value: 0.11065637320280075.\u001b[0m\n",
      "\u001b[32m[I 2022-05-16 16:04:42,023]\u001b[0m Trial 7 pruned. Trial was pruned at epoch 1.\u001b[0m\n",
      "\u001b[32m[I 2022-05-16 16:05:22,963]\u001b[0m Trial 8 pruned. Trial was pruned at epoch 1.\u001b[0m\n",
      "\u001b[32m[I 2022-05-16 16:06:06,757]\u001b[0m Trial 9 pruned. Trial was pruned at epoch 1.\u001b[0m\n",
      "\u001b[32m[I 2022-05-16 16:07:19,092]\u001b[0m Trial 10 pruned. Trial was pruned at epoch 3.\u001b[0m\n"
     ]
    },
    {
     "name": "stdout",
     "output_type": "stream",
     "text": [
      "3/3 [==============================] - 6s 66ms/step - loss: 0.1026\n"
     ]
    },
    {
     "name": "stderr",
     "output_type": "stream",
     "text": [
      "\u001b[32m[I 2022-05-16 16:25:32,931]\u001b[0m Trial 11 finished with value: 0.10257270932197571 and parameters: {'act': 'tanh', 'batch': 8, 'drp': 0.11826351163784186, 'lr': 0.00015379479242286898, 'epoch': 37, 'layers': 10, 'units': 128}. Best is trial 11 with value: 0.10257270932197571.\u001b[0m\n"
     ]
    },
    {
     "name": "stdout",
     "output_type": "stream",
     "text": [
      "3/3 [==============================] - 2s 53ms/step - loss: 0.3157\n"
     ]
    },
    {
     "name": "stderr",
     "output_type": "stream",
     "text": [
      "\u001b[32m[I 2022-05-16 16:38:39,857]\u001b[0m Trial 12 finished with value: 0.3156932294368744 and parameters: {'act': 'relu', 'batch': 16, 'drp': 0.47494202572696426, 'lr': 0.0018870345574900798, 'epoch': 50, 'layers': 6, 'units': 235}. Best is trial 11 with value: 0.10257270932197571.\u001b[0m\n",
      "\u001b[32m[I 2022-05-16 16:39:44,838]\u001b[0m Trial 13 pruned. Trial was pruned at epoch 3.\u001b[0m\n",
      "\u001b[32m[I 2022-05-16 16:41:15,242]\u001b[0m Trial 14 pruned. Trial was pruned at epoch 1.\u001b[0m\n"
     ]
    },
    {
     "name": "stdout",
     "output_type": "stream",
     "text": [
      "3/3 [==============================] - 4s 31ms/step - loss: 0.0684\n"
     ]
    },
    {
     "name": "stderr",
     "output_type": "stream",
     "text": [
      "\u001b[32m[I 2022-05-16 16:50:18,676]\u001b[0m Trial 15 finished with value: 0.06837018579244614 and parameters: {'act': 'tanh', 'batch': 8, 'drp': 0.01269550410766035, 'lr': 0.0001105591595406431, 'epoch': 36, 'layers': 5, 'units': 70}. Best is trial 15 with value: 0.06837018579244614.\u001b[0m\n"
     ]
    },
    {
     "name": "stdout",
     "output_type": "stream",
     "text": [
      "3/3 [==============================] - 3s 68ms/step - loss: 0.0603\n"
     ]
    },
    {
     "name": "stderr",
     "output_type": "stream",
     "text": [
      "\u001b[32m[I 2022-05-16 17:06:28,529]\u001b[0m Trial 16 finished with value: 0.06029175966978073 and parameters: {'act': 'relu', 'batch': 16, 'drp': 0.08174489761354757, 'lr': 0.0002970664105867037, 'epoch': 53, 'layers': 10, 'units': 182}. Best is trial 16 with value: 0.06029175966978073.\u001b[0m\n",
      "\u001b[32m[I 2022-05-16 17:08:59,717]\u001b[0m Trial 17 pruned. Trial was pruned at epoch 9.\u001b[0m\n",
      "\u001b[32m[I 2022-05-16 17:09:43,168]\u001b[0m Trial 18 pruned. Trial was pruned at epoch 3.\u001b[0m\n",
      "\u001b[32m[I 2022-05-16 17:16:25,538]\u001b[0m Trial 19 pruned. Trial was pruned at epoch 27.\u001b[0m\n"
     ]
    },
    {
     "name": "stdout",
     "output_type": "stream",
     "text": [
      "3/3 [==============================] - 3s 57ms/step - loss: 0.1529\n"
     ]
    },
    {
     "name": "stderr",
     "output_type": "stream",
     "text": [
      "\u001b[32m[I 2022-05-16 17:24:09,032]\u001b[0m Trial 20 finished with value: 0.15292717516422272 and parameters: {'act': 'relu', 'batch': 32, 'drp': 0.18720352521456005, 'lr': 4.868188118759008e-05, 'epoch': 36, 'layers': 7, 'units': 217}. Best is trial 16 with value: 0.06029175966978073.\u001b[0m\n",
      "\u001b[32m[I 2022-05-16 17:25:34,835]\u001b[0m Trial 21 pruned. Trial was pruned at epoch 3.\u001b[0m\n",
      "\u001b[32m[I 2022-05-16 17:26:42,794]\u001b[0m Trial 22 pruned. Trial was pruned at epoch 1.\u001b[0m\n",
      "\u001b[32m[I 2022-05-16 17:28:23,405]\u001b[0m Trial 23 pruned. Trial was pruned at epoch 9.\u001b[0m\n",
      "\u001b[32m[I 2022-05-16 17:36:33,860]\u001b[0m Trial 24 pruned. Trial was pruned at epoch 27.\u001b[0m\n"
     ]
    },
    {
     "name": "stdout",
     "output_type": "stream",
     "text": [
      "3/3 [==============================] - 6s 47ms/step - loss: 0.0780\n"
     ]
    },
    {
     "name": "stderr",
     "output_type": "stream",
     "text": [
      "\u001b[32m[I 2022-05-16 17:48:07,640]\u001b[0m Trial 25 finished with value: 0.07796576619148254 and parameters: {'act': 'tanh', 'batch': 16, 'drp': 0.28735994080743865, 'lr': 0.0001666087082205797, 'epoch': 46, 'layers': 10, 'units': 121}. Best is trial 16 with value: 0.06029175966978073.\u001b[0m\n",
      "\u001b[32m[I 2022-05-16 17:48:58,321]\u001b[0m Trial 26 pruned. Trial was pruned at epoch 1.\u001b[0m\n",
      "\u001b[32m[I 2022-05-16 17:49:45,634]\u001b[0m Trial 27 pruned. Trial was pruned at epoch 1.\u001b[0m\n"
     ]
    },
    {
     "name": "stdout",
     "output_type": "stream",
     "text": [
      "3/3 [==============================] - 2s 42ms/step - loss: 0.5187\n"
     ]
    },
    {
     "name": "stderr",
     "output_type": "stream",
     "text": [
      "\u001b[32m[I 2022-05-16 18:02:52,576]\u001b[0m Trial 28 finished with value: 0.5187405943870544 and parameters: {'act': 'relu', 'batch': 8, 'drp': 0.5627181225538813, 'lr': 0.0001237524089260334, 'epoch': 40, 'layers': 5, 'units': 182}. Best is trial 16 with value: 0.06029175966978073.\u001b[0m\n"
     ]
    },
    {
     "name": "stdout",
     "output_type": "stream",
     "text": [
      "3/3 [==============================] - 3s 82ms/step - loss: 0.2795\n"
     ]
    },
    {
     "name": "stderr",
     "output_type": "stream",
     "text": [
      "\u001b[32m[I 2022-05-16 18:16:59,017]\u001b[0m Trial 29 finished with value: 0.2795241177082062 and parameters: {'act': 'relu', 'batch': 16, 'drp': 0.42914115769973865, 'lr': 0.0003775763815490538, 'epoch': 37, 'layers': 10, 'units': 242}. Best is trial 16 with value: 0.06029175966978073.\u001b[0m\n",
      "\u001b[32m[I 2022-05-16 18:20:22,204]\u001b[0m Trial 30 pruned. Trial was pruned at epoch 27.\u001b[0m\n",
      "\u001b[32m[I 2022-05-16 18:21:32,158]\u001b[0m Trial 31 pruned. Trial was pruned at epoch 1.\u001b[0m\n"
     ]
    },
    {
     "name": "stdout",
     "output_type": "stream",
     "text": [
      "3/3 [==============================] - 3s 45ms/step - loss: 0.1117\n"
     ]
    },
    {
     "name": "stderr",
     "output_type": "stream",
     "text": [
      "\u001b[32m[I 2022-05-16 18:38:43,969]\u001b[0m Trial 32 finished with value: 0.11167782545089722 and parameters: {'act': 'relu', 'batch': 8, 'drp': 0.13151514149560223, 'lr': 0.0007182198729938805, 'epoch': 35, 'layers': 10, 'units': 94}. Best is trial 16 with value: 0.06029175966978073.\u001b[0m\n"
     ]
    },
    {
     "name": "stdout",
     "output_type": "stream",
     "text": [
      "3/3 [==============================] - 4s 32ms/step - loss: 0.0523\n"
     ]
    },
    {
     "name": "stderr",
     "output_type": "stream",
     "text": [
      "\u001b[32m[I 2022-05-16 18:46:50,152]\u001b[0m Trial 33 finished with value: 0.052251655608415604 and parameters: {'act': 'tanh', 'batch': 8, 'drp': 0.05307541784615262, 'lr': 0.0007484051291448835, 'epoch': 33, 'layers': 5, 'units': 68}. Best is trial 33 with value: 0.052251655608415604.\u001b[0m\n",
      "\u001b[32m[I 2022-05-16 18:47:52,105]\u001b[0m Trial 34 pruned. Trial was pruned at epoch 9.\u001b[0m\n"
     ]
    },
    {
     "name": "stdout",
     "output_type": "stream",
     "text": [
      "3/3 [==============================] - 4s 29ms/step - loss: 0.0899\n"
     ]
    },
    {
     "name": "stderr",
     "output_type": "stream",
     "text": [
      "\u001b[32m[I 2022-05-16 18:55:40,812]\u001b[0m Trial 35 finished with value: 0.08993438631296158 and parameters: {'act': 'tanh', 'batch': 8, 'drp': 0.03921146255943279, 'lr': 0.0022992928852465927, 'epoch': 33, 'layers': 5, 'units': 68}. Best is trial 33 with value: 0.052251655608415604.\u001b[0m\n",
      "\u001b[32m[I 2022-05-16 18:58:05,334]\u001b[0m Trial 36 pruned. Trial was pruned at epoch 3.\u001b[0m\n",
      "\u001b[32m[I 2022-05-16 18:59:27,372]\u001b[0m Trial 37 pruned. Trial was pruned at epoch 3.\u001b[0m\n",
      "\u001b[32m[I 2022-05-16 19:01:41,962]\u001b[0m Trial 38 pruned. Trial was pruned at epoch 9.\u001b[0m\n",
      "\u001b[32m[I 2022-05-16 19:07:40,378]\u001b[0m Trial 39 pruned. Trial was pruned at epoch 9.\u001b[0m\n",
      "\u001b[32m[I 2022-05-16 19:08:40,499]\u001b[0m Trial 40 pruned. Trial was pruned at epoch 9.\u001b[0m\n",
      "\u001b[32m[I 2022-05-16 19:10:59,203]\u001b[0m Trial 41 pruned. Trial was pruned at epoch 3.\u001b[0m\n",
      "\u001b[32m[I 2022-05-16 19:12:31,552]\u001b[0m Trial 42 pruned. Trial was pruned at epoch 3.\u001b[0m\n",
      "\u001b[32m[I 2022-05-16 19:26:41,133]\u001b[0m Trial 43 pruned. Trial was pruned at epoch 27.\u001b[0m\n",
      "\u001b[32m[I 2022-05-16 19:27:40,058]\u001b[0m Trial 44 pruned. Trial was pruned at epoch 3.\u001b[0m\n"
     ]
    },
    {
     "name": "stdout",
     "output_type": "stream",
     "text": [
      "3/3 [==============================] - 2s 34ms/step - loss: 1.2159\n"
     ]
    },
    {
     "name": "stderr",
     "output_type": "stream",
     "text": [
      "\u001b[32m[I 2022-05-16 19:31:48,627]\u001b[0m Trial 45 finished with value: 1.2158501148223877 and parameters: {'act': 'relu', 'batch': 64, 'drp': 0.5762709100572203, 'lr': 0.007600113547768567, 'epoch': 48, 'layers': 5, 'units': 187}. Best is trial 33 with value: 0.052251655608415604.\u001b[0m\n"
     ]
    },
    {
     "name": "stdout",
     "output_type": "stream",
     "text": [
      "3/3 [==============================] - 3s 158ms/step - loss: 0.0747\n"
     ]
    },
    {
     "name": "stderr",
     "output_type": "stream",
     "text": [
      "\u001b[32m[I 2022-05-16 19:39:23,563]\u001b[0m Trial 46 finished with value: 0.07467851787805557 and parameters: {'act': 'relu', 'batch': 32, 'drp': 0.01255935771944501, 'lr': 0.0007747831933099864, 'epoch': 55, 'layers': 7, 'units': 126}. Best is trial 33 with value: 0.052251655608415604.\u001b[0m\n",
      "\u001b[32m[I 2022-05-16 19:40:14,149]\u001b[0m Trial 47 pruned. Trial was pruned at epoch 3.\u001b[0m\n"
     ]
    },
    {
     "name": "stdout",
     "output_type": "stream",
     "text": [
      "3/3 [==============================] - 3s 33ms/step - loss: 0.0620\n"
     ]
    },
    {
     "name": "stderr",
     "output_type": "stream",
     "text": [
      "\u001b[32m[I 2022-05-16 19:48:07,725]\u001b[0m Trial 48 finished with value: 0.06204172596335411 and parameters: {'act': 'tanh', 'batch': 8, 'drp': 0.00580488170957301, 'lr': 0.0009384999870003646, 'epoch': 32, 'layers': 5, 'units': 86}. Best is trial 33 with value: 0.052251655608415604.\u001b[0m\n",
      "\u001b[32m[I 2022-05-16 19:48:56,312]\u001b[0m Trial 49 pruned. Trial was pruned at epoch 1.\u001b[0m\n"
     ]
    },
    {
     "name": "stdout",
     "output_type": "stream",
     "text": [
      "CPU times: user 6h 9min 15s, sys: 1h 22min 8s, total: 7h 31min 23s\n",
      "Wall time: 4h 8min 53s\n"
     ]
    }
   ],
   "source": [
    "%%time\n",
    "study = optuna.create_study(direction='minimize', \n",
    "            pruner=optuna.pruners.HyperbandPruner())\n",
    "study.optimize(objective,n_trials = 50,callbacks=[savebest])"
   ]
  },
  {
   "cell_type": "markdown",
   "id": "ab4eee6f",
   "metadata": {
    "execution": {
     "iopub.execute_input": "2022-05-16T15:29:14.754799Z",
     "iopub.status.busy": "2022-05-16T15:29:14.754535Z",
     "iopub.status.idle": "2022-05-16T15:29:14.775714Z",
     "shell.execute_reply": "2022-05-16T15:29:14.774390Z",
     "shell.execute_reply.started": "2022-05-16T15:29:14.754769Z"
    },
    "papermill": {
     "duration": 0.146106,
     "end_time": "2022-05-16T19:48:56.765346",
     "exception": false,
     "start_time": "2022-05-16T19:48:56.619240",
     "status": "completed"
    },
    "tags": []
   },
   "source": [
    "def savebest(study, trial):\n",
    "    global best_model\n",
    "    if study.best_trial == trial:\n",
    "        best_model = model\n",
    "\n",
    "def objective(trial):\n",
    "    act = trial.suggest_categorical(\"act\", [\"tanh\", \"relu\"])\n",
    "    batch = trial.suggest_categorical(\"batch\", [16,32,64,128])\n",
    "    drp = trial.suggest_uniform('drp', 0.0, 0.7)\n",
    "    lr = trial.suggest_float(\"lr\", 1e-5, 1e-2, log=True)\n",
    "    epoch = trial.suggest_int(\"epoch\", 30,55)\n",
    "    \n",
    "\n",
    "    \n",
    "    \n",
    "    monitor = \"loss\"\n",
    "    callbacks = [TFKerasPruningCallback(trial, monitor)]\n",
    "    #early_stop = EarlyStopping(monitor='val_loss',patience=3,min_delta = 0.0001)\n",
    "    opti = tf.keras.optimizers.Adam(learning_rate=lr)\n",
    "    \n",
    "    global model\n",
    "    drp = 0.2\n",
    "    model = tf.keras.models.Sequential([\n",
    "                           tf.keras.layers.GRU(units=8,activation=act,return_sequences=True,\n",
    "                                                input_shape=(ipx.shape[1],ipx.shape[2])),\n",
    "                           tf.keras.layers.GRU(units=16,activation=act,return_sequences=True),\n",
    "                           tf.keras.layers.Dropout(drp),\n",
    "                           tf.keras.layers.GRU(units=64,activation=act,return_sequences=True),\n",
    "                           tf.keras.layers.Dropout(drp),\n",
    "    \n",
    "                           tf.keras.layers.GRU(units=128,activation=act,return_sequences=True),\n",
    "                           tf.keras.layers.Dropout(drp),\n",
    "                           tf.keras.layers.GRU(units=128,activation=act,return_sequences=True),\n",
    "                           tf.keras.layers.Dropout(drp),\n",
    "    \n",
    "                           tf.keras.layers.GRU(units=64,activation=act,return_sequences=True),\n",
    "                           tf.keras.layers.Dropout(drp),\n",
    "                           tf.keras.layers.GRU(units=16,activation=act,return_sequences=True),\n",
    "                           tf.keras.layers.Dropout(drp),\n",
    "                           tf.keras.layers.GRU(units=8,activation='tanh',return_sequences=True),\n",
    "                           tf.keras.layers.Dropout(drp),\n",
    "                           tf.keras.layers.GRU(units=4,activation=act),\n",
    "                           tf.keras.layers.Dense(units=1)\n",
    "                          ])\n",
    "    \n",
    "    tf.keras.backend.clear_session()\n",
    "    model.compile(optimizer=opti,loss='mean_absolute_error')\n",
    "\n",
    "    model.fit(ipx,opx, epochs = epoch, batch_size = batch,verbose = 0,\n",
    "                     callbacks=callbacks)\n",
    "    \n",
    "    \n",
    "    return model.evaluate(ipt,opt)"
   ]
  },
  {
   "cell_type": "markdown",
   "id": "cd6a6d2d",
   "metadata": {
    "execution": {
     "iopub.execute_input": "2022-05-16T10:22:07.723374Z",
     "iopub.status.busy": "2022-05-16T10:22:07.722835Z",
     "iopub.status.idle": "2022-05-16T12:20:15.519013Z",
     "shell.execute_reply": "2022-05-16T12:20:15.517968Z",
     "shell.execute_reply.started": "2022-05-16T10:22:07.723299Z"
    },
    "papermill": {
     "duration": 0.144891,
     "end_time": "2022-05-16T19:48:57.055108",
     "exception": false,
     "start_time": "2022-05-16T19:48:56.910217",
     "status": "completed"
    },
    "tags": []
   },
   "source": [
    "%%time\n",
    "study = optuna.create_study(direction='minimize', \n",
    "            pruner=optuna.pruners.HyperbandPruner())\n",
    "study.optimize(objective,n_trials = 70,callbacks=[savebest])"
   ]
  },
  {
   "cell_type": "code",
   "execution_count": 33,
   "id": "ff2b33b7",
   "metadata": {
    "execution": {
     "iopub.execute_input": "2022-05-16T19:48:57.347327Z",
     "iopub.status.busy": "2022-05-16T19:48:57.346648Z",
     "iopub.status.idle": "2022-05-16T19:48:57.353568Z",
     "shell.execute_reply": "2022-05-16T19:48:57.352724Z"
    },
    "papermill": {
     "duration": 0.154872,
     "end_time": "2022-05-16T19:48:57.355694",
     "exception": false,
     "start_time": "2022-05-16T19:48:57.200822",
     "status": "completed"
    },
    "tags": []
   },
   "outputs": [
    {
     "data": {
      "text/plain": [
       "{'act': 'tanh',\n",
       " 'batch': 8,\n",
       " 'drp': 0.05307541784615262,\n",
       " 'lr': 0.0007484051291448835,\n",
       " 'epoch': 33,\n",
       " 'layers': 5,\n",
       " 'units': 68}"
      ]
     },
     "execution_count": 33,
     "metadata": {},
     "output_type": "execute_result"
    }
   ],
   "source": [
    "best_params = study.best_params\n",
    "best_params"
   ]
  },
  {
   "cell_type": "code",
   "execution_count": 34,
   "id": "13627680",
   "metadata": {
    "execution": {
     "iopub.execute_input": "2022-05-16T19:48:57.660256Z",
     "iopub.status.busy": "2022-05-16T19:48:57.659319Z",
     "iopub.status.idle": "2022-05-16T19:48:57.824139Z",
     "shell.execute_reply": "2022-05-16T19:48:57.823196Z"
    },
    "papermill": {
     "duration": 0.323351,
     "end_time": "2022-05-16T19:48:57.826323",
     "exception": false,
     "start_time": "2022-05-16T19:48:57.502972",
     "status": "completed"
    },
    "tags": []
   },
   "outputs": [
    {
     "data": {
      "text/html": [
       "        <script type=\"text/javascript\">\n",
       "        window.PlotlyConfig = {MathJaxConfig: 'local'};\n",
       "        if (window.MathJax && window.MathJax.Hub && window.MathJax.Hub.Config) {window.MathJax.Hub.Config({SVG: {font: \"STIX-Web\"}});}\n",
       "        if (typeof require !== 'undefined') {\n",
       "        require.undef(\"plotly\");\n",
       "        requirejs.config({\n",
       "            paths: {\n",
       "                'plotly': ['https://cdn.plot.ly/plotly-2.12.1.min']\n",
       "            }\n",
       "        });\n",
       "        require(['plotly'], function(Plotly) {\n",
       "            window._Plotly = Plotly;\n",
       "        });\n",
       "        }\n",
       "        </script>\n",
       "        "
      ]
     },
     "metadata": {},
     "output_type": "display_data"
    },
    {
     "data": {
      "text/html": [
       "<div>                            <div id=\"048214ca-692d-460d-8437-f3e110fa8dda\" class=\"plotly-graph-div\" style=\"height:525px; width:100%;\"></div>            <script type=\"text/javascript\">                require([\"plotly\"], function(Plotly) {                    window.PLOTLYENV=window.PLOTLYENV || {};                                    if (document.getElementById(\"048214ca-692d-460d-8437-f3e110fa8dda\")) {                    Plotly.newPlot(                        \"048214ca-692d-460d-8437-f3e110fa8dda\",                        [{\"mode\":\"markers\",\"name\":\"Objective Value\",\"x\":[0,1,3,6,11,12,15,16,20,25,28,29,32,33,35,45,46,48],\"y\":[0.2310533970594406,0.15886089205741882,0.1588219851255417,0.11065637320280075,0.10257270932197571,0.3156932294368744,0.06837018579244614,0.06029175966978073,0.15292717516422272,0.07796576619148254,0.5187405943870544,0.2795241177082062,0.11167782545089722,0.052251655608415604,0.08993438631296158,1.2158501148223877,0.07467851787805557,0.06204172596335411],\"type\":\"scatter\"},{\"name\":\"Best Value\",\"x\":[0,1,3,6,11,12,15,16,20,25,28,29,32,33,35,45,46,48],\"y\":[0.2310533970594406,0.15886089205741882,0.1588219851255417,0.11065637320280075,0.10257270932197571,0.10257270932197571,0.06837018579244614,0.06029175966978073,0.06029175966978073,0.06029175966978073,0.06029175966978073,0.06029175966978073,0.06029175966978073,0.052251655608415604,0.052251655608415604,0.052251655608415604,0.052251655608415604,0.052251655608415604],\"type\":\"scatter\"}],                        {\"title\":{\"text\":\"Optimization History Plot\"},\"xaxis\":{\"title\":{\"text\":\"#Trials\"}},\"yaxis\":{\"title\":{\"text\":\"Objective Value\"}},\"template\":{\"data\":{\"histogram2dcontour\":[{\"type\":\"histogram2dcontour\",\"colorbar\":{\"outlinewidth\":0,\"ticks\":\"\"},\"colorscale\":[[0.0,\"#0d0887\"],[0.1111111111111111,\"#46039f\"],[0.2222222222222222,\"#7201a8\"],[0.3333333333333333,\"#9c179e\"],[0.4444444444444444,\"#bd3786\"],[0.5555555555555556,\"#d8576b\"],[0.6666666666666666,\"#ed7953\"],[0.7777777777777778,\"#fb9f3a\"],[0.8888888888888888,\"#fdca26\"],[1.0,\"#f0f921\"]]}],\"choropleth\":[{\"type\":\"choropleth\",\"colorbar\":{\"outlinewidth\":0,\"ticks\":\"\"}}],\"histogram2d\":[{\"type\":\"histogram2d\",\"colorbar\":{\"outlinewidth\":0,\"ticks\":\"\"},\"colorscale\":[[0.0,\"#0d0887\"],[0.1111111111111111,\"#46039f\"],[0.2222222222222222,\"#7201a8\"],[0.3333333333333333,\"#9c179e\"],[0.4444444444444444,\"#bd3786\"],[0.5555555555555556,\"#d8576b\"],[0.6666666666666666,\"#ed7953\"],[0.7777777777777778,\"#fb9f3a\"],[0.8888888888888888,\"#fdca26\"],[1.0,\"#f0f921\"]]}],\"heatmap\":[{\"type\":\"heatmap\",\"colorbar\":{\"outlinewidth\":0,\"ticks\":\"\"},\"colorscale\":[[0.0,\"#0d0887\"],[0.1111111111111111,\"#46039f\"],[0.2222222222222222,\"#7201a8\"],[0.3333333333333333,\"#9c179e\"],[0.4444444444444444,\"#bd3786\"],[0.5555555555555556,\"#d8576b\"],[0.6666666666666666,\"#ed7953\"],[0.7777777777777778,\"#fb9f3a\"],[0.8888888888888888,\"#fdca26\"],[1.0,\"#f0f921\"]]}],\"heatmapgl\":[{\"type\":\"heatmapgl\",\"colorbar\":{\"outlinewidth\":0,\"ticks\":\"\"},\"colorscale\":[[0.0,\"#0d0887\"],[0.1111111111111111,\"#46039f\"],[0.2222222222222222,\"#7201a8\"],[0.3333333333333333,\"#9c179e\"],[0.4444444444444444,\"#bd3786\"],[0.5555555555555556,\"#d8576b\"],[0.6666666666666666,\"#ed7953\"],[0.7777777777777778,\"#fb9f3a\"],[0.8888888888888888,\"#fdca26\"],[1.0,\"#f0f921\"]]}],\"contourcarpet\":[{\"type\":\"contourcarpet\",\"colorbar\":{\"outlinewidth\":0,\"ticks\":\"\"}}],\"contour\":[{\"type\":\"contour\",\"colorbar\":{\"outlinewidth\":0,\"ticks\":\"\"},\"colorscale\":[[0.0,\"#0d0887\"],[0.1111111111111111,\"#46039f\"],[0.2222222222222222,\"#7201a8\"],[0.3333333333333333,\"#9c179e\"],[0.4444444444444444,\"#bd3786\"],[0.5555555555555556,\"#d8576b\"],[0.6666666666666666,\"#ed7953\"],[0.7777777777777778,\"#fb9f3a\"],[0.8888888888888888,\"#fdca26\"],[1.0,\"#f0f921\"]]}],\"surface\":[{\"type\":\"surface\",\"colorbar\":{\"outlinewidth\":0,\"ticks\":\"\"},\"colorscale\":[[0.0,\"#0d0887\"],[0.1111111111111111,\"#46039f\"],[0.2222222222222222,\"#7201a8\"],[0.3333333333333333,\"#9c179e\"],[0.4444444444444444,\"#bd3786\"],[0.5555555555555556,\"#d8576b\"],[0.6666666666666666,\"#ed7953\"],[0.7777777777777778,\"#fb9f3a\"],[0.8888888888888888,\"#fdca26\"],[1.0,\"#f0f921\"]]}],\"mesh3d\":[{\"type\":\"mesh3d\",\"colorbar\":{\"outlinewidth\":0,\"ticks\":\"\"}}],\"scatter\":[{\"fillpattern\":{\"fillmode\":\"overlay\",\"size\":10,\"solidity\":0.2},\"type\":\"scatter\"}],\"parcoords\":[{\"type\":\"parcoords\",\"line\":{\"colorbar\":{\"outlinewidth\":0,\"ticks\":\"\"}}}],\"scatterpolargl\":[{\"type\":\"scatterpolargl\",\"marker\":{\"colorbar\":{\"outlinewidth\":0,\"ticks\":\"\"}}}],\"bar\":[{\"error_x\":{\"color\":\"#2a3f5f\"},\"error_y\":{\"color\":\"#2a3f5f\"},\"marker\":{\"line\":{\"color\":\"#E5ECF6\",\"width\":0.5},\"pattern\":{\"fillmode\":\"overlay\",\"size\":10,\"solidity\":0.2}},\"type\":\"bar\"}],\"scattergeo\":[{\"type\":\"scattergeo\",\"marker\":{\"colorbar\":{\"outlinewidth\":0,\"ticks\":\"\"}}}],\"scatterpolar\":[{\"type\":\"scatterpolar\",\"marker\":{\"colorbar\":{\"outlinewidth\":0,\"ticks\":\"\"}}}],\"histogram\":[{\"marker\":{\"pattern\":{\"fillmode\":\"overlay\",\"size\":10,\"solidity\":0.2}},\"type\":\"histogram\"}],\"scattergl\":[{\"type\":\"scattergl\",\"marker\":{\"colorbar\":{\"outlinewidth\":0,\"ticks\":\"\"}}}],\"scatter3d\":[{\"type\":\"scatter3d\",\"line\":{\"colorbar\":{\"outlinewidth\":0,\"ticks\":\"\"}},\"marker\":{\"colorbar\":{\"outlinewidth\":0,\"ticks\":\"\"}}}],\"scattermapbox\":[{\"type\":\"scattermapbox\",\"marker\":{\"colorbar\":{\"outlinewidth\":0,\"ticks\":\"\"}}}],\"scatterternary\":[{\"type\":\"scatterternary\",\"marker\":{\"colorbar\":{\"outlinewidth\":0,\"ticks\":\"\"}}}],\"scattercarpet\":[{\"type\":\"scattercarpet\",\"marker\":{\"colorbar\":{\"outlinewidth\":0,\"ticks\":\"\"}}}],\"carpet\":[{\"aaxis\":{\"endlinecolor\":\"#2a3f5f\",\"gridcolor\":\"white\",\"linecolor\":\"white\",\"minorgridcolor\":\"white\",\"startlinecolor\":\"#2a3f5f\"},\"baxis\":{\"endlinecolor\":\"#2a3f5f\",\"gridcolor\":\"white\",\"linecolor\":\"white\",\"minorgridcolor\":\"white\",\"startlinecolor\":\"#2a3f5f\"},\"type\":\"carpet\"}],\"table\":[{\"cells\":{\"fill\":{\"color\":\"#EBF0F8\"},\"line\":{\"color\":\"white\"}},\"header\":{\"fill\":{\"color\":\"#C8D4E3\"},\"line\":{\"color\":\"white\"}},\"type\":\"table\"}],\"barpolar\":[{\"marker\":{\"line\":{\"color\":\"#E5ECF6\",\"width\":0.5},\"pattern\":{\"fillmode\":\"overlay\",\"size\":10,\"solidity\":0.2}},\"type\":\"barpolar\"}],\"pie\":[{\"automargin\":true,\"type\":\"pie\"}]},\"layout\":{\"autotypenumbers\":\"strict\",\"colorway\":[\"#636efa\",\"#EF553B\",\"#00cc96\",\"#ab63fa\",\"#FFA15A\",\"#19d3f3\",\"#FF6692\",\"#B6E880\",\"#FF97FF\",\"#FECB52\"],\"font\":{\"color\":\"#2a3f5f\"},\"hovermode\":\"closest\",\"hoverlabel\":{\"align\":\"left\"},\"paper_bgcolor\":\"white\",\"plot_bgcolor\":\"#E5ECF6\",\"polar\":{\"bgcolor\":\"#E5ECF6\",\"angularaxis\":{\"gridcolor\":\"white\",\"linecolor\":\"white\",\"ticks\":\"\"},\"radialaxis\":{\"gridcolor\":\"white\",\"linecolor\":\"white\",\"ticks\":\"\"}},\"ternary\":{\"bgcolor\":\"#E5ECF6\",\"aaxis\":{\"gridcolor\":\"white\",\"linecolor\":\"white\",\"ticks\":\"\"},\"baxis\":{\"gridcolor\":\"white\",\"linecolor\":\"white\",\"ticks\":\"\"},\"caxis\":{\"gridcolor\":\"white\",\"linecolor\":\"white\",\"ticks\":\"\"}},\"coloraxis\":{\"colorbar\":{\"outlinewidth\":0,\"ticks\":\"\"}},\"colorscale\":{\"sequential\":[[0.0,\"#0d0887\"],[0.1111111111111111,\"#46039f\"],[0.2222222222222222,\"#7201a8\"],[0.3333333333333333,\"#9c179e\"],[0.4444444444444444,\"#bd3786\"],[0.5555555555555556,\"#d8576b\"],[0.6666666666666666,\"#ed7953\"],[0.7777777777777778,\"#fb9f3a\"],[0.8888888888888888,\"#fdca26\"],[1.0,\"#f0f921\"]],\"sequentialminus\":[[0.0,\"#0d0887\"],[0.1111111111111111,\"#46039f\"],[0.2222222222222222,\"#7201a8\"],[0.3333333333333333,\"#9c179e\"],[0.4444444444444444,\"#bd3786\"],[0.5555555555555556,\"#d8576b\"],[0.6666666666666666,\"#ed7953\"],[0.7777777777777778,\"#fb9f3a\"],[0.8888888888888888,\"#fdca26\"],[1.0,\"#f0f921\"]],\"diverging\":[[0,\"#8e0152\"],[0.1,\"#c51b7d\"],[0.2,\"#de77ae\"],[0.3,\"#f1b6da\"],[0.4,\"#fde0ef\"],[0.5,\"#f7f7f7\"],[0.6,\"#e6f5d0\"],[0.7,\"#b8e186\"],[0.8,\"#7fbc41\"],[0.9,\"#4d9221\"],[1,\"#276419\"]]},\"xaxis\":{\"gridcolor\":\"white\",\"linecolor\":\"white\",\"ticks\":\"\",\"title\":{\"standoff\":15},\"zerolinecolor\":\"white\",\"automargin\":true,\"zerolinewidth\":2},\"yaxis\":{\"gridcolor\":\"white\",\"linecolor\":\"white\",\"ticks\":\"\",\"title\":{\"standoff\":15},\"zerolinecolor\":\"white\",\"automargin\":true,\"zerolinewidth\":2},\"scene\":{\"xaxis\":{\"backgroundcolor\":\"#E5ECF6\",\"gridcolor\":\"white\",\"linecolor\":\"white\",\"showbackground\":true,\"ticks\":\"\",\"zerolinecolor\":\"white\",\"gridwidth\":2},\"yaxis\":{\"backgroundcolor\":\"#E5ECF6\",\"gridcolor\":\"white\",\"linecolor\":\"white\",\"showbackground\":true,\"ticks\":\"\",\"zerolinecolor\":\"white\",\"gridwidth\":2},\"zaxis\":{\"backgroundcolor\":\"#E5ECF6\",\"gridcolor\":\"white\",\"linecolor\":\"white\",\"showbackground\":true,\"ticks\":\"\",\"zerolinecolor\":\"white\",\"gridwidth\":2}},\"shapedefaults\":{\"line\":{\"color\":\"#2a3f5f\"}},\"annotationdefaults\":{\"arrowcolor\":\"#2a3f5f\",\"arrowhead\":0,\"arrowwidth\":1},\"geo\":{\"bgcolor\":\"white\",\"landcolor\":\"#E5ECF6\",\"subunitcolor\":\"white\",\"showland\":true,\"showlakes\":true,\"lakecolor\":\"white\"},\"title\":{\"x\":0.05},\"mapbox\":{\"style\":\"light\"}}}},                        {\"responsive\": true}                    ).then(function(){\n",
       "                            \n",
       "var gd = document.getElementById('048214ca-692d-460d-8437-f3e110fa8dda');\n",
       "var x = new MutationObserver(function (mutations, observer) {{\n",
       "        var display = window.getComputedStyle(gd).display;\n",
       "        if (!display || display === 'none') {{\n",
       "            console.log([gd, 'removed!']);\n",
       "            Plotly.purge(gd);\n",
       "            observer.disconnect();\n",
       "        }}\n",
       "}});\n",
       "\n",
       "// Listen for the removal of the full notebook cells\n",
       "var notebookContainer = gd.closest('#notebook-container');\n",
       "if (notebookContainer) {{\n",
       "    x.observe(notebookContainer, {childList: true});\n",
       "}}\n",
       "\n",
       "// Listen for the clearing of the current output cell\n",
       "var outputEl = gd.closest('.output');\n",
       "if (outputEl) {{\n",
       "    x.observe(outputEl, {childList: true});\n",
       "}}\n",
       "\n",
       "                        })                };                });            </script>        </div>"
      ]
     },
     "metadata": {},
     "output_type": "display_data"
    }
   ],
   "source": [
    "optuna.visualization.plot_optimization_history(study)"
   ]
  },
  {
   "cell_type": "code",
   "execution_count": 35,
   "id": "6ac523b5",
   "metadata": {
    "execution": {
     "iopub.execute_input": "2022-05-16T19:48:58.125022Z",
     "iopub.status.busy": "2022-05-16T19:48:58.124384Z",
     "iopub.status.idle": "2022-05-16T19:48:58.205776Z",
     "shell.execute_reply": "2022-05-16T19:48:58.204855Z"
    },
    "papermill": {
     "duration": 0.233681,
     "end_time": "2022-05-16T19:48:58.207886",
     "exception": false,
     "start_time": "2022-05-16T19:48:57.974205",
     "status": "completed"
    },
    "tags": []
   },
   "outputs": [
    {
     "data": {
      "text/html": [
       "<div>                            <div id=\"c96abfa5-4218-41eb-9cea-1e7bd94d7b37\" class=\"plotly-graph-div\" style=\"height:525px; width:100%;\"></div>            <script type=\"text/javascript\">                require([\"plotly\"], function(Plotly) {                    window.PLOTLYENV=window.PLOTLYENV || {};                                    if (document.getElementById(\"c96abfa5-4218-41eb-9cea-1e7bd94d7b37\")) {                    Plotly.newPlot(                        \"c96abfa5-4218-41eb-9cea-1e7bd94d7b37\",                        [{\"marker\":{\"maxdisplayed\":10},\"mode\":\"lines+markers\",\"name\":\"Trial0\",\"x\":[0,1,2,3,4,5,6,7,8,9,10,11,12,13,14,15,16,17,18,19,20,21,22,23,24,25,26,27,28,29,30,31,32,33,34,35,36,37,38,39,40,41,42,43,44,45],\"y\":[0.6433243751525879,0.2394189089536667,0.18139654397964478,0.1576167196035385,0.1524643450975418,0.13760432600975037,0.12733469903469086,0.12228592485189438,0.11819478869438171,0.11408919841051102,0.1116122230887413,0.10932496190071106,0.10574526339769363,0.10049314796924591,0.09925248473882675,0.10284435003995895,0.09455682337284088,0.09471850842237473,0.08613870292901993,0.09048473089933395,0.08788444846868515,0.08685389906167984,0.08335539698600769,0.08455376327037811,0.07912571728229523,0.0830625370144844,0.07902132719755173,0.07830207049846649,0.08071114122867584,0.07979867607355118,0.08005451411008835,0.07634686678647995,0.0806402638554573,0.07067352533340454,0.07377895712852478,0.07591968774795532,0.07148074358701706,0.06834710389375687,0.07361955940723419,0.07121791690587997,0.07074598968029022,0.07076667994260788,0.06850641220808029,0.06794533878564835,0.06891433149576187,0.06759409606456757],\"type\":\"scatter\"},{\"marker\":{\"maxdisplayed\":10},\"mode\":\"lines+markers\",\"name\":\"Trial1\",\"x\":[0,1,2,3,4,5,6,7,8,9,10,11,12,13,14,15,16,17,18,19,20,21,22,23,24,25,26,27,28,29,30,31,32,33,34,35,36,37,38,39,40,41,42,43,44,45,46,47,48],\"y\":[0.7914369702339172,0.26824840903282166,0.2352648228406906,0.2214602530002594,0.21861466765403748,0.21386753022670746,0.20429757237434387,0.2033405900001526,0.20206011831760406,0.20363225042819977,0.2008463442325592,0.19443298876285553,0.19236809015274048,0.1886645257472992,0.19180117547512054,0.18491801619529724,0.18457968533039093,0.1829766184091568,0.18318501114845276,0.1832592636346817,0.17942577600479126,0.17764423787593842,0.18077340722084045,0.1795400083065033,0.17362216114997864,0.17268788814544678,0.1735294610261917,0.17066152393817902,0.16865651309490204,0.1666002720594406,0.164348766207695,0.16690693795681,0.17087863385677338,0.16746360063552856,0.1641991287469864,0.16499575972557068,0.16144415736198425,0.1600116789340973,0.15951955318450928,0.15742824971675873,0.15730054676532745,0.15867692232131958,0.16047802567481995,0.16108278930187225,0.15828147530555725,0.15397699177265167,0.15484248101711273,0.15577678382396698,0.15005899965763092],\"type\":\"scatter\"},{\"marker\":{\"maxdisplayed\":10},\"mode\":\"lines+markers\",\"name\":\"Trial2\",\"x\":[0,1],\"y\":[0.8858149647712708,0.8856058120727539],\"type\":\"scatter\"},{\"marker\":{\"maxdisplayed\":10},\"mode\":\"lines+markers\",\"name\":\"Trial3\",\"x\":[0,1,2,3,4,5,6,7,8,9,10,11,12,13,14,15,16,17,18,19,20,21,22,23,24,25,26,27,28,29,30,31,32,33,34,35],\"y\":[0.7426483035087585,0.48772862553596497,0.2748999297618866,0.1914711743593216,0.17517150938510895,0.14550358057022095,0.1365366131067276,0.1296161711215973,0.11809840798377991,0.11289404332637787,0.10429449379444122,0.10206820070743561,0.09973849356174469,0.09790642559528351,0.10374931991100311,0.09927089512348175,0.08765741437673569,0.0877658799290657,0.08372759073972702,0.08824991434812546,0.08547067642211914,0.08412241190671921,0.08100558072328568,0.07933394610881805,0.07883857935667038,0.0780736431479454,0.08022254705429077,0.07655475288629532,0.07569441944360733,0.07688181102275848,0.08066275715827942,0.07475130259990692,0.07503935694694519,0.07379426807165146,0.06920497119426727,0.07585066556930542],\"type\":\"scatter\"},{\"marker\":{\"maxdisplayed\":10},\"mode\":\"lines+markers\",\"name\":\"Trial4\",\"x\":[0,1,2,3],\"y\":[0.8853103518486023,0.8770240545272827,0.8045911192893982,0.5656821131706238],\"type\":\"scatter\"},{\"marker\":{\"maxdisplayed\":10},\"mode\":\"lines+markers\",\"name\":\"Trial5\",\"x\":[0,1,2,3],\"y\":[0.8842949271202087,0.8742620348930359,0.7139983177185059,0.2544563412666321],\"type\":\"scatter\"},{\"marker\":{\"maxdisplayed\":10},\"mode\":\"lines+markers\",\"name\":\"Trial6\",\"x\":[0,1,2,3,4,5,6,7,8,9,10,11,12,13,14,15,16,17,18,19,20,21,22,23,24,25,26,27,28,29,30,31,32,33,34,35,36,37,38,39,40],\"y\":[0.5199165344238281,0.20997478067874908,0.1861981898546219,0.18333865702152252,0.16535194218158722,0.1577090471982956,0.14484809339046478,0.1440064013004303,0.14281350374221802,0.13468272984027863,0.13154107332229614,0.12850897014141083,0.1300419420003891,0.12073215842247009,0.1269308477640152,0.12016034871339798,0.1151362955570221,0.11269750446081161,0.11745516210794449,0.10639113187789917,0.10689209401607513,0.10394406318664551,0.10496719181537628,0.10730364173650742,0.10335397720336914,0.10489879548549652,0.10761012136936188,0.10031095147132874,0.09977373480796814,0.09964608401060104,0.09553505480289459,0.09990300983190536,0.09655898809432983,0.09253079444169998,0.0910620167851448,0.09099777787923813,0.09761860966682434,0.09101569652557373,0.08988369256258011,0.09058227390050888,0.09072671085596085],\"type\":\"scatter\"},{\"marker\":{\"maxdisplayed\":10},\"mode\":\"lines+markers\",\"name\":\"Trial7\",\"x\":[0,1],\"y\":[0.8855986595153809,0.8847383260726929],\"type\":\"scatter\"},{\"marker\":{\"maxdisplayed\":10},\"mode\":\"lines+markers\",\"name\":\"Trial8\",\"x\":[0,1],\"y\":[0.8719891309738159,0.9019678235054016],\"type\":\"scatter\"},{\"marker\":{\"maxdisplayed\":10},\"mode\":\"lines+markers\",\"name\":\"Trial9\",\"x\":[0,1],\"y\":[0.8858155608177185,0.8853635191917419],\"type\":\"scatter\"},{\"marker\":{\"maxdisplayed\":10},\"mode\":\"lines+markers\",\"name\":\"Trial10\",\"x\":[0,1,2,3],\"y\":[0.3908007740974426,0.22251957654953003,0.2068365514278412,0.19715799391269684],\"type\":\"scatter\"},{\"marker\":{\"maxdisplayed\":10},\"mode\":\"lines+markers\",\"name\":\"Trial11\",\"x\":[0,1,2,3,4,5,6,7,8,9,10,11,12,13,14,15,16,17,18,19,20,21,22,23,24,25,26,27,28,29,30,31,32,33,34,35,36],\"y\":[0.28102394938468933,0.1525622010231018,0.13890309631824493,0.13112086057662964,0.12251489609479904,0.11741437762975693,0.1121380552649498,0.11007054895162582,0.10462421923875809,0.10686483234167099,0.10030118376016617,0.09756270796060562,0.09720496833324432,0.09272763133049011,0.09350673854351044,0.089039146900177,0.08507639914751053,0.08567240834236145,0.08247893303632736,0.08025610446929932,0.08233397454023361,0.07781433314085007,0.07806730270385742,0.07370203733444214,0.07376222312450409,0.07420282810926437,0.07373720407485962,0.07256436347961426,0.07172742486000061,0.06991151720285416,0.07156938314437866,0.07042690366506577,0.0658913180232048,0.06577762216329575,0.0676674097776413,0.06636229902505875,0.06658586859703064],\"type\":\"scatter\"},{\"marker\":{\"maxdisplayed\":10},\"mode\":\"lines+markers\",\"name\":\"Trial12\",\"x\":[0,1,2,3,4,5,6,7,8,9,10,11,12,13,14,15,16,17,18,19,20,21,22,23,24,25,26,27,28,29,30,31,32,33,34,35,36,37,38,39,40,41,42,43,44,45,46,47,48,49],\"y\":[0.45183810591697693,0.17650346457958221,0.1513957679271698,0.13036561012268066,0.12067362666130066,0.11218922585248947,0.10014975070953369,0.09936504065990448,0.09488242864608765,0.09982044994831085,0.09158077090978622,0.09041853994131088,0.09460311383008957,0.08782051503658295,0.08456757664680481,0.08462947607040405,0.08303336799144745,0.08356891572475433,0.08270315080881119,0.08292281627655029,0.08236642181873322,0.07802197337150574,0.07967407256364822,0.07694949954748154,0.08001828193664551,0.08146414905786514,0.07791542261838913,0.07598023861646652,0.07825799286365509,0.07905014604330063,0.08007743954658508,0.07677395641803741,0.08042119443416595,0.07126276940107346,0.0693560466170311,0.07263138890266418,0.0758078321814537,0.06942709535360336,0.0699286162853241,0.0727386474609375,0.07188252359628677,0.06944392621517181,0.0752226859331131,0.07324987649917603,0.07359714061021805,0.07239547371864319,0.06896120309829712,0.07109207659959793,0.07096871733665466,0.06823531538248062],\"type\":\"scatter\"},{\"marker\":{\"maxdisplayed\":10},\"mode\":\"lines+markers\",\"name\":\"Trial13\",\"x\":[0,1,2,3],\"y\":[0.8820865154266357,0.8597912788391113,0.7067225575447083,0.4142516851425171],\"type\":\"scatter\"},{\"marker\":{\"maxdisplayed\":10},\"mode\":\"lines+markers\",\"name\":\"Trial14\",\"x\":[0,1],\"y\":[0.8843905925750732,0.8770187497138977],\"type\":\"scatter\"},{\"marker\":{\"maxdisplayed\":10},\"mode\":\"lines+markers\",\"name\":\"Trial15\",\"x\":[0,1,2,3,4,5,6,7,8,9,10,11,12,13,14,15,16,17,18,19,20,21,22,23,24,25,26,27,28,29,30,31,32,33,34,35],\"y\":[0.2731379270553589,0.09932617843151093,0.0926176905632019,0.08848149329423904,0.08673274517059326,0.0844796672463417,0.08361630141735077,0.07778717577457428,0.07614430040121078,0.07415802776813507,0.07305755466222763,0.0706518366932869,0.06795153021812439,0.06546733528375626,0.06577916443347931,0.06596317142248154,0.06273412704467773,0.06237717717885971,0.06235270947217941,0.05967359617352486,0.06090627610683441,0.05976015329360962,0.05911446735262871,0.057227134704589844,0.05769725516438484,0.05877770483493805,0.05698410049080849,0.055319853127002716,0.05656427517533302,0.05498233065009117,0.05510382354259491,0.056433774530887604,0.05458115041255951,0.05299016460776329,0.053503651171922684,0.052350591868162155],\"type\":\"scatter\"},{\"marker\":{\"maxdisplayed\":10},\"mode\":\"lines+markers\",\"name\":\"Trial16\",\"x\":[0,1,2,3,4,5,6,7,8,9,10,11,12,13,14,15,16,17,18,19,20,21,22,23,24,25,26,27,28,29,30,31,32,33,34,35,36,37,38,39,40,41,42,43,44,45,46,47,48,49,50,51,52],\"y\":[0.8127742409706116,0.48149317502975464,0.31128332018852234,0.14749209582805634,0.13412867486476898,0.12221322953701019,0.11122602969408035,0.1076723113656044,0.10638032853603363,0.09927912056446075,0.09677344560623169,0.10145759582519531,0.08592785149812698,0.0860728994011879,0.08338147401809692,0.0843382477760315,0.0857694000005722,0.07588325440883636,0.07798280566930771,0.07502935081720352,0.07354786247015,0.07163863629102707,0.07254554331302643,0.07156061381101608,0.06618207693099976,0.06486159563064575,0.0662560909986496,0.06199827790260315,0.06413307785987854,0.058923862874507904,0.06153668090701103,0.06356984376907349,0.05959906801581383,0.05679849907755852,0.05856885761022568,0.059974923729896545,0.058266766369342804,0.057608712464571,0.057023290544748306,0.0562477707862854,0.05617501214146614,0.056154992431402206,0.05993424728512764,0.05332106724381447,0.05383485555648804,0.054199621081352234,0.053896356374025345,0.05612938106060028,0.05300521105527878,0.050838444381952286,0.050396766513586044,0.05150122568011284,0.05117981135845184],\"type\":\"scatter\"},{\"marker\":{\"maxdisplayed\":10},\"mode\":\"lines+markers\",\"name\":\"Trial17\",\"x\":[0,1,2,3,4,5,6,7,8,9],\"y\":[0.31037816405296326,0.11455737799406052,0.1063217967748642,0.10278075933456421,0.09945585578680038,0.09617787599563599,0.09270824491977692,0.09030521661043167,0.088300921022892,0.0871620625257492],\"type\":\"scatter\"},{\"marker\":{\"maxdisplayed\":10},\"mode\":\"lines+markers\",\"name\":\"Trial18\",\"x\":[0,1,2,3],\"y\":[0.46541711688041687,0.25925689935684204,0.2302260845899582,0.19143734872341156],\"type\":\"scatter\"},{\"marker\":{\"maxdisplayed\":10},\"mode\":\"lines+markers\",\"name\":\"Trial19\",\"x\":[0,1,2,3,4,5,6,7,8,9,10,11,12,13,14,15,16,17,18,19,20,21,22,23,24,25,26,27],\"y\":[0.27931299805641174,0.11863317340612411,0.10746148973703384,0.10042478144168854,0.09863349050283432,0.09298814833164215,0.0921618789434433,0.08882603794336319,0.08633270114660263,0.08629605174064636,0.08443283289670944,0.08053402602672577,0.07847744971513748,0.07538570463657379,0.07154867053031921,0.07065519690513611,0.06851140409708023,0.06755539774894714,0.06714263558387756,0.0660087838768959,0.06561789661645889,0.06397051364183426,0.06370440870523453,0.061164047569036484,0.06099236384034157,0.0641670972108841,0.05956275761127472,0.0617678165435791],\"type\":\"scatter\"},{\"marker\":{\"maxdisplayed\":10},\"mode\":\"lines+markers\",\"name\":\"Trial20\",\"x\":[0,1,2,3,4,5,6,7,8,9,10,11,12,13,14,15,16,17,18,19,20,21,22,23,24,25,26,27,28,29,30,31,32,33,34,35],\"y\":[0.8840140700340271,0.7428115010261536,0.4912669062614441,0.2562313675880432,0.21627436578273773,0.20144222676753998,0.19402875006198883,0.18390710651874542,0.1854228675365448,0.1756790727376938,0.1730005145072937,0.16854657232761383,0.16733723878860474,0.16478608548641205,0.159593865275383,0.15882454812526703,0.15778173506259918,0.15212437510490417,0.1516164392232895,0.1526654064655304,0.15005747973918915,0.14506931602954865,0.1422199159860611,0.14276428520679474,0.14109759032726288,0.13934750854969025,0.13699765503406525,0.1374548077583313,0.1325644701719284,0.13308843970298767,0.13760578632354736,0.13233640789985657,0.12859772145748138,0.13326625525951385,0.1276407092809677,0.12683917582035065],\"type\":\"scatter\"},{\"marker\":{\"maxdisplayed\":10},\"mode\":\"lines+markers\",\"name\":\"Trial21\",\"x\":[0,1,2,3],\"y\":[0.2895379364490509,0.14970643818378448,0.12994153797626495,0.11978164315223694],\"type\":\"scatter\"},{\"marker\":{\"maxdisplayed\":10},\"mode\":\"lines+markers\",\"name\":\"Trial22\",\"x\":[0,1],\"y\":[0.2950490117073059,0.1688707172870636],\"type\":\"scatter\"},{\"marker\":{\"maxdisplayed\":10},\"mode\":\"lines+markers\",\"name\":\"Trial23\",\"x\":[0,1,2,3,4,5,6,7,8,9],\"y\":[0.885136604309082,0.8825554251670837,0.8756070733070374,0.8476750254631042,0.7249922752380371,0.4178897738456726,0.28561830520629883,0.2619852125644684,0.24628260731697083,0.24248762428760529],\"type\":\"scatter\"},{\"marker\":{\"maxdisplayed\":10},\"mode\":\"lines+markers\",\"name\":\"Trial24\",\"x\":[0,1,2,3,4,5,6,7,8,9,10,11,12,13,14,15,16,17,18,19,20,21,22,23,24,25,26,27],\"y\":[0.1819569617509842,0.13242152333259583,0.10643621534109116,0.09237551689147949,0.09392858296632767,0.09157407283782959,0.07976201176643372,0.0807521864771843,0.08006136119365692,0.07575829327106476,0.07202532887458801,0.0724281594157219,0.0732811689376831,0.07106940448284149,0.06765221059322357,0.06868233531713486,0.07334600389003754,0.07066997140645981,0.07148826122283936,0.07052581012248993,0.06317456066608429,0.06988737732172012,0.06831733882427216,0.06861944496631622,0.06281165033578873,0.0642358735203743,0.06092389300465584,0.06519447267055511],\"type\":\"scatter\"},{\"marker\":{\"maxdisplayed\":10},\"mode\":\"lines+markers\",\"name\":\"Trial25\",\"x\":[0,1,2,3,4,5,6,7,8,9,10,11,12,13,14,15,16,17,18,19,20,21,22,23,24,25,26,27,28,29,30,31,32,33,34,35,36,37,38,39,40,41,42,43,44,45],\"y\":[0.3677994906902313,0.1685595065355301,0.15715713798999786,0.15573249757289886,0.1518886238336563,0.14263783395290375,0.14032886922359467,0.13367420434951782,0.1289358139038086,0.11778154969215393,0.11621220409870148,0.11278880387544632,0.11003360897302628,0.10822336375713348,0.10959683358669281,0.10368190705776215,0.10292623192071915,0.10136748105287552,0.10202255845069885,0.09924422949552536,0.0955936387181282,0.09390179067850113,0.09183454513549805,0.09229105710983276,0.09046671539545059,0.09020356088876724,0.08925911784172058,0.0903439000248909,0.08889903128147125,0.08383657783269882,0.08517099916934967,0.0852431058883667,0.08665965497493744,0.08328448235988617,0.08279849588871002,0.0824490413069725,0.08166337758302689,0.0804053321480751,0.08135499805212021,0.07779614627361298,0.078348308801651,0.07626697421073914,0.07782260328531265,0.07782697677612305,0.07551365345716476,0.07326539605855942],\"type\":\"scatter\"},{\"marker\":{\"maxdisplayed\":10},\"mode\":\"lines+markers\",\"name\":\"Trial26\",\"x\":[0,1],\"y\":[0.8339205384254456,0.3607001006603241],\"type\":\"scatter\"},{\"marker\":{\"maxdisplayed\":10},\"mode\":\"lines+markers\",\"name\":\"Trial27\",\"x\":[0,1],\"y\":[0.33881303668022156,0.184794619679451],\"type\":\"scatter\"},{\"marker\":{\"maxdisplayed\":10},\"mode\":\"lines+markers\",\"name\":\"Trial28\",\"x\":[0,1,2,3,4,5,6,7,8,9,10,11,12,13,14,15,16,17,18,19,20,21,22,23,24,25,26,27,28,29,30,31,32,33,34,35,36,37,38,39],\"y\":[0.5614672899246216,0.24380694329738617,0.21944838762283325,0.19402696192264557,0.18028458952903748,0.167997807264328,0.15280748903751373,0.15227042138576508,0.1461162567138672,0.13482391834259033,0.1266707181930542,0.12461654841899872,0.11741369962692261,0.11301583796739578,0.11469341814517975,0.10468287020921707,0.10483871400356293,0.10330304503440857,0.10022227466106415,0.09795055538415909,0.09789697080850601,0.09471040964126587,0.09340781718492508,0.09242947399616241,0.09012497961521149,0.08729568868875504,0.0884484201669693,0.08810194581747055,0.08830101788043976,0.08743208646774292,0.08640383183956146,0.0848059356212616,0.08402428030967712,0.08197406679391861,0.08161310106515884,0.08246771991252899,0.08322438597679138,0.07893329858779907,0.08065219968557358,0.07903881371021271],\"type\":\"scatter\"},{\"marker\":{\"maxdisplayed\":10},\"mode\":\"lines+markers\",\"name\":\"Trial29\",\"x\":[0,1,2,3,4,5,6,7,8,9,10,11,12,13,14,15,16,17,18,19,20,21,22,23,24,25,26,27,28,29,30,31,32,33,34,35,36],\"y\":[0.6861289739608765,0.27312198281288147,0.193975031375885,0.16333119571208954,0.15048056840896606,0.13848991692066193,0.1338018774986267,0.12538810074329376,0.1185699850320816,0.11356434226036072,0.1120704635977745,0.10115974396467209,0.09911347925662994,0.09589861333370209,0.09361080825328827,0.09012411534786224,0.09037761390209198,0.09092721343040466,0.08677271753549576,0.08496840298175812,0.08413030207157135,0.08611877262592316,0.07938633114099503,0.08350639045238495,0.08281400799751282,0.07953028380870819,0.07875029742717743,0.07751212269067764,0.07882878184318542,0.07878989726305008,0.07682192325592041,0.07659713178873062,0.07220379263162613,0.06956003606319427,0.07344826310873032,0.07960614562034607,0.07225356996059418],\"type\":\"scatter\"},{\"marker\":{\"maxdisplayed\":10},\"mode\":\"lines+markers\",\"name\":\"Trial30\",\"x\":[0,1,2,3,4,5,6,7,8,9,10,11,12,13,14,15,16,17,18,19,20,21,22,23,24,25,26,27],\"y\":[0.29612553119659424,0.1400323212146759,0.1391177624464035,0.12020412087440491,0.10568458586931229,0.09548607468605042,0.09239961206912994,0.08621674031019211,0.08670101314783096,0.09143959730863571,0.09213905781507492,0.08577372878789902,0.08816145360469818,0.09172779321670532,0.07775591313838959,0.07911256700754166,0.08218848705291748,0.08604364097118378,0.07803915441036224,0.08887149393558502,0.07682085037231445,0.08306200802326202,0.07769183069467545,0.07244868576526642,0.07275178283452988,0.07724551856517792,0.07022066414356232,0.0697578638792038],\"type\":\"scatter\"},{\"marker\":{\"maxdisplayed\":10},\"mode\":\"lines+markers\",\"name\":\"Trial31\",\"x\":[0,1],\"y\":[0.8858288526535034,0.8393194079399109],\"type\":\"scatter\"},{\"marker\":{\"maxdisplayed\":10},\"mode\":\"lines+markers\",\"name\":\"Trial32\",\"x\":[0,1,2,3,4,5,6,7,8,9,10,11,12,13,14,15,16,17,18,19,20,21,22,23,24,25,26,27,28,29,30,31,32,33,34],\"y\":[0.734539806842804,0.16699303686618805,0.13507570326328278,0.12116320431232452,0.10527995973825455,0.09656339883804321,0.09016366302967072,0.08608479797840118,0.08708459138870239,0.08063478767871857,0.07988788187503815,0.07825455069541931,0.07216423749923706,0.07285522669553757,0.07386985421180725,0.06809127330780029,0.067527636885643,0.06846281886100769,0.06696702539920807,0.0627819076180458,0.06735298037528992,0.06215891242027283,0.060656771063804626,0.062222372740507126,0.06221339851617813,0.06103767082095146,0.06184302642941475,0.058302655816078186,0.05900576338171959,0.05889814347028732,0.05714011937379837,0.05605274811387062,0.057112209498882294,0.05635638162493706,0.052863527089357376],\"type\":\"scatter\"},{\"marker\":{\"maxdisplayed\":10},\"mode\":\"lines+markers\",\"name\":\"Trial33\",\"x\":[0,1,2,3,4,5,6,7,8,9,10,11,12,13,14,15,16,17,18,19,20,21,22,23,24,25,26,27,28,29,30,31,32],\"y\":[0.22026708722114563,0.11990408599376678,0.09917547553777695,0.08993307501077652,0.08223643898963928,0.0712931752204895,0.075893834233284,0.06716319918632507,0.06758162379264832,0.06433659791946411,0.06271104514598846,0.05974086374044418,0.05857987701892853,0.05769187957048416,0.059890132397413254,0.05811402574181557,0.05856906995177269,0.055659640580415726,0.05580369383096695,0.05514557287096977,0.05712832137942314,0.05451645702123642,0.05292263254523277,0.05129993334412575,0.05127215385437012,0.052981097251176834,0.050276387482881546,0.05123753845691681,0.050290681421756744,0.05093031004071236,0.04912962019443512,0.05092944949865341,0.04842444881796837],\"type\":\"scatter\"},{\"marker\":{\"maxdisplayed\":10},\"mode\":\"lines+markers\",\"name\":\"Trial34\",\"x\":[0,1,2,3,4,5,6,7,8,9],\"y\":[0.8849083781242371,0.8828912377357483,0.8817104697227478,0.8816447854042053,0.88152015209198,0.8815523386001587,0.8814821839332581,0.881505012512207,0.8815845251083374,0.881501317024231],\"type\":\"scatter\"},{\"marker\":{\"maxdisplayed\":10},\"mode\":\"lines+markers\",\"name\":\"Trial35\",\"x\":[0,1,2,3,4,5,6,7,8,9,10,11,12,13,14,15,16,17,18,19,20,21,22,23,24,25,26,27,28,29,30,31,32],\"y\":[0.17790164053440094,0.11982885003089905,0.08602594584226608,0.07543003559112549,0.07909361273050308,0.07079491764307022,0.0675097405910492,0.0687108039855957,0.06756677478551865,0.06526695191860199,0.0661894828081131,0.06511519104242325,0.07302732765674591,0.059973668307065964,0.057104043662548065,0.056488655507564545,0.05753076821565628,0.05900725722312927,0.054250262677669525,0.05268394574522972,0.056467656046152115,0.05482316017150879,0.05521993711590767,0.05742153897881508,0.056803520768880844,0.05457611382007599,0.0534452386200428,0.05179261788725853,0.05225829780101776,0.055981677025556564,0.055285897105932236,0.05181614309549332,0.05047931149601936],\"type\":\"scatter\"},{\"marker\":{\"maxdisplayed\":10},\"mode\":\"lines+markers\",\"name\":\"Trial36\",\"x\":[0,1,2,3],\"y\":[0.3642815947532654,0.20117506384849548,0.18265272676944733,0.1708899736404419],\"type\":\"scatter\"},{\"marker\":{\"maxdisplayed\":10},\"mode\":\"lines+markers\",\"name\":\"Trial37\",\"x\":[0,1,2,3],\"y\":[0.885160505771637,0.8830703496932983,0.858049213886261,0.40967851877212524],\"type\":\"scatter\"},{\"marker\":{\"maxdisplayed\":10},\"mode\":\"lines+markers\",\"name\":\"Trial38\",\"x\":[0,1,2,3,4,5,6,7,8,9],\"y\":[0.8394980430603027,0.6035545468330383,0.5181025862693787,0.47862568497657776,0.45439231395721436,0.4321034848690033,0.4127761423587799,0.39238542318344116,0.3752915859222412,0.3557627499103546],\"type\":\"scatter\"},{\"marker\":{\"maxdisplayed\":10},\"mode\":\"lines+markers\",\"name\":\"Trial39\",\"x\":[0,1,2,3,4,5,6,7,8,9],\"y\":[0.42807909846305847,0.1578466147184372,0.14030671119689941,0.12632408738136292,0.11610928922891617,0.11597766727209091,0.10422594845294952,0.10114479809999466,0.09726227074861526,0.09325598180294037],\"type\":\"scatter\"},{\"marker\":{\"maxdisplayed\":10},\"mode\":\"lines+markers\",\"name\":\"Trial40\",\"x\":[0,1,2,3,4,5,6,7,8,9],\"y\":[0.8812824487686157,0.8710134625434875,0.8504902124404907,0.794297993183136,0.6306398510932922,0.38198399543762207,0.30371639132499695,0.2809433043003082,0.2699555456638336,0.26112356781959534],\"type\":\"scatter\"},{\"marker\":{\"maxdisplayed\":10},\"mode\":\"lines+markers\",\"name\":\"Trial41\",\"x\":[0,1,2,3],\"y\":[0.4817546606063843,0.17101134359836578,0.15668800473213196,0.13512863218784332],\"type\":\"scatter\"},{\"marker\":{\"maxdisplayed\":10},\"mode\":\"lines+markers\",\"name\":\"Trial42\",\"x\":[0,1,2,3],\"y\":[0.20212949812412262,0.11420837044715881,0.09633426368236542,0.09348414093255997],\"type\":\"scatter\"},{\"marker\":{\"maxdisplayed\":10},\"mode\":\"lines+markers\",\"name\":\"Trial43\",\"x\":[0,1,2,3,4,5,6,7,8,9,10,11,12,13,14,15,16,17,18,19,20,21,22,23,24,25,26,27],\"y\":[0.46790021657943726,0.36441513895988464,0.7769103646278381,0.8843531608581543,0.8884910941123962,0.8864129781723022,0.885822057723999,0.8842378854751587,0.8844699859619141,0.8857092261314392,0.8826413750648499,0.8860118985176086,0.8838813900947571,0.8842394351959229,0.8849053978919983,0.884787380695343,0.8839529156684875,0.8832434415817261,0.8812404274940491,0.8829568028450012,0.8834658861160278,0.8840353488922119,0.883482038974762,0.8830976486206055,0.8829771280288696,0.8824079036712646,0.8835997581481934,0.8828710317611694],\"type\":\"scatter\"},{\"marker\":{\"maxdisplayed\":10},\"mode\":\"lines+markers\",\"name\":\"Trial44\",\"x\":[0,1,2,3],\"y\":[0.8853816986083984,0.8786570429801941,0.48932355642318726,0.2647053897380829],\"type\":\"scatter\"},{\"marker\":{\"maxdisplayed\":10},\"mode\":\"lines+markers\",\"name\":\"Trial45\",\"x\":[0,1,2,3,4,5,6,7,8,9,10,11,12,13,14,15,16,17,18,19,20,21,22,23,24,25,26,27,28,29,30,31,32,33,34,35,36,37,38,39,40,41,42,43,44,45,46,47],\"y\":[0.7365602850914001,0.4590905010700226,0.2820746600627899,0.1613600254058838,0.15104638040065765,0.13570460677146912,0.12702453136444092,0.12214504182338715,0.11382979154586792,0.11371691524982452,0.10737065970897675,0.111487478017807,0.10433894395828247,0.10301095247268677,0.10893341898918152,0.09822708368301392,0.09918196499347687,0.10006583482027054,0.09551546722650528,0.09603685885667801,0.10060019046068192,0.09236783534288406,0.08947358280420303,0.09189187735319138,0.0968225747346878,0.09700208902359009,0.09433149546384811,0.10674873739480972,0.09420813620090485,0.09589994698762894,0.1008329689502716,0.10456770658493042,0.10839223116636276,0.09636946022510529,0.09449171274900436,0.10695230215787888,0.09130384773015976,0.0967932939529419,0.1109234169125557,0.09890390932559967,0.09577430784702301,0.09555650502443314,0.0954560711979866,0.09685831516981125,0.09635920822620392,0.2792434096336365,0.8714773654937744,0.9304342865943909],\"type\":\"scatter\"},{\"marker\":{\"maxdisplayed\":10},\"mode\":\"lines+markers\",\"name\":\"Trial46\",\"x\":[0,1,2,3,4,5,6,7,8,9,10,11,12,13,14,15,16,17,18,19,20,21,22,23,24,25,26,27,28,29,30,31,32,33,34,35,36,37,38,39,40,41,42,43,44,45,46,47,48,49,50,51,52,53,54],\"y\":[0.5786370635032654,0.1563454419374466,0.11697912216186523,0.08746959269046783,0.07808440178632736,0.0884937196969986,0.07234947383403778,0.07073765993118286,0.07235369086265564,0.0685567855834961,0.0662456527352333,0.06275277584791183,0.06381949782371521,0.06567978858947754,0.06254495680332184,0.060177262872457504,0.06076030433177948,0.06034114956855774,0.054959945380687714,0.0637710765004158,0.05886973813176155,0.05727722495794296,0.05331551656126976,0.05250898003578186,0.055533863604068756,0.057092033326625824,0.055435992777347565,0.055294208228588104,0.05071333050727844,0.05065472424030304,0.05124887824058533,0.05414909869432449,0.055086325854063034,0.047481637448072433,0.0525643527507782,0.05149369314312935,0.05229165777564049,0.04555694758892059,0.04769260808825493,0.04985133931040764,0.04855538159608841,0.04525890573859215,0.046047795563936234,0.046735573559999466,0.044125329703092575,0.04564299061894417,0.04327602684497833,0.052929192781448364,0.044367238879203796,0.04488223046064377,0.04322618246078491,0.04846840351819992,0.046142157167196274,0.04327169805765152,0.04244589805603027],\"type\":\"scatter\"},{\"marker\":{\"maxdisplayed\":10},\"mode\":\"lines+markers\",\"name\":\"Trial47\",\"x\":[0,1,2,3],\"y\":[0.8842986226081848,0.8177880048751831,0.27672281861305237,0.13150587677955627],\"type\":\"scatter\"},{\"marker\":{\"maxdisplayed\":10},\"mode\":\"lines+markers\",\"name\":\"Trial48\",\"x\":[0,1,2,3,4,5,6,7,8,9,10,11,12,13,14,15,16,17,18,19,20,21,22,23,24,25,26,27,28,29,30,31],\"y\":[0.17190775275230408,0.09930063039064407,0.08709590137004852,0.07507359236478806,0.07041449844837189,0.06621289253234863,0.06353697925806046,0.05903477221727371,0.057110197842121124,0.05475856363773346,0.05478183925151825,0.05170159414410591,0.052613891661167145,0.0504060797393322,0.05241992324590683,0.04839314520359039,0.04726593196392059,0.0496380440890789,0.048225730657577515,0.046182479709386826,0.04844364896416664,0.05074635148048401,0.04417262598872185,0.04931095615029335,0.05214396491646767,0.04594012722373009,0.04505340754985809,0.047968555241823196,0.04496074467897415,0.04601709544658661,0.043460361659526825,0.04607203230261803],\"type\":\"scatter\"},{\"marker\":{\"maxdisplayed\":10},\"mode\":\"lines+markers\",\"name\":\"Trial49\",\"x\":[0,1],\"y\":[0.21985024213790894,0.1363278478384018],\"type\":\"scatter\"}],                        {\"showlegend\":false,\"title\":{\"text\":\"Intermediate Values Plot\"},\"xaxis\":{\"title\":{\"text\":\"Step\"}},\"yaxis\":{\"title\":{\"text\":\"Intermediate Value\"}},\"template\":{\"data\":{\"histogram2dcontour\":[{\"type\":\"histogram2dcontour\",\"colorbar\":{\"outlinewidth\":0,\"ticks\":\"\"},\"colorscale\":[[0.0,\"#0d0887\"],[0.1111111111111111,\"#46039f\"],[0.2222222222222222,\"#7201a8\"],[0.3333333333333333,\"#9c179e\"],[0.4444444444444444,\"#bd3786\"],[0.5555555555555556,\"#d8576b\"],[0.6666666666666666,\"#ed7953\"],[0.7777777777777778,\"#fb9f3a\"],[0.8888888888888888,\"#fdca26\"],[1.0,\"#f0f921\"]]}],\"choropleth\":[{\"type\":\"choropleth\",\"colorbar\":{\"outlinewidth\":0,\"ticks\":\"\"}}],\"histogram2d\":[{\"type\":\"histogram2d\",\"colorbar\":{\"outlinewidth\":0,\"ticks\":\"\"},\"colorscale\":[[0.0,\"#0d0887\"],[0.1111111111111111,\"#46039f\"],[0.2222222222222222,\"#7201a8\"],[0.3333333333333333,\"#9c179e\"],[0.4444444444444444,\"#bd3786\"],[0.5555555555555556,\"#d8576b\"],[0.6666666666666666,\"#ed7953\"],[0.7777777777777778,\"#fb9f3a\"],[0.8888888888888888,\"#fdca26\"],[1.0,\"#f0f921\"]]}],\"heatmap\":[{\"type\":\"heatmap\",\"colorbar\":{\"outlinewidth\":0,\"ticks\":\"\"},\"colorscale\":[[0.0,\"#0d0887\"],[0.1111111111111111,\"#46039f\"],[0.2222222222222222,\"#7201a8\"],[0.3333333333333333,\"#9c179e\"],[0.4444444444444444,\"#bd3786\"],[0.5555555555555556,\"#d8576b\"],[0.6666666666666666,\"#ed7953\"],[0.7777777777777778,\"#fb9f3a\"],[0.8888888888888888,\"#fdca26\"],[1.0,\"#f0f921\"]]}],\"heatmapgl\":[{\"type\":\"heatmapgl\",\"colorbar\":{\"outlinewidth\":0,\"ticks\":\"\"},\"colorscale\":[[0.0,\"#0d0887\"],[0.1111111111111111,\"#46039f\"],[0.2222222222222222,\"#7201a8\"],[0.3333333333333333,\"#9c179e\"],[0.4444444444444444,\"#bd3786\"],[0.5555555555555556,\"#d8576b\"],[0.6666666666666666,\"#ed7953\"],[0.7777777777777778,\"#fb9f3a\"],[0.8888888888888888,\"#fdca26\"],[1.0,\"#f0f921\"]]}],\"contourcarpet\":[{\"type\":\"contourcarpet\",\"colorbar\":{\"outlinewidth\":0,\"ticks\":\"\"}}],\"contour\":[{\"type\":\"contour\",\"colorbar\":{\"outlinewidth\":0,\"ticks\":\"\"},\"colorscale\":[[0.0,\"#0d0887\"],[0.1111111111111111,\"#46039f\"],[0.2222222222222222,\"#7201a8\"],[0.3333333333333333,\"#9c179e\"],[0.4444444444444444,\"#bd3786\"],[0.5555555555555556,\"#d8576b\"],[0.6666666666666666,\"#ed7953\"],[0.7777777777777778,\"#fb9f3a\"],[0.8888888888888888,\"#fdca26\"],[1.0,\"#f0f921\"]]}],\"surface\":[{\"type\":\"surface\",\"colorbar\":{\"outlinewidth\":0,\"ticks\":\"\"},\"colorscale\":[[0.0,\"#0d0887\"],[0.1111111111111111,\"#46039f\"],[0.2222222222222222,\"#7201a8\"],[0.3333333333333333,\"#9c179e\"],[0.4444444444444444,\"#bd3786\"],[0.5555555555555556,\"#d8576b\"],[0.6666666666666666,\"#ed7953\"],[0.7777777777777778,\"#fb9f3a\"],[0.8888888888888888,\"#fdca26\"],[1.0,\"#f0f921\"]]}],\"mesh3d\":[{\"type\":\"mesh3d\",\"colorbar\":{\"outlinewidth\":0,\"ticks\":\"\"}}],\"scatter\":[{\"fillpattern\":{\"fillmode\":\"overlay\",\"size\":10,\"solidity\":0.2},\"type\":\"scatter\"}],\"parcoords\":[{\"type\":\"parcoords\",\"line\":{\"colorbar\":{\"outlinewidth\":0,\"ticks\":\"\"}}}],\"scatterpolargl\":[{\"type\":\"scatterpolargl\",\"marker\":{\"colorbar\":{\"outlinewidth\":0,\"ticks\":\"\"}}}],\"bar\":[{\"error_x\":{\"color\":\"#2a3f5f\"},\"error_y\":{\"color\":\"#2a3f5f\"},\"marker\":{\"line\":{\"color\":\"#E5ECF6\",\"width\":0.5},\"pattern\":{\"fillmode\":\"overlay\",\"size\":10,\"solidity\":0.2}},\"type\":\"bar\"}],\"scattergeo\":[{\"type\":\"scattergeo\",\"marker\":{\"colorbar\":{\"outlinewidth\":0,\"ticks\":\"\"}}}],\"scatterpolar\":[{\"type\":\"scatterpolar\",\"marker\":{\"colorbar\":{\"outlinewidth\":0,\"ticks\":\"\"}}}],\"histogram\":[{\"marker\":{\"pattern\":{\"fillmode\":\"overlay\",\"size\":10,\"solidity\":0.2}},\"type\":\"histogram\"}],\"scattergl\":[{\"type\":\"scattergl\",\"marker\":{\"colorbar\":{\"outlinewidth\":0,\"ticks\":\"\"}}}],\"scatter3d\":[{\"type\":\"scatter3d\",\"line\":{\"colorbar\":{\"outlinewidth\":0,\"ticks\":\"\"}},\"marker\":{\"colorbar\":{\"outlinewidth\":0,\"ticks\":\"\"}}}],\"scattermapbox\":[{\"type\":\"scattermapbox\",\"marker\":{\"colorbar\":{\"outlinewidth\":0,\"ticks\":\"\"}}}],\"scatterternary\":[{\"type\":\"scatterternary\",\"marker\":{\"colorbar\":{\"outlinewidth\":0,\"ticks\":\"\"}}}],\"scattercarpet\":[{\"type\":\"scattercarpet\",\"marker\":{\"colorbar\":{\"outlinewidth\":0,\"ticks\":\"\"}}}],\"carpet\":[{\"aaxis\":{\"endlinecolor\":\"#2a3f5f\",\"gridcolor\":\"white\",\"linecolor\":\"white\",\"minorgridcolor\":\"white\",\"startlinecolor\":\"#2a3f5f\"},\"baxis\":{\"endlinecolor\":\"#2a3f5f\",\"gridcolor\":\"white\",\"linecolor\":\"white\",\"minorgridcolor\":\"white\",\"startlinecolor\":\"#2a3f5f\"},\"type\":\"carpet\"}],\"table\":[{\"cells\":{\"fill\":{\"color\":\"#EBF0F8\"},\"line\":{\"color\":\"white\"}},\"header\":{\"fill\":{\"color\":\"#C8D4E3\"},\"line\":{\"color\":\"white\"}},\"type\":\"table\"}],\"barpolar\":[{\"marker\":{\"line\":{\"color\":\"#E5ECF6\",\"width\":0.5},\"pattern\":{\"fillmode\":\"overlay\",\"size\":10,\"solidity\":0.2}},\"type\":\"barpolar\"}],\"pie\":[{\"automargin\":true,\"type\":\"pie\"}]},\"layout\":{\"autotypenumbers\":\"strict\",\"colorway\":[\"#636efa\",\"#EF553B\",\"#00cc96\",\"#ab63fa\",\"#FFA15A\",\"#19d3f3\",\"#FF6692\",\"#B6E880\",\"#FF97FF\",\"#FECB52\"],\"font\":{\"color\":\"#2a3f5f\"},\"hovermode\":\"closest\",\"hoverlabel\":{\"align\":\"left\"},\"paper_bgcolor\":\"white\",\"plot_bgcolor\":\"#E5ECF6\",\"polar\":{\"bgcolor\":\"#E5ECF6\",\"angularaxis\":{\"gridcolor\":\"white\",\"linecolor\":\"white\",\"ticks\":\"\"},\"radialaxis\":{\"gridcolor\":\"white\",\"linecolor\":\"white\",\"ticks\":\"\"}},\"ternary\":{\"bgcolor\":\"#E5ECF6\",\"aaxis\":{\"gridcolor\":\"white\",\"linecolor\":\"white\",\"ticks\":\"\"},\"baxis\":{\"gridcolor\":\"white\",\"linecolor\":\"white\",\"ticks\":\"\"},\"caxis\":{\"gridcolor\":\"white\",\"linecolor\":\"white\",\"ticks\":\"\"}},\"coloraxis\":{\"colorbar\":{\"outlinewidth\":0,\"ticks\":\"\"}},\"colorscale\":{\"sequential\":[[0.0,\"#0d0887\"],[0.1111111111111111,\"#46039f\"],[0.2222222222222222,\"#7201a8\"],[0.3333333333333333,\"#9c179e\"],[0.4444444444444444,\"#bd3786\"],[0.5555555555555556,\"#d8576b\"],[0.6666666666666666,\"#ed7953\"],[0.7777777777777778,\"#fb9f3a\"],[0.8888888888888888,\"#fdca26\"],[1.0,\"#f0f921\"]],\"sequentialminus\":[[0.0,\"#0d0887\"],[0.1111111111111111,\"#46039f\"],[0.2222222222222222,\"#7201a8\"],[0.3333333333333333,\"#9c179e\"],[0.4444444444444444,\"#bd3786\"],[0.5555555555555556,\"#d8576b\"],[0.6666666666666666,\"#ed7953\"],[0.7777777777777778,\"#fb9f3a\"],[0.8888888888888888,\"#fdca26\"],[1.0,\"#f0f921\"]],\"diverging\":[[0,\"#8e0152\"],[0.1,\"#c51b7d\"],[0.2,\"#de77ae\"],[0.3,\"#f1b6da\"],[0.4,\"#fde0ef\"],[0.5,\"#f7f7f7\"],[0.6,\"#e6f5d0\"],[0.7,\"#b8e186\"],[0.8,\"#7fbc41\"],[0.9,\"#4d9221\"],[1,\"#276419\"]]},\"xaxis\":{\"gridcolor\":\"white\",\"linecolor\":\"white\",\"ticks\":\"\",\"title\":{\"standoff\":15},\"zerolinecolor\":\"white\",\"automargin\":true,\"zerolinewidth\":2},\"yaxis\":{\"gridcolor\":\"white\",\"linecolor\":\"white\",\"ticks\":\"\",\"title\":{\"standoff\":15},\"zerolinecolor\":\"white\",\"automargin\":true,\"zerolinewidth\":2},\"scene\":{\"xaxis\":{\"backgroundcolor\":\"#E5ECF6\",\"gridcolor\":\"white\",\"linecolor\":\"white\",\"showbackground\":true,\"ticks\":\"\",\"zerolinecolor\":\"white\",\"gridwidth\":2},\"yaxis\":{\"backgroundcolor\":\"#E5ECF6\",\"gridcolor\":\"white\",\"linecolor\":\"white\",\"showbackground\":true,\"ticks\":\"\",\"zerolinecolor\":\"white\",\"gridwidth\":2},\"zaxis\":{\"backgroundcolor\":\"#E5ECF6\",\"gridcolor\":\"white\",\"linecolor\":\"white\",\"showbackground\":true,\"ticks\":\"\",\"zerolinecolor\":\"white\",\"gridwidth\":2}},\"shapedefaults\":{\"line\":{\"color\":\"#2a3f5f\"}},\"annotationdefaults\":{\"arrowcolor\":\"#2a3f5f\",\"arrowhead\":0,\"arrowwidth\":1},\"geo\":{\"bgcolor\":\"white\",\"landcolor\":\"#E5ECF6\",\"subunitcolor\":\"white\",\"showland\":true,\"showlakes\":true,\"lakecolor\":\"white\"},\"title\":{\"x\":0.05},\"mapbox\":{\"style\":\"light\"}}}},                        {\"responsive\": true}                    ).then(function(){\n",
       "                            \n",
       "var gd = document.getElementById('c96abfa5-4218-41eb-9cea-1e7bd94d7b37');\n",
       "var x = new MutationObserver(function (mutations, observer) {{\n",
       "        var display = window.getComputedStyle(gd).display;\n",
       "        if (!display || display === 'none') {{\n",
       "            console.log([gd, 'removed!']);\n",
       "            Plotly.purge(gd);\n",
       "            observer.disconnect();\n",
       "        }}\n",
       "}});\n",
       "\n",
       "// Listen for the removal of the full notebook cells\n",
       "var notebookContainer = gd.closest('#notebook-container');\n",
       "if (notebookContainer) {{\n",
       "    x.observe(notebookContainer, {childList: true});\n",
       "}}\n",
       "\n",
       "// Listen for the clearing of the current output cell\n",
       "var outputEl = gd.closest('.output');\n",
       "if (outputEl) {{\n",
       "    x.observe(outputEl, {childList: true});\n",
       "}}\n",
       "\n",
       "                        })                };                });            </script>        </div>"
      ]
     },
     "metadata": {},
     "output_type": "display_data"
    }
   ],
   "source": [
    "optuna.visualization.plot_intermediate_values(study)"
   ]
  },
  {
   "cell_type": "code",
   "execution_count": 36,
   "id": "f853e6db",
   "metadata": {
    "execution": {
     "iopub.execute_input": "2022-05-16T19:48:58.510423Z",
     "iopub.status.busy": "2022-05-16T19:48:58.510134Z",
     "iopub.status.idle": "2022-05-16T19:48:58.855579Z",
     "shell.execute_reply": "2022-05-16T19:48:58.854682Z"
    },
    "papermill": {
     "duration": 0.501394,
     "end_time": "2022-05-16T19:48:58.857794",
     "exception": false,
     "start_time": "2022-05-16T19:48:58.356400",
     "status": "completed"
    },
    "tags": []
   },
   "outputs": [
    {
     "data": {
      "text/html": [
       "<div>                            <div id=\"c7358383-6b8e-4634-84db-68171f693d96\" class=\"plotly-graph-div\" style=\"height:525px; width:2100px;\"></div>            <script type=\"text/javascript\">                require([\"plotly\"], function(Plotly) {                    window.PLOTLYENV=window.PLOTLYENV || {};                                    if (document.getElementById(\"c7358383-6b8e-4634-84db-68171f693d96\")) {                    Plotly.newPlot(                        \"c7358383-6b8e-4634-84db-68171f693d96\",                        [{\"marker\":{\"color\":[0,1,3,6,11,12,15,16,20,25,28,29,32,33,35,45,46,48],\"colorbar\":{\"title\":{\"text\":\"#Trials\"},\"x\":1.0,\"xpad\":40},\"colorscale\":[[0.0,\"rgb(247,251,255)\"],[0.125,\"rgb(222,235,247)\"],[0.25,\"rgb(198,219,239)\"],[0.375,\"rgb(158,202,225)\"],[0.5,\"rgb(107,174,214)\"],[0.625,\"rgb(66,146,198)\"],[0.75,\"rgb(33,113,181)\"],[0.875,\"rgb(8,81,156)\"],[1.0,\"rgb(8,48,107)\"]],\"line\":{\"color\":\"Grey\",\"width\":0.5},\"showscale\":true},\"mode\":\"markers\",\"showlegend\":false,\"x\":[\"relu\",\"tanh\",\"relu\",\"tanh\",\"tanh\",\"relu\",\"tanh\",\"relu\",\"relu\",\"tanh\",\"relu\",\"relu\",\"relu\",\"tanh\",\"tanh\",\"relu\",\"relu\",\"tanh\"],\"y\":[0.2310533970594406,0.15886089205741882,0.1588219851255417,0.11065637320280075,0.10257270932197571,0.3156932294368744,0.06837018579244614,0.06029175966978073,0.15292717516422272,0.07796576619148254,0.5187405943870544,0.2795241177082062,0.11167782545089722,0.052251655608415604,0.08993438631296158,1.2158501148223877,0.07467851787805557,0.06204172596335411],\"type\":\"scatter\",\"xaxis\":\"x\",\"yaxis\":\"y\"},{\"marker\":{\"color\":[0,1,3,6,11,12,15,16,20,25,28,29,32,33,35,45,46,48],\"colorbar\":{\"title\":{\"text\":\"#Trials\"},\"x\":1.0,\"xpad\":40},\"colorscale\":[[0.0,\"rgb(247,251,255)\"],[0.125,\"rgb(222,235,247)\"],[0.25,\"rgb(198,219,239)\"],[0.375,\"rgb(158,202,225)\"],[0.5,\"rgb(107,174,214)\"],[0.625,\"rgb(66,146,198)\"],[0.75,\"rgb(33,113,181)\"],[0.875,\"rgb(8,81,156)\"],[1.0,\"rgb(8,48,107)\"]],\"line\":{\"color\":\"Grey\",\"width\":0.5},\"showscale\":false},\"mode\":\"markers\",\"showlegend\":false,\"x\":[64,16,128,128,8,16,8,16,32,16,8,16,8,8,8,64,32,8],\"y\":[0.2310533970594406,0.15886089205741882,0.1588219851255417,0.11065637320280075,0.10257270932197571,0.3156932294368744,0.06837018579244614,0.06029175966978073,0.15292717516422272,0.07796576619148254,0.5187405943870544,0.2795241177082062,0.11167782545089722,0.052251655608415604,0.08993438631296158,1.2158501148223877,0.07467851787805557,0.06204172596335411],\"type\":\"scatter\",\"xaxis\":\"x2\",\"yaxis\":\"y2\"},{\"marker\":{\"color\":[0,1,3,6,11,12,15,16,20,25,28,29,32,33,35,45,46,48],\"colorbar\":{\"title\":{\"text\":\"#Trials\"},\"x\":1.0,\"xpad\":40},\"colorscale\":[[0.0,\"rgb(247,251,255)\"],[0.125,\"rgb(222,235,247)\"],[0.25,\"rgb(198,219,239)\"],[0.375,\"rgb(158,202,225)\"],[0.5,\"rgb(107,174,214)\"],[0.625,\"rgb(66,146,198)\"],[0.75,\"rgb(33,113,181)\"],[0.875,\"rgb(8,81,156)\"],[1.0,\"rgb(8,48,107)\"]],\"line\":{\"color\":\"Grey\",\"width\":0.5},\"showscale\":false},\"mode\":\"markers\",\"showlegend\":false,\"x\":[0.2692663161273061,0.5388511299495055,0.471895313014674,0.31212135785817685,0.11826351163784186,0.47494202572696426,0.01269550410766035,0.08174489761354757,0.18720352521456005,0.28735994080743865,0.5627181225538813,0.42914115769973865,0.13151514149560223,0.05307541784615262,0.03921146255943279,0.5762709100572203,0.01255935771944501,0.00580488170957301],\"y\":[0.2310533970594406,0.15886089205741882,0.1588219851255417,0.11065637320280075,0.10257270932197571,0.3156932294368744,0.06837018579244614,0.06029175966978073,0.15292717516422272,0.07796576619148254,0.5187405943870544,0.2795241177082062,0.11167782545089722,0.052251655608415604,0.08993438631296158,1.2158501148223877,0.07467851787805557,0.06204172596335411],\"type\":\"scatter\",\"xaxis\":\"x3\",\"yaxis\":\"y3\"},{\"marker\":{\"color\":[0,1,3,6,11,12,15,16,20,25,28,29,32,33,35,45,46,48],\"colorbar\":{\"title\":{\"text\":\"#Trials\"},\"x\":1.0,\"xpad\":40},\"colorscale\":[[0.0,\"rgb(247,251,255)\"],[0.125,\"rgb(222,235,247)\"],[0.25,\"rgb(198,219,239)\"],[0.375,\"rgb(158,202,225)\"],[0.5,\"rgb(107,174,214)\"],[0.625,\"rgb(66,146,198)\"],[0.75,\"rgb(33,113,181)\"],[0.875,\"rgb(8,81,156)\"],[1.0,\"rgb(8,48,107)\"]],\"line\":{\"color\":\"Grey\",\"width\":0.5},\"showscale\":false},\"mode\":\"markers\",\"showlegend\":false,\"x\":[46,49,36,41,37,50,36,53,36,46,40,37,35,33,33,48,55,32],\"y\":[0.2310533970594406,0.15886089205741882,0.1588219851255417,0.11065637320280075,0.10257270932197571,0.3156932294368744,0.06837018579244614,0.06029175966978073,0.15292717516422272,0.07796576619148254,0.5187405943870544,0.2795241177082062,0.11167782545089722,0.052251655608415604,0.08993438631296158,1.2158501148223877,0.07467851787805557,0.06204172596335411],\"type\":\"scatter\",\"xaxis\":\"x4\",\"yaxis\":\"y4\"},{\"marker\":{\"color\":[0,1,3,6,11,12,15,16,20,25,28,29,32,33,35,45,46,48],\"colorbar\":{\"title\":{\"text\":\"#Trials\"},\"x\":1.0,\"xpad\":40},\"colorscale\":[[0.0,\"rgb(247,251,255)\"],[0.125,\"rgb(222,235,247)\"],[0.25,\"rgb(198,219,239)\"],[0.375,\"rgb(158,202,225)\"],[0.5,\"rgb(107,174,214)\"],[0.625,\"rgb(66,146,198)\"],[0.75,\"rgb(33,113,181)\"],[0.875,\"rgb(8,81,156)\"],[1.0,\"rgb(8,48,107)\"]],\"line\":{\"color\":\"Grey\",\"width\":0.5},\"showscale\":false},\"mode\":\"markers\",\"showlegend\":false,\"x\":[7,7,5,8,10,6,5,10,7,10,5,10,10,5,5,5,7,5],\"y\":[0.2310533970594406,0.15886089205741882,0.1588219851255417,0.11065637320280075,0.10257270932197571,0.3156932294368744,0.06837018579244614,0.06029175966978073,0.15292717516422272,0.07796576619148254,0.5187405943870544,0.2795241177082062,0.11167782545089722,0.052251655608415604,0.08993438631296158,1.2158501148223877,0.07467851787805557,0.06204172596335411],\"type\":\"scatter\",\"xaxis\":\"x5\",\"yaxis\":\"y5\"},{\"marker\":{\"color\":[0,1,3,6,11,12,15,16,20,25,28,29,32,33,35,45,46,48],\"colorbar\":{\"title\":{\"text\":\"#Trials\"},\"x\":1.0,\"xpad\":40},\"colorscale\":[[0.0,\"rgb(247,251,255)\"],[0.125,\"rgb(222,235,247)\"],[0.25,\"rgb(198,219,239)\"],[0.375,\"rgb(158,202,225)\"],[0.5,\"rgb(107,174,214)\"],[0.625,\"rgb(66,146,198)\"],[0.75,\"rgb(33,113,181)\"],[0.875,\"rgb(8,81,156)\"],[1.0,\"rgb(8,48,107)\"]],\"line\":{\"color\":\"Grey\",\"width\":0.5},\"showscale\":false},\"mode\":\"markers\",\"showlegend\":false,\"x\":[0.0007476932101597925,0.000023547616828563555,0.002838166505824001,0.00038891592168491945,0.00015379479242286898,0.0018870345574900798,0.0001105591595406431,0.0002970664105867037,0.00004868188118759008,0.0001666087082205797,0.0001237524089260334,0.0003775763815490538,0.0007182198729938805,0.0007484051291448835,0.0022992928852465927,0.007600113547768567,0.0007747831933099864,0.0009384999870003646],\"y\":[0.2310533970594406,0.15886089205741882,0.1588219851255417,0.11065637320280075,0.10257270932197571,0.3156932294368744,0.06837018579244614,0.06029175966978073,0.15292717516422272,0.07796576619148254,0.5187405943870544,0.2795241177082062,0.11167782545089722,0.052251655608415604,0.08993438631296158,1.2158501148223877,0.07467851787805557,0.06204172596335411],\"type\":\"scatter\",\"xaxis\":\"x6\",\"yaxis\":\"y6\"},{\"marker\":{\"color\":[0,1,3,6,11,12,15,16,20,25,28,29,32,33,35,45,46,48],\"colorbar\":{\"title\":{\"text\":\"#Trials\"},\"x\":1.0,\"xpad\":40},\"colorscale\":[[0.0,\"rgb(247,251,255)\"],[0.125,\"rgb(222,235,247)\"],[0.25,\"rgb(198,219,239)\"],[0.375,\"rgb(158,202,225)\"],[0.5,\"rgb(107,174,214)\"],[0.625,\"rgb(66,146,198)\"],[0.75,\"rgb(33,113,181)\"],[0.875,\"rgb(8,81,156)\"],[1.0,\"rgb(8,48,107)\"]],\"line\":{\"color\":\"Grey\",\"width\":0.5},\"showscale\":false},\"mode\":\"markers\",\"showlegend\":false,\"x\":[203,168,64,245,128,235,70,182,217,121,182,242,94,68,68,187,126,86],\"y\":[0.2310533970594406,0.15886089205741882,0.1588219851255417,0.11065637320280075,0.10257270932197571,0.3156932294368744,0.06837018579244614,0.06029175966978073,0.15292717516422272,0.07796576619148254,0.5187405943870544,0.2795241177082062,0.11167782545089722,0.052251655608415604,0.08993438631296158,1.2158501148223877,0.07467851787805557,0.06204172596335411],\"type\":\"scatter\",\"xaxis\":\"x7\",\"yaxis\":\"y7\"}],                        {\"template\":{\"data\":{\"histogram2dcontour\":[{\"type\":\"histogram2dcontour\",\"colorbar\":{\"outlinewidth\":0,\"ticks\":\"\"},\"colorscale\":[[0.0,\"#0d0887\"],[0.1111111111111111,\"#46039f\"],[0.2222222222222222,\"#7201a8\"],[0.3333333333333333,\"#9c179e\"],[0.4444444444444444,\"#bd3786\"],[0.5555555555555556,\"#d8576b\"],[0.6666666666666666,\"#ed7953\"],[0.7777777777777778,\"#fb9f3a\"],[0.8888888888888888,\"#fdca26\"],[1.0,\"#f0f921\"]]}],\"choropleth\":[{\"type\":\"choropleth\",\"colorbar\":{\"outlinewidth\":0,\"ticks\":\"\"}}],\"histogram2d\":[{\"type\":\"histogram2d\",\"colorbar\":{\"outlinewidth\":0,\"ticks\":\"\"},\"colorscale\":[[0.0,\"#0d0887\"],[0.1111111111111111,\"#46039f\"],[0.2222222222222222,\"#7201a8\"],[0.3333333333333333,\"#9c179e\"],[0.4444444444444444,\"#bd3786\"],[0.5555555555555556,\"#d8576b\"],[0.6666666666666666,\"#ed7953\"],[0.7777777777777778,\"#fb9f3a\"],[0.8888888888888888,\"#fdca26\"],[1.0,\"#f0f921\"]]}],\"heatmap\":[{\"type\":\"heatmap\",\"colorbar\":{\"outlinewidth\":0,\"ticks\":\"\"},\"colorscale\":[[0.0,\"#0d0887\"],[0.1111111111111111,\"#46039f\"],[0.2222222222222222,\"#7201a8\"],[0.3333333333333333,\"#9c179e\"],[0.4444444444444444,\"#bd3786\"],[0.5555555555555556,\"#d8576b\"],[0.6666666666666666,\"#ed7953\"],[0.7777777777777778,\"#fb9f3a\"],[0.8888888888888888,\"#fdca26\"],[1.0,\"#f0f921\"]]}],\"heatmapgl\":[{\"type\":\"heatmapgl\",\"colorbar\":{\"outlinewidth\":0,\"ticks\":\"\"},\"colorscale\":[[0.0,\"#0d0887\"],[0.1111111111111111,\"#46039f\"],[0.2222222222222222,\"#7201a8\"],[0.3333333333333333,\"#9c179e\"],[0.4444444444444444,\"#bd3786\"],[0.5555555555555556,\"#d8576b\"],[0.6666666666666666,\"#ed7953\"],[0.7777777777777778,\"#fb9f3a\"],[0.8888888888888888,\"#fdca26\"],[1.0,\"#f0f921\"]]}],\"contourcarpet\":[{\"type\":\"contourcarpet\",\"colorbar\":{\"outlinewidth\":0,\"ticks\":\"\"}}],\"contour\":[{\"type\":\"contour\",\"colorbar\":{\"outlinewidth\":0,\"ticks\":\"\"},\"colorscale\":[[0.0,\"#0d0887\"],[0.1111111111111111,\"#46039f\"],[0.2222222222222222,\"#7201a8\"],[0.3333333333333333,\"#9c179e\"],[0.4444444444444444,\"#bd3786\"],[0.5555555555555556,\"#d8576b\"],[0.6666666666666666,\"#ed7953\"],[0.7777777777777778,\"#fb9f3a\"],[0.8888888888888888,\"#fdca26\"],[1.0,\"#f0f921\"]]}],\"surface\":[{\"type\":\"surface\",\"colorbar\":{\"outlinewidth\":0,\"ticks\":\"\"},\"colorscale\":[[0.0,\"#0d0887\"],[0.1111111111111111,\"#46039f\"],[0.2222222222222222,\"#7201a8\"],[0.3333333333333333,\"#9c179e\"],[0.4444444444444444,\"#bd3786\"],[0.5555555555555556,\"#d8576b\"],[0.6666666666666666,\"#ed7953\"],[0.7777777777777778,\"#fb9f3a\"],[0.8888888888888888,\"#fdca26\"],[1.0,\"#f0f921\"]]}],\"mesh3d\":[{\"type\":\"mesh3d\",\"colorbar\":{\"outlinewidth\":0,\"ticks\":\"\"}}],\"scatter\":[{\"fillpattern\":{\"fillmode\":\"overlay\",\"size\":10,\"solidity\":0.2},\"type\":\"scatter\"}],\"parcoords\":[{\"type\":\"parcoords\",\"line\":{\"colorbar\":{\"outlinewidth\":0,\"ticks\":\"\"}}}],\"scatterpolargl\":[{\"type\":\"scatterpolargl\",\"marker\":{\"colorbar\":{\"outlinewidth\":0,\"ticks\":\"\"}}}],\"bar\":[{\"error_x\":{\"color\":\"#2a3f5f\"},\"error_y\":{\"color\":\"#2a3f5f\"},\"marker\":{\"line\":{\"color\":\"#E5ECF6\",\"width\":0.5},\"pattern\":{\"fillmode\":\"overlay\",\"size\":10,\"solidity\":0.2}},\"type\":\"bar\"}],\"scattergeo\":[{\"type\":\"scattergeo\",\"marker\":{\"colorbar\":{\"outlinewidth\":0,\"ticks\":\"\"}}}],\"scatterpolar\":[{\"type\":\"scatterpolar\",\"marker\":{\"colorbar\":{\"outlinewidth\":0,\"ticks\":\"\"}}}],\"histogram\":[{\"marker\":{\"pattern\":{\"fillmode\":\"overlay\",\"size\":10,\"solidity\":0.2}},\"type\":\"histogram\"}],\"scattergl\":[{\"type\":\"scattergl\",\"marker\":{\"colorbar\":{\"outlinewidth\":0,\"ticks\":\"\"}}}],\"scatter3d\":[{\"type\":\"scatter3d\",\"line\":{\"colorbar\":{\"outlinewidth\":0,\"ticks\":\"\"}},\"marker\":{\"colorbar\":{\"outlinewidth\":0,\"ticks\":\"\"}}}],\"scattermapbox\":[{\"type\":\"scattermapbox\",\"marker\":{\"colorbar\":{\"outlinewidth\":0,\"ticks\":\"\"}}}],\"scatterternary\":[{\"type\":\"scatterternary\",\"marker\":{\"colorbar\":{\"outlinewidth\":0,\"ticks\":\"\"}}}],\"scattercarpet\":[{\"type\":\"scattercarpet\",\"marker\":{\"colorbar\":{\"outlinewidth\":0,\"ticks\":\"\"}}}],\"carpet\":[{\"aaxis\":{\"endlinecolor\":\"#2a3f5f\",\"gridcolor\":\"white\",\"linecolor\":\"white\",\"minorgridcolor\":\"white\",\"startlinecolor\":\"#2a3f5f\"},\"baxis\":{\"endlinecolor\":\"#2a3f5f\",\"gridcolor\":\"white\",\"linecolor\":\"white\",\"minorgridcolor\":\"white\",\"startlinecolor\":\"#2a3f5f\"},\"type\":\"carpet\"}],\"table\":[{\"cells\":{\"fill\":{\"color\":\"#EBF0F8\"},\"line\":{\"color\":\"white\"}},\"header\":{\"fill\":{\"color\":\"#C8D4E3\"},\"line\":{\"color\":\"white\"}},\"type\":\"table\"}],\"barpolar\":[{\"marker\":{\"line\":{\"color\":\"#E5ECF6\",\"width\":0.5},\"pattern\":{\"fillmode\":\"overlay\",\"size\":10,\"solidity\":0.2}},\"type\":\"barpolar\"}],\"pie\":[{\"automargin\":true,\"type\":\"pie\"}]},\"layout\":{\"autotypenumbers\":\"strict\",\"colorway\":[\"#636efa\",\"#EF553B\",\"#00cc96\",\"#ab63fa\",\"#FFA15A\",\"#19d3f3\",\"#FF6692\",\"#B6E880\",\"#FF97FF\",\"#FECB52\"],\"font\":{\"color\":\"#2a3f5f\"},\"hovermode\":\"closest\",\"hoverlabel\":{\"align\":\"left\"},\"paper_bgcolor\":\"white\",\"plot_bgcolor\":\"#E5ECF6\",\"polar\":{\"bgcolor\":\"#E5ECF6\",\"angularaxis\":{\"gridcolor\":\"white\",\"linecolor\":\"white\",\"ticks\":\"\"},\"radialaxis\":{\"gridcolor\":\"white\",\"linecolor\":\"white\",\"ticks\":\"\"}},\"ternary\":{\"bgcolor\":\"#E5ECF6\",\"aaxis\":{\"gridcolor\":\"white\",\"linecolor\":\"white\",\"ticks\":\"\"},\"baxis\":{\"gridcolor\":\"white\",\"linecolor\":\"white\",\"ticks\":\"\"},\"caxis\":{\"gridcolor\":\"white\",\"linecolor\":\"white\",\"ticks\":\"\"}},\"coloraxis\":{\"colorbar\":{\"outlinewidth\":0,\"ticks\":\"\"}},\"colorscale\":{\"sequential\":[[0.0,\"#0d0887\"],[0.1111111111111111,\"#46039f\"],[0.2222222222222222,\"#7201a8\"],[0.3333333333333333,\"#9c179e\"],[0.4444444444444444,\"#bd3786\"],[0.5555555555555556,\"#d8576b\"],[0.6666666666666666,\"#ed7953\"],[0.7777777777777778,\"#fb9f3a\"],[0.8888888888888888,\"#fdca26\"],[1.0,\"#f0f921\"]],\"sequentialminus\":[[0.0,\"#0d0887\"],[0.1111111111111111,\"#46039f\"],[0.2222222222222222,\"#7201a8\"],[0.3333333333333333,\"#9c179e\"],[0.4444444444444444,\"#bd3786\"],[0.5555555555555556,\"#d8576b\"],[0.6666666666666666,\"#ed7953\"],[0.7777777777777778,\"#fb9f3a\"],[0.8888888888888888,\"#fdca26\"],[1.0,\"#f0f921\"]],\"diverging\":[[0,\"#8e0152\"],[0.1,\"#c51b7d\"],[0.2,\"#de77ae\"],[0.3,\"#f1b6da\"],[0.4,\"#fde0ef\"],[0.5,\"#f7f7f7\"],[0.6,\"#e6f5d0\"],[0.7,\"#b8e186\"],[0.8,\"#7fbc41\"],[0.9,\"#4d9221\"],[1,\"#276419\"]]},\"xaxis\":{\"gridcolor\":\"white\",\"linecolor\":\"white\",\"ticks\":\"\",\"title\":{\"standoff\":15},\"zerolinecolor\":\"white\",\"automargin\":true,\"zerolinewidth\":2},\"yaxis\":{\"gridcolor\":\"white\",\"linecolor\":\"white\",\"ticks\":\"\",\"title\":{\"standoff\":15},\"zerolinecolor\":\"white\",\"automargin\":true,\"zerolinewidth\":2},\"scene\":{\"xaxis\":{\"backgroundcolor\":\"#E5ECF6\",\"gridcolor\":\"white\",\"linecolor\":\"white\",\"showbackground\":true,\"ticks\":\"\",\"zerolinecolor\":\"white\",\"gridwidth\":2},\"yaxis\":{\"backgroundcolor\":\"#E5ECF6\",\"gridcolor\":\"white\",\"linecolor\":\"white\",\"showbackground\":true,\"ticks\":\"\",\"zerolinecolor\":\"white\",\"gridwidth\":2},\"zaxis\":{\"backgroundcolor\":\"#E5ECF6\",\"gridcolor\":\"white\",\"linecolor\":\"white\",\"showbackground\":true,\"ticks\":\"\",\"zerolinecolor\":\"white\",\"gridwidth\":2}},\"shapedefaults\":{\"line\":{\"color\":\"#2a3f5f\"}},\"annotationdefaults\":{\"arrowcolor\":\"#2a3f5f\",\"arrowhead\":0,\"arrowwidth\":1},\"geo\":{\"bgcolor\":\"white\",\"landcolor\":\"#E5ECF6\",\"subunitcolor\":\"white\",\"showland\":true,\"showlakes\":true,\"lakecolor\":\"white\"},\"title\":{\"x\":0.05},\"mapbox\":{\"style\":\"light\"}}},\"xaxis\":{\"anchor\":\"y\",\"domain\":[0.0,0.1183673469387755],\"title\":{\"text\":\"act\"}},\"yaxis\":{\"anchor\":\"x\",\"domain\":[0.0,1.0],\"title\":{\"text\":\"Objective Value\"}},\"xaxis2\":{\"anchor\":\"y2\",\"domain\":[0.14693877551020407,0.26530612244897955],\"title\":{\"text\":\"batch\"}},\"yaxis2\":{\"anchor\":\"x2\",\"domain\":[0.0,1.0],\"matches\":\"y\",\"showticklabels\":false},\"xaxis3\":{\"anchor\":\"y3\",\"domain\":[0.29387755102040813,0.4122448979591836],\"title\":{\"text\":\"drp\"}},\"yaxis3\":{\"anchor\":\"x3\",\"domain\":[0.0,1.0],\"matches\":\"y\",\"showticklabels\":false},\"xaxis4\":{\"anchor\":\"y4\",\"domain\":[0.4408163265306122,0.5591836734693877],\"title\":{\"text\":\"epoch\"}},\"yaxis4\":{\"anchor\":\"x4\",\"domain\":[0.0,1.0],\"matches\":\"y\",\"showticklabels\":false},\"xaxis5\":{\"anchor\":\"y5\",\"domain\":[0.5877551020408163,0.7061224489795918],\"title\":{\"text\":\"layers\"}},\"yaxis5\":{\"anchor\":\"x5\",\"domain\":[0.0,1.0],\"matches\":\"y\",\"showticklabels\":false},\"xaxis6\":{\"anchor\":\"y6\",\"domain\":[0.7346938775510204,0.8530612244897959],\"title\":{\"text\":\"lr\"},\"type\":\"log\"},\"yaxis6\":{\"anchor\":\"x6\",\"domain\":[0.0,1.0],\"matches\":\"y\",\"showticklabels\":false},\"xaxis7\":{\"anchor\":\"y7\",\"domain\":[0.8816326530612244,0.9999999999999999],\"title\":{\"text\":\"units\"}},\"yaxis7\":{\"anchor\":\"x7\",\"domain\":[0.0,1.0],\"matches\":\"y\",\"showticklabels\":false},\"title\":{\"text\":\"Slice Plot\"},\"width\":2100},                        {\"responsive\": true}                    ).then(function(){\n",
       "                            \n",
       "var gd = document.getElementById('c7358383-6b8e-4634-84db-68171f693d96');\n",
       "var x = new MutationObserver(function (mutations, observer) {{\n",
       "        var display = window.getComputedStyle(gd).display;\n",
       "        if (!display || display === 'none') {{\n",
       "            console.log([gd, 'removed!']);\n",
       "            Plotly.purge(gd);\n",
       "            observer.disconnect();\n",
       "        }}\n",
       "}});\n",
       "\n",
       "// Listen for the removal of the full notebook cells\n",
       "var notebookContainer = gd.closest('#notebook-container');\n",
       "if (notebookContainer) {{\n",
       "    x.observe(notebookContainer, {childList: true});\n",
       "}}\n",
       "\n",
       "// Listen for the clearing of the current output cell\n",
       "var outputEl = gd.closest('.output');\n",
       "if (outputEl) {{\n",
       "    x.observe(outputEl, {childList: true});\n",
       "}}\n",
       "\n",
       "                        })                };                });            </script>        </div>"
      ]
     },
     "metadata": {},
     "output_type": "display_data"
    }
   ],
   "source": [
    "optuna.visualization.plot_slice(study)"
   ]
  },
  {
   "cell_type": "code",
   "execution_count": 37,
   "id": "0e413e15",
   "metadata": {
    "execution": {
     "iopub.execute_input": "2022-05-16T19:48:59.160904Z",
     "iopub.status.busy": "2022-05-16T19:48:59.160575Z",
     "iopub.status.idle": "2022-05-16T19:48:59.238786Z",
     "shell.execute_reply": "2022-05-16T19:48:59.237922Z"
    },
    "papermill": {
     "duration": 0.231514,
     "end_time": "2022-05-16T19:48:59.240951",
     "exception": false,
     "start_time": "2022-05-16T19:48:59.009437",
     "status": "completed"
    },
    "tags": []
   },
   "outputs": [
    {
     "data": {
      "text/html": [
       "<div>                            <div id=\"e62463b9-d1f5-4cb1-b940-5684bc8499e3\" class=\"plotly-graph-div\" style=\"height:525px; width:100%;\"></div>            <script type=\"text/javascript\">                require([\"plotly\"], function(Plotly) {                    window.PLOTLYENV=window.PLOTLYENV || {};                                    if (document.getElementById(\"e62463b9-d1f5-4cb1-b940-5684bc8499e3\")) {                    Plotly.newPlot(                        \"e62463b9-d1f5-4cb1-b940-5684bc8499e3\",                        [{\"dimensions\":[{\"label\":\"Objective Value\",\"range\":[0.052251655608415604,1.2158501148223877],\"values\":[0.10257270932197571,0.06837018579244614,0.5187405943870544,0.11167782545089722,0.052251655608415604,0.08993438631296158,0.06204172596335411,0.15886089205741882,0.3156932294368744,0.06029175966978073,0.07796576619148254,0.2795241177082062,0.15292717516422272,0.07467851787805557,0.2310533970594406,1.2158501148223877,0.1588219851255417,0.11065637320280075]},{\"label\":\"act\",\"range\":[0,1],\"ticktext\":[\"relu\",\"tanh\"],\"tickvals\":[0,1],\"values\":[1,1,0,0,1,1,1,1,0,0,1,0,0,0,0,0,0,1]},{\"label\":\"batch\",\"range\":[0,4],\"ticktext\":[8,16,32,64,128],\"tickvals\":[0,1,2,3,4],\"values\":[0,0,0,0,0,0,0,1,1,1,1,1,2,2,3,3,4,4]},{\"label\":\"drp\",\"range\":[0.00580488170957301,0.5762709100572203],\"values\":[0.11826351163784186,0.01269550410766035,0.5627181225538813,0.13151514149560223,0.05307541784615262,0.03921146255943279,0.00580488170957301,0.5388511299495055,0.47494202572696426,0.08174489761354757,0.28735994080743865,0.42914115769973865,0.18720352521456005,0.01255935771944501,0.2692663161273061,0.5762709100572203,0.471895313014674,0.31212135785817685]},{\"label\":\"epoch\",\"range\":[32,55],\"values\":[37,36,40,35,33,33,32,49,50,53,46,37,36,55,46,48,36,41]},{\"label\":\"layers\",\"range\":[5,10],\"values\":[10,5,5,10,5,5,5,7,6,10,10,10,7,7,7,5,5,8]},{\"label\":\"lr\",\"range\":[-4.6280530397273045,-2.119179919192769],\"ticktext\":[\"2.35e-05\",\"0.0001\",\"0.001\",\"0.0076\"],\"tickvals\":[-4.6280530397273045,-4,-3,-2.119179919192769],\"values\":[-3.813058369738109,-3.956405271419301,-3.9074463384703435,-3.143742582206082,-3.125863244753419,-2.6384057045268166,-3.0275657290582663,-4.6280530397273045,-2.7242201464753304,-3.527146451264435,-3.7783023028493563,-3.4229951798499316,-4.3126326479110695,-3.1108198086187726,-3.126276563185772,-2.119179919192769,-2.5469621295130205,-3.4101442770676034]},{\"label\":\"units\",\"range\":[64,245],\"values\":[128,70,182,94,68,68,86,168,235,182,121,242,217,126,203,187,64,245]}],\"labelangle\":30,\"labelside\":\"bottom\",\"line\":{\"color\":[0.10257270932197571,0.06837018579244614,0.5187405943870544,0.11167782545089722,0.052251655608415604,0.08993438631296158,0.06204172596335411,0.15886089205741882,0.3156932294368744,0.06029175966978073,0.07796576619148254,0.2795241177082062,0.15292717516422272,0.07467851787805557,0.2310533970594406,1.2158501148223877,0.1588219851255417,0.11065637320280075],\"colorbar\":{\"title\":{\"text\":\"Objective Value\"}},\"colorscale\":[[0.0,\"rgb(247,251,255)\"],[0.125,\"rgb(222,235,247)\"],[0.25,\"rgb(198,219,239)\"],[0.375,\"rgb(158,202,225)\"],[0.5,\"rgb(107,174,214)\"],[0.625,\"rgb(66,146,198)\"],[0.75,\"rgb(33,113,181)\"],[0.875,\"rgb(8,81,156)\"],[1.0,\"rgb(8,48,107)\"]],\"reversescale\":true,\"showscale\":true},\"type\":\"parcoords\"}],                        {\"title\":{\"text\":\"Parallel Coordinate Plot\"},\"template\":{\"data\":{\"histogram2dcontour\":[{\"type\":\"histogram2dcontour\",\"colorbar\":{\"outlinewidth\":0,\"ticks\":\"\"},\"colorscale\":[[0.0,\"#0d0887\"],[0.1111111111111111,\"#46039f\"],[0.2222222222222222,\"#7201a8\"],[0.3333333333333333,\"#9c179e\"],[0.4444444444444444,\"#bd3786\"],[0.5555555555555556,\"#d8576b\"],[0.6666666666666666,\"#ed7953\"],[0.7777777777777778,\"#fb9f3a\"],[0.8888888888888888,\"#fdca26\"],[1.0,\"#f0f921\"]]}],\"choropleth\":[{\"type\":\"choropleth\",\"colorbar\":{\"outlinewidth\":0,\"ticks\":\"\"}}],\"histogram2d\":[{\"type\":\"histogram2d\",\"colorbar\":{\"outlinewidth\":0,\"ticks\":\"\"},\"colorscale\":[[0.0,\"#0d0887\"],[0.1111111111111111,\"#46039f\"],[0.2222222222222222,\"#7201a8\"],[0.3333333333333333,\"#9c179e\"],[0.4444444444444444,\"#bd3786\"],[0.5555555555555556,\"#d8576b\"],[0.6666666666666666,\"#ed7953\"],[0.7777777777777778,\"#fb9f3a\"],[0.8888888888888888,\"#fdca26\"],[1.0,\"#f0f921\"]]}],\"heatmap\":[{\"type\":\"heatmap\",\"colorbar\":{\"outlinewidth\":0,\"ticks\":\"\"},\"colorscale\":[[0.0,\"#0d0887\"],[0.1111111111111111,\"#46039f\"],[0.2222222222222222,\"#7201a8\"],[0.3333333333333333,\"#9c179e\"],[0.4444444444444444,\"#bd3786\"],[0.5555555555555556,\"#d8576b\"],[0.6666666666666666,\"#ed7953\"],[0.7777777777777778,\"#fb9f3a\"],[0.8888888888888888,\"#fdca26\"],[1.0,\"#f0f921\"]]}],\"heatmapgl\":[{\"type\":\"heatmapgl\",\"colorbar\":{\"outlinewidth\":0,\"ticks\":\"\"},\"colorscale\":[[0.0,\"#0d0887\"],[0.1111111111111111,\"#46039f\"],[0.2222222222222222,\"#7201a8\"],[0.3333333333333333,\"#9c179e\"],[0.4444444444444444,\"#bd3786\"],[0.5555555555555556,\"#d8576b\"],[0.6666666666666666,\"#ed7953\"],[0.7777777777777778,\"#fb9f3a\"],[0.8888888888888888,\"#fdca26\"],[1.0,\"#f0f921\"]]}],\"contourcarpet\":[{\"type\":\"contourcarpet\",\"colorbar\":{\"outlinewidth\":0,\"ticks\":\"\"}}],\"contour\":[{\"type\":\"contour\",\"colorbar\":{\"outlinewidth\":0,\"ticks\":\"\"},\"colorscale\":[[0.0,\"#0d0887\"],[0.1111111111111111,\"#46039f\"],[0.2222222222222222,\"#7201a8\"],[0.3333333333333333,\"#9c179e\"],[0.4444444444444444,\"#bd3786\"],[0.5555555555555556,\"#d8576b\"],[0.6666666666666666,\"#ed7953\"],[0.7777777777777778,\"#fb9f3a\"],[0.8888888888888888,\"#fdca26\"],[1.0,\"#f0f921\"]]}],\"surface\":[{\"type\":\"surface\",\"colorbar\":{\"outlinewidth\":0,\"ticks\":\"\"},\"colorscale\":[[0.0,\"#0d0887\"],[0.1111111111111111,\"#46039f\"],[0.2222222222222222,\"#7201a8\"],[0.3333333333333333,\"#9c179e\"],[0.4444444444444444,\"#bd3786\"],[0.5555555555555556,\"#d8576b\"],[0.6666666666666666,\"#ed7953\"],[0.7777777777777778,\"#fb9f3a\"],[0.8888888888888888,\"#fdca26\"],[1.0,\"#f0f921\"]]}],\"mesh3d\":[{\"type\":\"mesh3d\",\"colorbar\":{\"outlinewidth\":0,\"ticks\":\"\"}}],\"scatter\":[{\"fillpattern\":{\"fillmode\":\"overlay\",\"size\":10,\"solidity\":0.2},\"type\":\"scatter\"}],\"parcoords\":[{\"type\":\"parcoords\",\"line\":{\"colorbar\":{\"outlinewidth\":0,\"ticks\":\"\"}}}],\"scatterpolargl\":[{\"type\":\"scatterpolargl\",\"marker\":{\"colorbar\":{\"outlinewidth\":0,\"ticks\":\"\"}}}],\"bar\":[{\"error_x\":{\"color\":\"#2a3f5f\"},\"error_y\":{\"color\":\"#2a3f5f\"},\"marker\":{\"line\":{\"color\":\"#E5ECF6\",\"width\":0.5},\"pattern\":{\"fillmode\":\"overlay\",\"size\":10,\"solidity\":0.2}},\"type\":\"bar\"}],\"scattergeo\":[{\"type\":\"scattergeo\",\"marker\":{\"colorbar\":{\"outlinewidth\":0,\"ticks\":\"\"}}}],\"scatterpolar\":[{\"type\":\"scatterpolar\",\"marker\":{\"colorbar\":{\"outlinewidth\":0,\"ticks\":\"\"}}}],\"histogram\":[{\"marker\":{\"pattern\":{\"fillmode\":\"overlay\",\"size\":10,\"solidity\":0.2}},\"type\":\"histogram\"}],\"scattergl\":[{\"type\":\"scattergl\",\"marker\":{\"colorbar\":{\"outlinewidth\":0,\"ticks\":\"\"}}}],\"scatter3d\":[{\"type\":\"scatter3d\",\"line\":{\"colorbar\":{\"outlinewidth\":0,\"ticks\":\"\"}},\"marker\":{\"colorbar\":{\"outlinewidth\":0,\"ticks\":\"\"}}}],\"scattermapbox\":[{\"type\":\"scattermapbox\",\"marker\":{\"colorbar\":{\"outlinewidth\":0,\"ticks\":\"\"}}}],\"scatterternary\":[{\"type\":\"scatterternary\",\"marker\":{\"colorbar\":{\"outlinewidth\":0,\"ticks\":\"\"}}}],\"scattercarpet\":[{\"type\":\"scattercarpet\",\"marker\":{\"colorbar\":{\"outlinewidth\":0,\"ticks\":\"\"}}}],\"carpet\":[{\"aaxis\":{\"endlinecolor\":\"#2a3f5f\",\"gridcolor\":\"white\",\"linecolor\":\"white\",\"minorgridcolor\":\"white\",\"startlinecolor\":\"#2a3f5f\"},\"baxis\":{\"endlinecolor\":\"#2a3f5f\",\"gridcolor\":\"white\",\"linecolor\":\"white\",\"minorgridcolor\":\"white\",\"startlinecolor\":\"#2a3f5f\"},\"type\":\"carpet\"}],\"table\":[{\"cells\":{\"fill\":{\"color\":\"#EBF0F8\"},\"line\":{\"color\":\"white\"}},\"header\":{\"fill\":{\"color\":\"#C8D4E3\"},\"line\":{\"color\":\"white\"}},\"type\":\"table\"}],\"barpolar\":[{\"marker\":{\"line\":{\"color\":\"#E5ECF6\",\"width\":0.5},\"pattern\":{\"fillmode\":\"overlay\",\"size\":10,\"solidity\":0.2}},\"type\":\"barpolar\"}],\"pie\":[{\"automargin\":true,\"type\":\"pie\"}]},\"layout\":{\"autotypenumbers\":\"strict\",\"colorway\":[\"#636efa\",\"#EF553B\",\"#00cc96\",\"#ab63fa\",\"#FFA15A\",\"#19d3f3\",\"#FF6692\",\"#B6E880\",\"#FF97FF\",\"#FECB52\"],\"font\":{\"color\":\"#2a3f5f\"},\"hovermode\":\"closest\",\"hoverlabel\":{\"align\":\"left\"},\"paper_bgcolor\":\"white\",\"plot_bgcolor\":\"#E5ECF6\",\"polar\":{\"bgcolor\":\"#E5ECF6\",\"angularaxis\":{\"gridcolor\":\"white\",\"linecolor\":\"white\",\"ticks\":\"\"},\"radialaxis\":{\"gridcolor\":\"white\",\"linecolor\":\"white\",\"ticks\":\"\"}},\"ternary\":{\"bgcolor\":\"#E5ECF6\",\"aaxis\":{\"gridcolor\":\"white\",\"linecolor\":\"white\",\"ticks\":\"\"},\"baxis\":{\"gridcolor\":\"white\",\"linecolor\":\"white\",\"ticks\":\"\"},\"caxis\":{\"gridcolor\":\"white\",\"linecolor\":\"white\",\"ticks\":\"\"}},\"coloraxis\":{\"colorbar\":{\"outlinewidth\":0,\"ticks\":\"\"}},\"colorscale\":{\"sequential\":[[0.0,\"#0d0887\"],[0.1111111111111111,\"#46039f\"],[0.2222222222222222,\"#7201a8\"],[0.3333333333333333,\"#9c179e\"],[0.4444444444444444,\"#bd3786\"],[0.5555555555555556,\"#d8576b\"],[0.6666666666666666,\"#ed7953\"],[0.7777777777777778,\"#fb9f3a\"],[0.8888888888888888,\"#fdca26\"],[1.0,\"#f0f921\"]],\"sequentialminus\":[[0.0,\"#0d0887\"],[0.1111111111111111,\"#46039f\"],[0.2222222222222222,\"#7201a8\"],[0.3333333333333333,\"#9c179e\"],[0.4444444444444444,\"#bd3786\"],[0.5555555555555556,\"#d8576b\"],[0.6666666666666666,\"#ed7953\"],[0.7777777777777778,\"#fb9f3a\"],[0.8888888888888888,\"#fdca26\"],[1.0,\"#f0f921\"]],\"diverging\":[[0,\"#8e0152\"],[0.1,\"#c51b7d\"],[0.2,\"#de77ae\"],[0.3,\"#f1b6da\"],[0.4,\"#fde0ef\"],[0.5,\"#f7f7f7\"],[0.6,\"#e6f5d0\"],[0.7,\"#b8e186\"],[0.8,\"#7fbc41\"],[0.9,\"#4d9221\"],[1,\"#276419\"]]},\"xaxis\":{\"gridcolor\":\"white\",\"linecolor\":\"white\",\"ticks\":\"\",\"title\":{\"standoff\":15},\"zerolinecolor\":\"white\",\"automargin\":true,\"zerolinewidth\":2},\"yaxis\":{\"gridcolor\":\"white\",\"linecolor\":\"white\",\"ticks\":\"\",\"title\":{\"standoff\":15},\"zerolinecolor\":\"white\",\"automargin\":true,\"zerolinewidth\":2},\"scene\":{\"xaxis\":{\"backgroundcolor\":\"#E5ECF6\",\"gridcolor\":\"white\",\"linecolor\":\"white\",\"showbackground\":true,\"ticks\":\"\",\"zerolinecolor\":\"white\",\"gridwidth\":2},\"yaxis\":{\"backgroundcolor\":\"#E5ECF6\",\"gridcolor\":\"white\",\"linecolor\":\"white\",\"showbackground\":true,\"ticks\":\"\",\"zerolinecolor\":\"white\",\"gridwidth\":2},\"zaxis\":{\"backgroundcolor\":\"#E5ECF6\",\"gridcolor\":\"white\",\"linecolor\":\"white\",\"showbackground\":true,\"ticks\":\"\",\"zerolinecolor\":\"white\",\"gridwidth\":2}},\"shapedefaults\":{\"line\":{\"color\":\"#2a3f5f\"}},\"annotationdefaults\":{\"arrowcolor\":\"#2a3f5f\",\"arrowhead\":0,\"arrowwidth\":1},\"geo\":{\"bgcolor\":\"white\",\"landcolor\":\"#E5ECF6\",\"subunitcolor\":\"white\",\"showland\":true,\"showlakes\":true,\"lakecolor\":\"white\"},\"title\":{\"x\":0.05},\"mapbox\":{\"style\":\"light\"}}}},                        {\"responsive\": true}                    ).then(function(){\n",
       "                            \n",
       "var gd = document.getElementById('e62463b9-d1f5-4cb1-b940-5684bc8499e3');\n",
       "var x = new MutationObserver(function (mutations, observer) {{\n",
       "        var display = window.getComputedStyle(gd).display;\n",
       "        if (!display || display === 'none') {{\n",
       "            console.log([gd, 'removed!']);\n",
       "            Plotly.purge(gd);\n",
       "            observer.disconnect();\n",
       "        }}\n",
       "}});\n",
       "\n",
       "// Listen for the removal of the full notebook cells\n",
       "var notebookContainer = gd.closest('#notebook-container');\n",
       "if (notebookContainer) {{\n",
       "    x.observe(notebookContainer, {childList: true});\n",
       "}}\n",
       "\n",
       "// Listen for the clearing of the current output cell\n",
       "var outputEl = gd.closest('.output');\n",
       "if (outputEl) {{\n",
       "    x.observe(outputEl, {childList: true});\n",
       "}}\n",
       "\n",
       "                        })                };                });            </script>        </div>"
      ]
     },
     "metadata": {},
     "output_type": "display_data"
    }
   ],
   "source": [
    "optuna.visualization.plot_parallel_coordinate(study)"
   ]
  },
  {
   "cell_type": "code",
   "execution_count": 38,
   "id": "844e3121",
   "metadata": {
    "execution": {
     "iopub.execute_input": "2022-05-16T19:48:59.580016Z",
     "iopub.status.busy": "2022-05-16T19:48:59.579102Z",
     "iopub.status.idle": "2022-05-16T19:49:03.323405Z",
     "shell.execute_reply": "2022-05-16T19:49:03.321199Z"
    },
    "papermill": {
     "duration": 3.923636,
     "end_time": "2022-05-16T19:49:03.325942",
     "exception": false,
     "start_time": "2022-05-16T19:48:59.402306",
     "status": "completed"
    },
    "tags": []
   },
   "outputs": [
    {
     "name": "stdout",
     "output_type": "stream",
     "text": [
      "0.0045591965\n"
     ]
    },
    {
     "data": {
      "image/png": "[encoded data removed]",
      "text/plain": [
       "<Figure size 936x504 with 1 Axes>"
      ]
     },
     "metadata": {},
     "output_type": "display_data"
    }
   ],
   "source": [
    "plot_res(model = best_model,ipx=ipt,opx=opt,scaled = False)"
   ]
  },
  {
   "cell_type": "code",
   "execution_count": 39,
   "id": "8a893bbe",
   "metadata": {
    "execution": {
     "iopub.execute_input": "2022-05-16T19:49:03.635491Z",
     "iopub.status.busy": "2022-05-16T19:49:03.634941Z",
     "iopub.status.idle": "2022-05-16T19:49:11.566677Z",
     "shell.execute_reply": "2022-05-16T19:49:11.565812Z"
    },
    "papermill": {
     "duration": 8.087834,
     "end_time": "2022-05-16T19:49:11.568760",
     "exception": false,
     "start_time": "2022-05-16T19:49:03.480926",
     "status": "completed"
    },
    "tags": []
   },
   "outputs": [
    {
     "name": "stdout",
     "output_type": "stream",
     "text": [
      "ONGC\n"
     ]
    },
    {
     "name": "stderr",
     "output_type": "stream",
     "text": [
      "100%|██████████| 2591/2591 [00:03<00:00, 745.88it/s]\n"
     ]
    },
    {
     "name": "stdout",
     "output_type": "stream",
     "text": [
      "(2591, 7, 5) (2591, 1)\n",
      "0.30060408\n",
      "CPU times: user 8.78 s, sys: 1.71 s, total: 10.5 s\n",
      "Wall time: 7.68 s\n"
     ]
    },
    {
     "data": {
      "image/png": "[encoded data removed]",
      "text/plain": [
       "<Figure size 936x504 with 1 Axes>"
      ]
     },
     "metadata": {},
     "output_type": "display_data"
    }
   ],
   "source": [
    "%%time\n",
    "stk = comp30[9]\n",
    "#stk = 'MARUTI'\n",
    "stk = np.random.choice(comp30)\n",
    "print(stk)\n",
    "flow_fn(stock = stk,model = best_model)"
   ]
  },
  {
   "cell_type": "code",
   "execution_count": null,
   "id": "cf89f91b",
   "metadata": {
    "papermill": {
     "duration": 0.166357,
     "end_time": "2022-05-16T19:49:11.904296",
     "exception": false,
     "start_time": "2022-05-16T19:49:11.737939",
     "status": "completed"
    },
    "tags": []
   },
   "outputs": [],
   "source": []
  },
  {
   "cell_type": "code",
   "execution_count": null,
   "id": "8fe2d3bb",
   "metadata": {
    "papermill": {
     "duration": 0.16671,
     "end_time": "2022-05-16T19:49:12.239160",
     "exception": false,
     "start_time": "2022-05-16T19:49:12.072450",
     "status": "completed"
    },
    "tags": []
   },
   "outputs": [],
   "source": []
  },
  {
   "cell_type": "code",
   "execution_count": null,
   "id": "6ab1c63e",
   "metadata": {
    "papermill": {
     "duration": 0.16582,
     "end_time": "2022-05-16T19:49:12.570976",
     "exception": false,
     "start_time": "2022-05-16T19:49:12.405156",
     "status": "completed"
    },
    "tags": []
   },
   "outputs": [],
   "source": []
  },
  {
   "cell_type": "code",
   "execution_count": 40,
   "id": "fdb7c250",
   "metadata": {
    "execution": {
     "iopub.execute_input": "2022-05-16T19:49:12.905358Z",
     "iopub.status.busy": "2022-05-16T19:49:12.904991Z",
     "iopub.status.idle": "2022-05-16T19:49:12.919327Z",
     "shell.execute_reply": "2022-05-16T19:49:12.918458Z"
    },
    "papermill": {
     "duration": 0.184624,
     "end_time": "2022-05-16T19:49:12.921558",
     "exception": false,
     "start_time": "2022-05-16T19:49:12.736934",
     "status": "completed"
    },
    "tags": []
   },
   "outputs": [],
   "source": [
    "def prepdata(features,ime,data, jump = 1,lookup =  14,targets=2):\n",
    "    ipdat,opdat = [],[]\n",
    "    data = data[data.imei == ime]\n",
    "    if targets == 3:\n",
    "        data = pd.get_dummies(data,columns=['zone'])\n",
    "        #data = data.replace(['good','warning','critical'],[0,1,2])\n",
    "    else:\n",
    "        data = data.replace(['good','warning','critical'],[0,0,1])\n",
    "        \n",
    "    for i in range(0,len(data)-lookup, jump):\n",
    "        if len(features) == 1:\n",
    "            res = data[i:i+lookup][features[0]].values\n",
    "        else:\n",
    "            res = data[i:i+lookup][features].values\n",
    "        \n",
    "        #CHANGE HERE FOR 2D-3D FORM OF I/P DATA\n",
    "        #ipdat.append(np.ravel(res))\n",
    "        ipdat.append(res)\n",
    "        \n",
    "        if targets == 3:\n",
    "            y = data[['zone_good','zone_warning','zone_critical']].iloc[i+lookup-1].values\n",
    "        else:\n",
    "            y = data['zone'].iloc[i+lookup-1]\n",
    "        #print(y)\n",
    "        opdat.append(y) \n",
    "    \n",
    "    ipdat = np.array(ipdat)\n",
    "    opdat = np.array(opdat)\n",
    "    #print(ipdat.shape, opdat.shape)\n",
    "    return ipdat,opdat\n",
    "\n",
    "\n",
    "def pushdata(features,arr, lookup = 14,scale = False,targets=2):\n",
    "    flag = True\n",
    "    jump = 1\n",
    "    for i in tqdm(arr):\n",
    "        if datafull[datafull.imei == i].shape[0] < 100:\n",
    "            continue\n",
    "        if flag:\n",
    "            ipt,opt = prepdata(features,ime = i, jump = jump, lookup = lookup,targets = targets)\n",
    "            flag = False\n",
    "            continue \n",
    "        a,b = prepdata(features,ime = i,  jump = jump, lookup = lookup,targets = targets)\n",
    "        ipt = np.concatenate((ipt,a))\n",
    "        opt = np.concatenate((opt,b))\n",
    "    print(ipt.shape,opt.shape)\n",
    "    return ipt,opt\n",
    "\n"
   ]
  },
  {
   "cell_type": "code",
   "execution_count": null,
   "id": "f997b910",
   "metadata": {
    "papermill": {
     "duration": 0.164836,
     "end_time": "2022-05-16T19:49:13.267613",
     "exception": false,
     "start_time": "2022-05-16T19:49:13.102777",
     "status": "completed"
    },
    "tags": []
   },
   "outputs": [],
   "source": []
  }
 ],
 "metadata": {
  "kernelspec": {
   "display_name": "Python 3",
   "language": "python",
   "name": "python3"
  },
  "language_info": {
   "codemirror_mode": {
    "name": "ipython",
    "version": 3
   },
   "file_extension": ".py",
   "mimetype": "text/x-python",
   "name": "python",
   "nbconvert_exporter": "python",
   "pygments_lexer": "ipython3",
   "version": "3.7.12"
  },
  "papermill": {
   "default_parameters": {},
   "duration": 15013.198468,
   "end_time": "2022-05-16T19:49:16.738924",
   "environment_variables": {},
   "exception": null,
   "input_path": "__notebook__.ipynb",
   "output_path": "__notebook__.ipynb",
   "parameters": {},
   "start_time": "2022-05-16T15:39:03.540456",
   "version": "2.3.4"
  }
 },
 "nbformat": 4,
 "nbformat_minor": 5
}
