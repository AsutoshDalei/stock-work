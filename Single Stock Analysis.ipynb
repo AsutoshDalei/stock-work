{
 "cells": [
  {
   "cell_type": "markdown",
   "metadata": {},
   "source": [
    "# NIFTY50 Single stocks analysis\n",
    "**Notebook contains analysis and forecast on a single stock.**\n"
   ]
  },
  {
   "cell_type": "markdown",
   "metadata": {},
   "source": [
    "Importing necessary packages"
   ]
  },
  {
   "cell_type": "code",
   "execution_count": 1,
   "metadata": {
    "execution": {
     "iopub.execute_input": "2022-05-19T08:11:32.186366Z",
     "iopub.status.busy": "2022-05-19T08:11:32.186069Z",
     "iopub.status.idle": "2022-05-19T08:11:44.764849Z",
     "shell.execute_reply": "2022-05-19T08:11:44.763657Z",
     "shell.execute_reply.started": "2022-05-19T08:11:32.186274Z"
    }
   },
   "outputs": [],
   "source": [
    "!pip install livelossplot"
   ]
  },
  {
   "cell_type": "code",
   "execution_count": 2,
   "metadata": {
    "execution": {
     "iopub.execute_input": "2022-05-19T08:12:01.772192Z",
     "iopub.status.busy": "2022-05-19T08:12:01.771868Z",
     "iopub.status.idle": "2022-05-19T08:12:08.728249Z",
     "shell.execute_reply": "2022-05-19T08:12:08.727289Z",
     "shell.execute_reply.started": "2022-05-19T08:12:01.772159Z"
    }
   },
   "outputs": [],
   "source": [
    "from os import listdir\n",
    "import numpy as np\n",
    "import pandas as pd\n",
    "from tqdm import tqdm\n",
    "import matplotlib.pyplot as plt\n",
    "%matplotlib inline\n",
    "import seaborn as sns\n",
    "import tensorflow as tf\n",
    "from sklearn.preprocessing import StandardScaler\n",
    "from sklearn.utils import shuffle\n",
    "from livelossplot import PlotLossesKeras\n",
    "sns.set_theme()\n",
    "import warnings\n",
    "warnings.filterwarnings('ignore')\n",
    "%autosave 30"
   ]
  },
  {
   "cell_type": "code",
   "execution_count": 3,
   "metadata": {
    "execution": {
     "iopub.execute_input": "2022-05-19T08:12:08.730432Z",
     "iopub.status.busy": "2022-05-19T08:12:08.730113Z",
     "iopub.status.idle": "2022-05-19T08:12:09.401300Z",
     "shell.execute_reply": "2022-05-19T08:12:09.400481Z",
     "shell.execute_reply.started": "2022-05-19T08:12:08.730389Z"
    }
   },
   "outputs": [],
   "source": [
    "#dft = pd.read_csv(r'C:\\Users\\asuto\\Desktop\\Work\\Datasets\\NIFTY50\\NIFTYMASTERDATA.csv',index_col='Date',parse_dates=True)\n",
    "\n",
    "url = 'https://raw.githubusercontent.com/AsutoshDalei/stock-work/main/NIFTYMASTERDATA.csv'\n",
    "dft = pd.read_csv(url,parse_dates=True)\n",
    "dft['Date'] = pd.to_datetime(dft['Date'])\n",
    "dft.set_index('Date',inplace = True)\n",
    "dft\n",
    "\n",
    "comps = dft.Symbol.unique()"
   ]
  },
  {
   "cell_type": "code",
   "execution_count": null,
   "metadata": {
    "execution": {
     "iopub.execute_input": "2022-05-18T07:03:39.56722Z",
     "iopub.status.busy": "2022-05-18T07:03:39.566567Z",
     "iopub.status.idle": "2022-05-18T07:03:39.592394Z",
     "shell.execute_reply": "2022-05-18T07:03:39.591888Z",
     "shell.execute_reply.started": "2022-05-18T07:03:39.567184Z"
    }
   },
   "outputs": [],
   "source": [
    "dft"
   ]
  },
  {
   "cell_type": "markdown",
   "metadata": {},
   "source": [
    "## Below are the companies the model will be monitoring"
   ]
  },
  {
   "cell_type": "code",
   "execution_count": 4,
   "metadata": {
    "execution": {
     "iopub.execute_input": "2022-05-19T08:12:18.871730Z",
     "iopub.status.busy": "2022-05-19T08:12:18.871440Z",
     "iopub.status.idle": "2022-05-19T08:12:18.878497Z",
     "shell.execute_reply": "2022-05-19T08:12:18.877819Z",
     "shell.execute_reply.started": "2022-05-19T08:12:18.871701Z"
    }
   },
   "outputs": [],
   "source": [
    "comps"
   ]
  },
  {
   "cell_type": "code",
   "execution_count": 5,
   "metadata": {
    "execution": {
     "iopub.execute_input": "2022-05-19T08:12:19.690654Z",
     "iopub.status.busy": "2022-05-19T08:12:19.690145Z",
     "iopub.status.idle": "2022-05-19T08:12:19.698686Z",
     "shell.execute_reply": "2022-05-19T08:12:19.698056Z",
     "shell.execute_reply.started": "2022-05-19T08:12:19.690611Z"
    }
   },
   "outputs": [],
   "source": [
    "comp30 = ['INFY','TCS','RELIANCE','ICICIBANK','HDFC','HCLTECH','BHARTIARTL',\n",
    "          'INDUSINDBK','SBIN','LT','TECHM','MM','AXISBANK','ITC','BAJAJ-AUTO','ONGC',\n",
    "          'TATASTEEL','NTPC','TECHM','ASIANPAINT','POWERGRID','BAJAJFINSV','TITAN','NESTLEIND',\n",
    "          'ULTRACEMCO','MARUTI','HDFCBANK','HINDUNILVR','SUNPHARMA','KOTAKBANK'  \n",
    "         ]\n",
    "len(comp30)"
   ]
  },
  {
   "cell_type": "code",
   "execution_count": 6,
   "metadata": {
    "execution": {
     "iopub.execute_input": "2022-05-19T08:12:20.407792Z",
     "iopub.status.busy": "2022-05-19T08:12:20.407064Z",
     "iopub.status.idle": "2022-05-19T08:12:20.411969Z",
     "shell.execute_reply": "2022-05-19T08:12:20.410871Z",
     "shell.execute_reply.started": "2022-05-19T08:12:20.407744Z"
    }
   },
   "outputs": [],
   "source": [
    "#comp30"
   ]
  },
  {
   "cell_type": "markdown",
   "metadata": {},
   "source": [
    "## Various columns and the dataframe itself"
   ]
  },
  {
   "cell_type": "code",
   "execution_count": 7,
   "metadata": {
    "execution": {
     "iopub.execute_input": "2022-05-19T08:12:21.431194Z",
     "iopub.status.busy": "2022-05-19T08:12:21.430913Z",
     "iopub.status.idle": "2022-05-19T08:12:21.461257Z",
     "shell.execute_reply": "2022-05-19T08:12:21.460445Z",
     "shell.execute_reply.started": "2022-05-19T08:12:21.431164Z"
    }
   },
   "outputs": [],
   "source": [
    "cols = ['Symbol','Prev Close', 'Open', 'High', 'Low','Close' ,'Last','Volume', 'Turnover']\n",
    "dft"
   ]
  },
  {
   "cell_type": "code",
   "execution_count": null,
   "metadata": {},
   "outputs": [],
   "source": []
  },
  {
   "cell_type": "markdown",
   "metadata": {},
   "source": [
    "## Get Data Function"
   ]
  },
  {
   "cell_type": "code",
   "execution_count": 8,
   "metadata": {
    "execution": {
     "iopub.execute_input": "2022-05-19T08:12:22.694518Z",
     "iopub.status.busy": "2022-05-19T08:12:22.694159Z",
     "iopub.status.idle": "2022-05-19T08:12:22.699338Z",
     "shell.execute_reply": "2022-05-19T08:12:22.698263Z",
     "shell.execute_reply.started": "2022-05-19T08:12:22.694480Z"
    }
   },
   "outputs": [],
   "source": [
    "def get_data(stock,feature):\n",
    "    return dft[dft.Symbol == stock][feature]"
   ]
  },
  {
   "cell_type": "code",
   "execution_count": null,
   "metadata": {},
   "outputs": [],
   "source": []
  },
  {
   "cell_type": "markdown",
   "metadata": {},
   "source": [
    "## Generate Data Function\n",
    "**This function returns a dataframe containing the following features of a stock:**\n",
    "- Opening Price\n",
    "- Day wise difference\n",
    "- Consecutive day opening price difference\n",
    "- MACD Histogram value for the day\n",
    "- RSI value for the day\n",
    "\n",
    "These features are returned as a dataframe, which will later be used for time series forecasting."
   ]
  },
  {
   "cell_type": "code",
   "execution_count": 9,
   "metadata": {
    "execution": {
     "iopub.execute_input": "2022-05-19T08:12:23.895749Z",
     "iopub.status.busy": "2022-05-19T08:12:23.895457Z",
     "iopub.status.idle": "2022-05-19T08:12:23.910142Z",
     "shell.execute_reply": "2022-05-19T08:12:23.909230Z",
     "shell.execute_reply.started": "2022-05-19T08:12:23.895718Z"
    }
   },
   "outputs": [],
   "source": [
    "def generate_data(stock,feature,slow=26,fast=12,smooth=9,lookback=14):\n",
    "    op = get_data(stock,'Open') # Open\n",
    "    cl = get_data(stock,'Close') # Close\n",
    "    vol = get_data(stock,'Volume') # Volume\n",
    "    #diff = cl-op # Daily Difference\n",
    "    ewa1 = op.ewm(span=slow,min_periods=0,adjust=False).mean()\n",
    "    datf = ewa1.diff() # Consecutive Day Difference\n",
    "    ewa2 = op.ewm(span=fast,min_periods=0,adjust=False).mean()\n",
    "    macd = ewa2-ewa1\n",
    "    signal = macd.ewm(span=smooth,min_periods=0,adjust=False).mean().values\n",
    "    hist = macd - signal # MACD Difference\n",
    "    \n",
    "    #datf = op.diff()\n",
    "    \n",
    "    up = []\n",
    "    down = []\n",
    "    for i in range(len(datf)):\n",
    "        if datf[i] < 0:\n",
    "            up.append(0)\n",
    "            down.append(datf[i])\n",
    "        else:\n",
    "            up.append(datf[i])\n",
    "            down.append(0)\n",
    "            \n",
    "    up_series = pd.Series(up)\n",
    "    down_series = pd.Series(down).abs()\n",
    "    up_ewm = up_series.ewm(com = lookback - 1, adjust = False).mean()\n",
    "    down_ewm = down_series.ewm(com = lookback - 1, adjust = False).mean()\n",
    "    rs = up_ewm/down_ewm\n",
    "    rsi = 100 - (100 / (1 + rs)) # RSI\n",
    "    \n",
    "    final = {'open':op.values,'close':cl.values,'volume':vol,'cdiff':datf.values,\n",
    "             'macdhist':hist.values,'rsi':rsi.values\n",
    "            }\n",
    "    \n",
    "    df = pd.DataFrame(final)\n",
    "    df.set_index(op.index,inplace=True)\n",
    "    df.interpolate(limit_direction ='backward',methoh = 'linear',inplace=True)\n",
    "    \n",
    "    return df\n",
    "    "
   ]
  },
  {
   "cell_type": "code",
   "execution_count": 10,
   "metadata": {
    "execution": {
     "iopub.execute_input": "2022-05-19T08:12:24.324954Z",
     "iopub.status.busy": "2022-05-19T08:12:24.324442Z",
     "iopub.status.idle": "2022-05-19T08:12:24.437177Z",
     "shell.execute_reply": "2022-05-19T08:12:24.436557Z",
     "shell.execute_reply.started": "2022-05-19T08:12:24.324905Z"
    }
   },
   "outputs": [],
   "source": [
    "%%time\n",
    "df = generate_data('MARUTI','Open')\n",
    "df.head()"
   ]
  },
  {
   "cell_type": "code",
   "execution_count": 11,
   "metadata": {
    "execution": {
     "iopub.execute_input": "2022-05-19T08:12:24.708564Z",
     "iopub.status.busy": "2022-05-19T08:12:24.707492Z",
     "iopub.status.idle": "2022-05-19T08:12:27.336876Z",
     "shell.execute_reply": "2022-05-19T08:12:27.335947Z",
     "shell.execute_reply.started": "2022-05-19T08:12:24.708492Z"
    }
   },
   "outputs": [],
   "source": [
    "def plot_data(data):\n",
    "    n = len(data.columns)\n",
    "    plt.figure(figsize=(15,25))\n",
    "    for i in range(n):\n",
    "        plt.subplot(n,1,i+1)\n",
    "        sns.lineplot(data = data,x = data.index, y = data.columns[i])\n",
    "        plt.title(data.columns[i])\n",
    "        plt.xlabel('')\n",
    "        \n",
    "plot_data(df)"
   ]
  },
  {
   "cell_type": "code",
   "execution_count": 12,
   "metadata": {
    "execution": {
     "iopub.execute_input": "2022-05-19T08:12:27.339249Z",
     "iopub.status.busy": "2022-05-19T08:12:27.338919Z",
     "iopub.status.idle": "2022-05-19T08:12:27.345746Z",
     "shell.execute_reply": "2022-05-19T08:12:27.344959Z",
     "shell.execute_reply.started": "2022-05-19T08:12:27.339208Z"
    }
   },
   "outputs": [],
   "source": [
    "df.shape"
   ]
  },
  {
   "cell_type": "code",
   "execution_count": 13,
   "metadata": {
    "execution": {
     "iopub.execute_input": "2022-05-19T08:12:27.347585Z",
     "iopub.status.busy": "2022-05-19T08:12:27.346911Z",
     "iopub.status.idle": "2022-05-19T08:12:27.368146Z",
     "shell.execute_reply": "2022-05-19T08:12:27.367545Z",
     "shell.execute_reply.started": "2022-05-19T08:12:27.347513Z"
    }
   },
   "outputs": [],
   "source": [
    "df.head()"
   ]
  },
  {
   "cell_type": "markdown",
   "metadata": {},
   "source": [
    "**For our task, the input data will be:** \n",
    "- Stock Opening Price\n",
    "- Consecutive Day Difference\n",
    "- MACD Histogram\n",
    "- RSI\n",
    "\n",
    "**While the target will be:**\n",
    "- Daily Difference\n"
   ]
  },
  {
   "cell_type": "code",
   "execution_count": 14,
   "metadata": {
    "execution": {
     "iopub.execute_input": "2022-05-19T08:12:27.370241Z",
     "iopub.status.busy": "2022-05-19T08:12:27.369761Z",
     "iopub.status.idle": "2022-05-19T08:12:27.373736Z",
     "shell.execute_reply": "2022-05-19T08:12:27.373081Z",
     "shell.execute_reply.started": "2022-05-19T08:12:27.370210Z"
    }
   },
   "outputs": [],
   "source": [
    "ipfea = ['open','cdiff','macdhist','rsi','volume']\n",
    "#opfea = ['close']\n",
    "opfea = ['open']"
   ]
  },
  {
   "cell_type": "markdown",
   "metadata": {},
   "source": [
    "**Since all our features are of a different scale, it is important for us to scale our data, for our model to run faster and not develop bias towards a higher scale feature** "
   ]
  },
  {
   "cell_type": "code",
   "execution_count": 15,
   "metadata": {
    "execution": {
     "iopub.execute_input": "2022-05-19T08:12:27.575482Z",
     "iopub.status.busy": "2022-05-19T08:12:27.575012Z",
     "iopub.status.idle": "2022-05-19T08:12:27.588200Z",
     "shell.execute_reply": "2022-05-19T08:12:27.587619Z",
     "shell.execute_reply.started": "2022-05-19T08:12:27.575392Z"
    }
   },
   "outputs": [],
   "source": [
    "%%time\n",
    "scaip = StandardScaler()\n",
    "scaop = StandardScaler()\n",
    "scaop.fit(df[opfea])\n",
    "df[ipfea] = scaip.fit_transform(df[ipfea])\n",
    "\n",
    "#df_sca = pd.DataFrame(sca.fit_transform(df),columns=df.columns)"
   ]
  },
  {
   "cell_type": "code",
   "execution_count": 16,
   "metadata": {
    "execution": {
     "iopub.execute_input": "2022-05-19T08:12:28.189262Z",
     "iopub.status.busy": "2022-05-19T08:12:28.188819Z",
     "iopub.status.idle": "2022-05-19T08:12:28.193736Z",
     "shell.execute_reply": "2022-05-19T08:12:28.193103Z",
     "shell.execute_reply.started": "2022-05-19T08:12:28.189229Z"
    }
   },
   "outputs": [],
   "source": [
    "scaop.mean_"
   ]
  },
  {
   "cell_type": "code",
   "execution_count": 17,
   "metadata": {
    "execution": {
     "iopub.execute_input": "2022-05-19T08:12:30.647202Z",
     "iopub.status.busy": "2022-05-19T08:12:30.646780Z",
     "iopub.status.idle": "2022-05-19T08:12:30.653429Z",
     "shell.execute_reply": "2022-05-19T08:12:30.652864Z",
     "shell.execute_reply.started": "2022-05-19T08:12:30.647171Z"
    }
   },
   "outputs": [],
   "source": [
    "def chunk(data,window=7,ahead=1):\n",
    "    iparr,oparr = [],[]\n",
    "    for i in tqdm(range(data.shape[0]-window-ahead)):\n",
    "        iparr.append(data[ipfea].iloc[i:i+window])\n",
    "        opt = data[opfea].iloc[i+window:i+window+ahead].values.ravel().tolist()\n",
    "        #opt = data[opfea].iloc[i+window:i+window+ahead].values.ravel()\n",
    "        oparr.append(opt)\n",
    "        #oparr.append(data[opfea].iloc[i+window])\n",
    "    iparr,oparr = np.array(iparr),np.array(oparr)\n",
    "    #iparr = np.array(iparr)\n",
    "    print(iparr.shape,oparr.shape)\n",
    "    return iparr,oparr    \n",
    "       "
   ]
  },
  {
   "cell_type": "markdown",
   "metadata": {},
   "source": [
    "**We will keep data from start till 31/12/2020 for training and the data from 1/1/2021 for test**"
   ]
  },
  {
   "cell_type": "code",
   "execution_count": 18,
   "metadata": {
    "execution": {
     "iopub.execute_input": "2022-05-19T08:12:33.514067Z",
     "iopub.status.busy": "2022-05-19T08:12:33.513469Z",
     "iopub.status.idle": "2022-05-19T08:12:36.617973Z",
     "shell.execute_reply": "2022-05-19T08:12:36.617003Z",
     "shell.execute_reply.started": "2022-05-19T08:12:33.514021Z"
    }
   },
   "outputs": [],
   "source": [
    "%%time\n",
    "date = '2021-01-01'\n",
    "ips,ops = chunk(df.loc[:date],window = 10,ahead = 5)\n",
    "ipt,opt = chunk(df.loc[date:],window = 10,ahead = 5)\n",
    "#tt = chunk(df.loc[date:],ahead=2)"
   ]
  },
  {
   "cell_type": "code",
   "execution_count": 19,
   "metadata": {
    "execution": {
     "iopub.execute_input": "2022-05-19T08:12:36.846903Z",
     "iopub.status.busy": "2022-05-19T08:12:36.846568Z",
     "iopub.status.idle": "2022-05-19T08:12:36.853926Z",
     "shell.execute_reply": "2022-05-19T08:12:36.852926Z",
     "shell.execute_reply.started": "2022-05-19T08:12:36.846868Z"
    }
   },
   "outputs": [],
   "source": [
    "%%time\n",
    "ipx,opx = shuffle(ips,ops,random_state=32)"
   ]
  },
  {
   "cell_type": "code",
   "execution_count": null,
   "metadata": {},
   "outputs": [],
   "source": []
  },
  {
   "cell_type": "markdown",
   "metadata": {},
   "source": [
    "## LSTM Model"
   ]
  },
  {
   "cell_type": "code",
   "execution_count": 20,
   "metadata": {
    "execution": {
     "iopub.execute_input": "2022-05-19T08:12:39.760301Z",
     "iopub.status.busy": "2022-05-19T08:12:39.760020Z",
     "iopub.status.idle": "2022-05-19T08:12:39.764904Z",
     "shell.execute_reply": "2022-05-19T08:12:39.763845Z",
     "shell.execute_reply.started": "2022-05-19T08:12:39.760270Z"
    }
   },
   "outputs": [],
   "source": [
    "import tensorflow as tf"
   ]
  },
  {
   "cell_type": "code",
   "execution_count": null,
   "metadata": {
    "execution": {
     "iopub.execute_input": "2022-05-18T07:06:16.236551Z",
     "iopub.status.busy": "2022-05-18T07:06:16.236269Z",
     "iopub.status.idle": "2022-05-18T07:06:16.243805Z",
     "shell.execute_reply": "2022-05-18T07:06:16.242873Z",
     "shell.execute_reply.started": "2022-05-18T07:06:16.236522Z"
    }
   },
   "outputs": [],
   "source": [
    "bestparms = {'act': 'tanh',\n",
    " 'batch': 32,\n",
    " 'drp': 0.10761800034082002,\n",
    " 'lr': 0.002304610672382999,\n",
    " 'epoch': 55,\n",
    " 'layers': 7,\n",
    " 'units': 90}\n",
    "bestparms"
   ]
  },
  {
   "cell_type": "code",
   "execution_count": null,
   "metadata": {
    "execution": {
     "iopub.execute_input": "2022-05-18T07:06:33.560431Z",
     "iopub.status.busy": "2022-05-18T07:06:33.559401Z",
     "iopub.status.idle": "2022-05-18T07:06:36.503833Z",
     "shell.execute_reply": "2022-05-18T07:06:36.502934Z",
     "shell.execute_reply.started": "2022-05-18T07:06:33.560374Z"
    }
   },
   "outputs": [],
   "source": [
    "act = bestparms['act']\n",
    "drp = bestparms['drp']\n",
    "model = tf.keras.models.Sequential([\n",
    "                           tf.keras.layers.GRU(units=12,activation=act,return_sequences=True,\n",
    "                                                input_shape=(ipx.shape[1],ipx.shape[2])),\n",
    "                           tf.keras.layers.GRU(units=16,activation=act,return_sequences=True),\n",
    "                           tf.keras.layers.Dropout(drp),\n",
    "                           tf.keras.layers.GRU(units=64,activation=act,return_sequences=True),\n",
    "                           tf.keras.layers.Dropout(drp),\n",
    "    \n",
    "                           #tf.keras.layers.GRU(units=128,activation=act,return_sequences=True),\n",
    "                           #tf.keras.layers.Dropout(drp),\n",
    "                           #tf.keras.layers.GRU(units=128,activation=act,return_sequences=True),\n",
    "                           #tf.keras.layers.Dropout(drp),\n",
    "    \n",
    "                           tf.keras.layers.GRU(units=64,activation=act,return_sequences=True),\n",
    "                           tf.keras.layers.Dropout(drp),\n",
    "                           tf.keras.layers.GRU(units=16,activation=act,return_sequences=True),\n",
    "                           tf.keras.layers.Dropout(drp),\n",
    "                           tf.keras.layers.GRU(units=10,activation='tanh',return_sequences=True),\n",
    "                           tf.keras.layers.Dropout(drp),\n",
    "                           tf.keras.layers.GRU(units=7,activation=act),\n",
    "                           tf.keras.layers.Dense(units=5)\n",
    "                          ])"
   ]
  },
  {
   "cell_type": "code",
   "execution_count": null,
   "metadata": {
    "execution": {
     "iopub.execute_input": "2022-05-18T07:06:50.872374Z",
     "iopub.status.busy": "2022-05-18T07:06:50.871628Z",
     "iopub.status.idle": "2022-05-18T07:13:55.844398Z",
     "shell.execute_reply": "2022-05-18T07:13:55.843753Z",
     "shell.execute_reply.started": "2022-05-18T07:06:50.872337Z"
    }
   },
   "outputs": [],
   "source": [
    "%%time\n",
    "tf.keras.backend.clear_session()\n",
    "\n",
    "opti = tf.optimizers.Adam(learning_rate=bestparms['lr'])\n",
    "reduce_lr = tf.keras.callbacks.ReduceLROnPlateau(monitor='loss',min_lr=0.0001,factor = 0.05)\n",
    "early_stp = tf.keras.callbacks.EarlyStopping('loss',patience=25)\n",
    "\n",
    "\n",
    "model.compile(optimizer=opti,loss='mean_squared_error')\n",
    "history=model.fit(ipx,opx,epochs=60,batch_size=16,verbose=0,callbacks=[PlotLossesKeras(),early_stp,reduce_lr])"
   ]
  },
  {
   "cell_type": "code",
   "execution_count": null,
   "metadata": {
    "execution": {
     "iopub.execute_input": "2022-05-18T07:25:48.965032Z",
     "iopub.status.busy": "2022-05-18T07:25:48.964751Z",
     "iopub.status.idle": "2022-05-18T07:25:49.029311Z",
     "shell.execute_reply": "2022-05-18T07:25:49.02846Z",
     "shell.execute_reply.started": "2022-05-18T07:25:48.965004Z"
    }
   },
   "outputs": [],
   "source": [
    "#model.summary()\n",
    "model.save('./MODELBASE1.h5')."
   ]
  },
  {
   "cell_type": "code",
   "execution_count": null,
   "metadata": {
    "execution": {
     "iopub.execute_input": "2022-05-18T07:25:09.139548Z",
     "iopub.status.busy": "2022-05-18T07:25:09.139096Z",
     "iopub.status.idle": "2022-05-18T07:25:11.960028Z",
     "shell.execute_reply": "2022-05-18T07:25:11.959265Z",
     "shell.execute_reply.started": "2022-05-18T07:25:09.139502Z"
    }
   },
   "outputs": [],
   "source": [
    "opp = model.predict(ipt)"
   ]
  },
  {
   "cell_type": "code",
   "execution_count": null,
   "metadata": {
    "execution": {
     "iopub.execute_input": "2022-05-18T07:25:14.988519Z",
     "iopub.status.busy": "2022-05-18T07:25:14.987592Z",
     "iopub.status.idle": "2022-05-18T07:25:14.997555Z",
     "shell.execute_reply": "2022-05-18T07:25:14.996296Z",
     "shell.execute_reply.started": "2022-05-18T07:25:14.988467Z"
    }
   },
   "outputs": [],
   "source": [
    "lossfn = tf.keras.losses.MeanSquaredError()\n",
    "print(lossfn(opt,opp).numpy())"
   ]
  },
  {
   "cell_type": "code",
   "execution_count": null,
   "metadata": {},
   "outputs": [],
   "source": []
  },
  {
   "cell_type": "markdown",
   "metadata": {},
   "source": [
    "**Plot of actual versus predicted stock values.**\n",
    "\n",
    "Predicted stock value is not being used for next step prediction."
   ]
  },
  {
   "cell_type": "code",
   "execution_count": null,
   "metadata": {
    "execution": {
     "iopub.execute_input": "2022-05-18T04:47:00.773818Z",
     "iopub.status.busy": "2022-05-18T04:47:00.773442Z",
     "iopub.status.idle": "2022-05-18T04:47:01.205429Z",
     "shell.execute_reply": "2022-05-18T04:47:01.204419Z",
     "shell.execute_reply.started": "2022-05-18T04:47:00.773779Z"
    }
   },
   "outputs": [],
   "source": [
    "def plot_res(model=model,ipx=ipt,opx=opt,scaled = True):\n",
    "    opp = model.predict(ipx)\n",
    "    \n",
    "    des = {'act':opx[0].tolist(),'pred':opp[0].tolist()}\n",
    "    for i in range(1,len(opp)):\n",
    "        des['act'].append(opx[i][-1])\n",
    "        des['pred'].append(opp[i][-1])\n",
    "    \n",
    "    plt.figure(figsize=(13,7))\n",
    "    if scaled:\n",
    "        plt.plot(des['act'],label = 'Actual')\n",
    "        plt.plot(des['pred'], label = 'Predictions')\n",
    "        lossfn = tf.keras.losses.MeanSquaredError()\n",
    "        print(lossfn(opx,opp).numpy())\n",
    "    else:\n",
    "        tt = np.array(des['act']).reshape(-1,1)\n",
    "        tt\n",
    "        scaop.inverse_transform(tt)\n",
    "        opx1 = scaop.inverse_transform(np.array(des['act']).reshape(-1,1))\n",
    "        opp1 = scaop.inverse_transform(np.array(des['pred']).reshape(-1,1))\n",
    "        plt.plot(opx1,label = 'Actual')\n",
    "        plt.plot(opp1, label = 'Predictions')\n",
    "        lossfn = tf.keras.losses.MeanSquaredError()\n",
    "        print(lossfn(opx1,opp1).numpy())\n",
    "    \n",
    "    plt.xlabel('Days')\n",
    "    plt.ylabel('Stock Value')\n",
    "    plt.title(\"Actual VS Predicted Stock Value\")    \n",
    "    plt.legend()\n",
    "    return\n",
    "\n",
    "plot_res(ipx=ipt,opx=opt,scaled = False)"
   ]
  },
  {
   "cell_type": "code",
   "execution_count": null,
   "metadata": {},
   "outputs": [],
   "source": []
  },
  {
   "cell_type": "code",
   "execution_count": null,
   "metadata": {
    "execution": {
     "iopub.execute_input": "2022-05-18T08:12:31.696217Z",
     "iopub.status.busy": "2022-05-18T08:12:31.695793Z",
     "iopub.status.idle": "2022-05-18T08:12:31.768867Z",
     "shell.execute_reply": "2022-05-18T08:12:31.767982Z",
     "shell.execute_reply.started": "2022-05-18T08:12:31.696187Z"
    }
   },
   "outputs": [],
   "source": [
    "def plot_res_cycle(model=model,ipx=ipt,opx=opt,scaled = True):\n",
    "    #opp = model.predict(ipx[0:2])\n",
    "    opp = model.predict(ipx[0].reshape(1,10,5))\n",
    "    des = {'act':opx[0].tolist(),'pred':opp[0].tolist()}\n",
    "    ipx1 = np.concatenate([ipx[0][5:],opp])\n",
    "    return ipx1,opp,0\n",
    "    for i in range(1,len(opx)):\n",
    "        opp1 = model.predict(ipx1.reshape(1,10,5))\n",
    "        des['act'].append(opp1[-1])\n",
    "        des['pred'].append(opp[i][-1])\n",
    "    \n",
    "    return opp,ipx,des\n",
    "ptr,ptr1,dd= plot_res_cycle(ipx=ipt,opx=opt,scaled = False)"
   ]
  },
  {
   "cell_type": "code",
   "execution_count": null,
   "metadata": {
    "execution": {
     "iopub.execute_input": "2022-05-18T08:12:35.960636Z",
     "iopub.status.busy": "2022-05-18T08:12:35.960184Z",
     "iopub.status.idle": "2022-05-18T08:12:35.968189Z",
     "shell.execute_reply": "2022-05-18T08:12:35.967462Z",
     "shell.execute_reply.started": "2022-05-18T08:12:35.960599Z"
    }
   },
   "outputs": [],
   "source": [
    "ptr,ptr1"
   ]
  },
  {
   "cell_type": "code",
   "execution_count": null,
   "metadata": {
    "execution": {
     "iopub.execute_input": "2022-05-18T08:05:58.180019Z",
     "iopub.status.busy": "2022-05-18T08:05:58.179761Z",
     "iopub.status.idle": "2022-05-18T08:05:58.186839Z",
     "shell.execute_reply": "2022-05-18T08:05:58.186247Z",
     "shell.execute_reply.started": "2022-05-18T08:05:58.179993Z"
    }
   },
   "outputs": [],
   "source": [
    "np.concatenate([ptr1[2][5:],ptr1[2][5:]])"
   ]
  },
  {
   "cell_type": "markdown",
   "metadata": {},
   "source": [
    "## "
   ]
  },
  {
   "cell_type": "markdown",
   "metadata": {},
   "source": [
    "## Transfer Learning Attempt"
   ]
  },
  {
   "cell_type": "code",
   "execution_count": null,
   "metadata": {
    "execution": {
     "iopub.execute_input": "2022-05-18T04:47:11.669904Z",
     "iopub.status.busy": "2022-05-18T04:47:11.669605Z",
     "iopub.status.idle": "2022-05-18T04:47:11.676952Z",
     "shell.execute_reply": "2022-05-18T04:47:11.676059Z",
     "shell.execute_reply.started": "2022-05-18T04:47:11.669869Z"
    }
   },
   "outputs": [],
   "source": [
    "def flow_fn(stock,model=model,feature = 'Open',scaled = False):\n",
    "    dfl = generate_data(stock,'Open')\n",
    "    \n",
    "    scaipl = StandardScaler()\n",
    "    scaopl = StandardScaler()\n",
    "    dfl[ipfea] = scaipl.fit_transform(dfl[ipfea])\n",
    "    dfl[opfea] = scaopl.fit_transform(dfl[opfea])\n",
    "    #return dfl\n",
    "    ipl,opl = chunk(dfl,window = 10,ahead = 5)\n",
    "    \n",
    "    plot_res(model = model,ipx = ipl,opx = opl,scaled = scaled)\n",
    "    return"
   ]
  },
  {
   "cell_type": "code",
   "execution_count": null,
   "metadata": {
    "execution": {
     "iopub.execute_input": "2022-05-18T04:47:12.015713Z",
     "iopub.status.busy": "2022-05-18T04:47:12.015233Z",
     "iopub.status.idle": "2022-05-18T04:47:17.224297Z",
     "shell.execute_reply": "2022-05-18T04:47:17.22336Z",
     "shell.execute_reply.started": "2022-05-18T04:47:12.015664Z"
    }
   },
   "outputs": [],
   "source": [
    "%%time\n",
    "stk = comp30[9]\n",
    "stk = np.random.choice(comp30)\n",
    "stk = 'MARUTI'\n",
    "print(stk)\n",
    "flow_fn(stock = stk)"
   ]
  },
  {
   "cell_type": "code",
   "execution_count": null,
   "metadata": {},
   "outputs": [],
   "source": []
  },
  {
   "cell_type": "markdown",
   "metadata": {},
   "source": [
    "**As we see, the model's predictions on different stocks are not greatly bad. There is scope of improvement which can be implement towards building a generalized model.**"
   ]
  },
  {
   "cell_type": "markdown",
   "metadata": {},
   "source": [
    "## Optuna Hyper Parameter tuning"
   ]
  },
  {
   "cell_type": "code",
   "execution_count": null,
   "metadata": {
    "execution": {
     "iopub.execute_input": "2022-05-16T15:27:12.920286Z",
     "iopub.status.busy": "2022-05-16T15:27:12.919915Z",
     "iopub.status.idle": "2022-05-16T15:27:12.925143Z",
     "shell.execute_reply": "2022-05-16T15:27:12.924166Z",
     "shell.execute_reply.started": "2022-05-16T15:27:12.920254Z"
    }
   },
   "outputs": [],
   "source": [
    "#!pip install optuna\n",
    "import optuna\n",
    "from optuna.integration import TFKerasPruningCallback\n",
    "from tensorflow.keras.layers import GRU,Dense"
   ]
  },
  {
   "cell_type": "code",
   "execution_count": null,
   "metadata": {
    "execution": {
     "iopub.execute_input": "2022-05-16T15:29:28.353323Z",
     "iopub.status.busy": "2022-05-16T15:29:28.353041Z",
     "iopub.status.idle": "2022-05-16T15:29:28.37004Z",
     "shell.execute_reply": "2022-05-16T15:29:28.368639Z",
     "shell.execute_reply.started": "2022-05-16T15:29:28.353294Z"
    }
   },
   "outputs": [],
   "source": [
    "def savebest(study, trial):\n",
    "    global best_model\n",
    "    if study.best_trial == trial:\n",
    "        best_model = model\n",
    "\n",
    "def objective(trial):\n",
    "    act = trial.suggest_categorical(\"act\", [\"tanh\", \"relu\"])\n",
    "    batch = trial.suggest_categorical(\"batch\", [8,16,32,64,128])\n",
    "    drp = trial.suggest_uniform('drp', 0.0, 0.7)\n",
    "    lr = trial.suggest_float(\"lr\", 1e-5, 1e-2, log=True)\n",
    "    epoch = trial.suggest_int(\"epoch\", 30,55)\n",
    "    \n",
    "    layers = trial.suggest_int('layers',5,10)\n",
    "    units = trial.suggest_int('units',64,256)\n",
    "\n",
    "    \n",
    "    \n",
    "    monitor = \"loss\"\n",
    "    callbacks = [TFKerasPruningCallback(trial, monitor)]\n",
    "    #early_stop = EarlyStopping(monitor='val_loss',patience=3,min_delta = 0.0001)\n",
    "    opti = tf.keras.optimizers.Adam(learning_rate=lr)\n",
    "    \n",
    "    global model\n",
    "    \n",
    "    model = tf.keras.models.Sequential()\n",
    "    model.add(GRU(units=8,activation='tanh',return_sequences=True,input_shape=(ipx.shape[1],ipx.shape[2])))\n",
    "    model.add(GRU(units=16,activation = act,return_sequences=True))\n",
    "    model.add(tf.keras.layers.Dropout(drp))\n",
    "    \n",
    "    for lay in range(layers):\n",
    "        model.add(GRU(units = units,activation=act,return_sequences=True))\n",
    "        model.add(tf.keras.layers.Dropout(drp))\n",
    "    \n",
    "    model.add(GRU(units=16,activation = act,return_sequences=True))\n",
    "    model.add(GRU(units=8,activation = act))\n",
    "    model.add(Dense(units=1))\n",
    "\n",
    "    tf.keras.backend.clear_session()\n",
    "    model.compile(optimizer=opti,loss='mean_absolute_error')\n",
    "\n",
    "    model.fit(ipx,opx, epochs = epoch, batch_size = batch,verbose = 0,\n",
    "                     callbacks=callbacks)\n",
    "    \n",
    "    \n",
    "    return model.evaluate(ipt,opt)"
   ]
  },
  {
   "cell_type": "code",
   "execution_count": null,
   "metadata": {
    "execution": {
     "iopub.execute_input": "2022-05-16T15:29:28.804114Z",
     "iopub.status.busy": "2022-05-16T15:29:28.803769Z",
     "iopub.status.idle": "2022-05-16T15:34:30.646552Z",
     "shell.execute_reply": "2022-05-16T15:34:30.645309Z",
     "shell.execute_reply.started": "2022-05-16T15:29:28.804081Z"
    }
   },
   "outputs": [],
   "source": [
    "%%time\n",
    "study = optuna.create_study(direction='minimize', \n",
    "            pruner=optuna.pruners.HyperbandPruner())\n",
    "study.optimize(objective,n_trials = 50,callbacks=[savebest])"
   ]
  },
  {
   "cell_type": "markdown",
   "metadata": {
    "execution": {
     "iopub.execute_input": "2022-05-16T15:29:14.754799Z",
     "iopub.status.busy": "2022-05-16T15:29:14.754535Z",
     "iopub.status.idle": "2022-05-16T15:29:14.775714Z",
     "shell.execute_reply": "2022-05-16T15:29:14.77439Z",
     "shell.execute_reply.started": "2022-05-16T15:29:14.754769Z"
    }
   },
   "source": [
    "def savebest(study, trial):\n",
    "    global best_model\n",
    "    if study.best_trial == trial:\n",
    "        best_model = model\n",
    "\n",
    "def objective(trial):\n",
    "    act = trial.suggest_categorical(\"act\", [\"tanh\", \"relu\"])\n",
    "    batch = trial.suggest_categorical(\"batch\", [16,32,64,128])\n",
    "    drp = trial.suggest_uniform('drp', 0.0, 0.7)\n",
    "    lr = trial.suggest_float(\"lr\", 1e-5, 1e-2, log=True)\n",
    "    epoch = trial.suggest_int(\"epoch\", 30,55)\n",
    "    \n",
    "\n",
    "    \n",
    "    \n",
    "    monitor = \"loss\"\n",
    "    callbacks = [TFKerasPruningCallback(trial, monitor)]\n",
    "    #early_stop = EarlyStopping(monitor='val_loss',patience=3,min_delta = 0.0001)\n",
    "    opti = tf.keras.optimizers.Adam(learning_rate=lr)\n",
    "    \n",
    "    global model\n",
    "    drp = 0.2\n",
    "    model = tf.keras.models.Sequential([\n",
    "                           tf.keras.layers.GRU(units=8,activation=act,return_sequences=True,\n",
    "                                                input_shape=(ipx.shape[1],ipx.shape[2])),\n",
    "                           tf.keras.layers.GRU(units=16,activation=act,return_sequences=True),\n",
    "                           tf.keras.layers.Dropout(drp),\n",
    "                           tf.keras.layers.GRU(units=64,activation=act,return_sequences=True),\n",
    "                           tf.keras.layers.Dropout(drp),\n",
    "    \n",
    "                           tf.keras.layers.GRU(units=128,activation=act,return_sequences=True),\n",
    "                           tf.keras.layers.Dropout(drp),\n",
    "                           tf.keras.layers.GRU(units=128,activation=act,return_sequences=True),\n",
    "                           tf.keras.layers.Dropout(drp),\n",
    "    \n",
    "                           tf.keras.layers.GRU(units=64,activation=act,return_sequences=True),\n",
    "                           tf.keras.layers.Dropout(drp),\n",
    "                           tf.keras.layers.GRU(units=16,activation=act,return_sequences=True),\n",
    "                           tf.keras.layers.Dropout(drp),\n",
    "                           tf.keras.layers.GRU(units=8,activation='tanh',return_sequences=True),\n",
    "                           tf.keras.layers.Dropout(drp),\n",
    "                           tf.keras.layers.GRU(units=4,activation=act),\n",
    "                           tf.keras.layers.Dense(units=1)\n",
    "                          ])\n",
    "    \n",
    "    tf.keras.backend.clear_session()\n",
    "    model.compile(optimizer=opti,loss='mean_absolute_error')\n",
    "\n",
    "    model.fit(ipx,opx, epochs = epoch, batch_size = batch,verbose = 0,\n",
    "                     callbacks=callbacks)\n",
    "    \n",
    "    \n",
    "    return model.evaluate(ipt,opt)"
   ]
  },
  {
   "cell_type": "markdown",
   "metadata": {
    "execution": {
     "iopub.execute_input": "2022-05-16T10:22:07.723374Z",
     "iopub.status.busy": "2022-05-16T10:22:07.722835Z",
     "iopub.status.idle": "2022-05-16T12:20:15.519013Z",
     "shell.execute_reply": "2022-05-16T12:20:15.517968Z",
     "shell.execute_reply.started": "2022-05-16T10:22:07.723299Z"
    }
   },
   "source": [
    "%%time\n",
    "study = optuna.create_study(direction='minimize', \n",
    "            pruner=optuna.pruners.HyperbandPruner())\n",
    "study.optimize(objective,n_trials = 70,callbacks=[savebest])"
   ]
  },
  {
   "cell_type": "code",
   "execution_count": null,
   "metadata": {
    "execution": {
     "iopub.execute_input": "2022-05-16T12:25:28.256536Z",
     "iopub.status.busy": "2022-05-16T12:25:28.256221Z",
     "iopub.status.idle": "2022-05-16T12:25:28.264658Z",
     "shell.execute_reply": "2022-05-16T12:25:28.263533Z",
     "shell.execute_reply.started": "2022-05-16T12:25:28.256504Z"
    }
   },
   "outputs": [],
   "source": [
    "best_params = study.best_params\n",
    "best_params"
   ]
  },
  {
   "cell_type": "code",
   "execution_count": null,
   "metadata": {
    "execution": {
     "iopub.execute_input": "2022-05-16T12:25:30.84297Z",
     "iopub.status.busy": "2022-05-16T12:25:30.842645Z",
     "iopub.status.idle": "2022-05-16T12:25:30.878706Z",
     "shell.execute_reply": "2022-05-16T12:25:30.877969Z",
     "shell.execute_reply.started": "2022-05-16T12:25:30.842929Z"
    }
   },
   "outputs": [],
   "source": [
    "optuna.visualization.plot_optimization_history(study)"
   ]
  },
  {
   "cell_type": "code",
   "execution_count": null,
   "metadata": {
    "execution": {
     "iopub.execute_input": "2022-05-16T12:25:31.303398Z",
     "iopub.status.busy": "2022-05-16T12:25:31.302578Z",
     "iopub.status.idle": "2022-05-16T12:25:31.388684Z",
     "shell.execute_reply": "2022-05-16T12:25:31.387829Z",
     "shell.execute_reply.started": "2022-05-16T12:25:31.303341Z"
    }
   },
   "outputs": [],
   "source": [
    "optuna.visualization.plot_intermediate_values(study)"
   ]
  },
  {
   "cell_type": "code",
   "execution_count": null,
   "metadata": {
    "execution": {
     "iopub.execute_input": "2022-05-16T12:25:31.426584Z",
     "iopub.status.busy": "2022-05-16T12:25:31.426074Z",
     "iopub.status.idle": "2022-05-16T12:25:31.561481Z",
     "shell.execute_reply": "2022-05-16T12:25:31.560468Z",
     "shell.execute_reply.started": "2022-05-16T12:25:31.426528Z"
    }
   },
   "outputs": [],
   "source": [
    "optuna.visualization.plot_slice(study)"
   ]
  },
  {
   "cell_type": "code",
   "execution_count": null,
   "metadata": {
    "execution": {
     "iopub.execute_input": "2022-05-16T12:25:32.035418Z",
     "iopub.status.busy": "2022-05-16T12:25:32.034863Z",
     "iopub.status.idle": "2022-05-16T12:25:32.070358Z",
     "shell.execute_reply": "2022-05-16T12:25:32.069182Z",
     "shell.execute_reply.started": "2022-05-16T12:25:32.03537Z"
    }
   },
   "outputs": [],
   "source": [
    "optuna.visualization.plot_parallel_coordinate(study)"
   ]
  },
  {
   "cell_type": "code",
   "execution_count": null,
   "metadata": {
    "execution": {
     "iopub.execute_input": "2022-05-16T12:26:06.357179Z",
     "iopub.status.busy": "2022-05-16T12:26:06.356825Z",
     "iopub.status.idle": "2022-05-16T12:26:10.205126Z",
     "shell.execute_reply": "2022-05-16T12:26:10.203973Z",
     "shell.execute_reply.started": "2022-05-16T12:26:06.357144Z"
    }
   },
   "outputs": [],
   "source": [
    "plot_res(model = best_model,ipx=ipt,opx=opt,scaled = False)"
   ]
  },
  {
   "cell_type": "code",
   "execution_count": null,
   "metadata": {
    "execution": {
     "iopub.execute_input": "2022-05-17T13:02:13.764603Z",
     "iopub.status.busy": "2022-05-17T13:02:13.764316Z",
     "iopub.status.idle": "2022-05-17T13:02:17.771473Z",
     "shell.execute_reply": "2022-05-17T13:02:17.769174Z",
     "shell.execute_reply.started": "2022-05-17T13:02:13.76457Z"
    }
   },
   "outputs": [],
   "source": [
    "%%time\n",
    "stk = comp30[9]\n",
    "#stk = 'MARUTI'\n",
    "stk = np.random.choice(comp30)\n",
    "print(stk)\n",
    "flow_fn(stock = stk,model = model)"
   ]
  },
  {
   "cell_type": "code",
   "execution_count": null,
   "metadata": {},
   "outputs": [],
   "source": []
  },
  {
   "cell_type": "code",
   "execution_count": null,
   "metadata": {},
   "outputs": [],
   "source": []
  },
  {
   "cell_type": "code",
   "execution_count": null,
   "metadata": {},
   "outputs": [],
   "source": []
  },
  {
   "cell_type": "code",
   "execution_count": null,
   "metadata": {
    "execution": {
     "iopub.execute_input": "2022-05-16T15:37:40.792366Z",
     "iopub.status.busy": "2022-05-16T15:37:40.792035Z",
     "iopub.status.idle": "2022-05-16T15:37:40.809462Z",
     "shell.execute_reply": "2022-05-16T15:37:40.808499Z",
     "shell.execute_reply.started": "2022-05-16T15:37:40.792334Z"
    }
   },
   "outputs": [],
   "source": [
    "def prepdata(features,ime,data, jump = 1,lookup =  14,targets=2):\n",
    "    ipdat,opdat = [],[]\n",
    "    data = data[data.imei == ime]\n",
    "    if targets == 3:\n",
    "        data = pd.get_dummies(data,columns=['zone'])\n",
    "        #data = data.replace(['good','warning','critical'],[0,1,2])\n",
    "    else:\n",
    "        data = data.replace(['good','warning','critical'],[0,0,1])\n",
    "        \n",
    "    for i in range(0,len(data)-lookup, jump):\n",
    "        if len(features) == 1:\n",
    "            res = data[i:i+lookup][features[0]].values\n",
    "        else:\n",
    "            res = data[i:i+lookup][features].values\n",
    "        \n",
    "        #CHANGE HERE FOR 2D-3D FORM OF I/P DATA\n",
    "        #ipdat.append(np.ravel(res))\n",
    "        ipdat.append(res)\n",
    "        \n",
    "        if targets == 3:\n",
    "            y = data[['zone_good','zone_warning','zone_critical']].iloc[i+lookup-1].values\n",
    "        else:\n",
    "            y = data['zone'].iloc[i+lookup-1]\n",
    "        #print(y)\n",
    "        opdat.append(y) \n",
    "    \n",
    "    ipdat = np.array(ipdat)\n",
    "    opdat = np.array(opdat)\n",
    "    #print(ipdat.shape, opdat.shape)\n",
    "    return ipdat,opdat\n",
    "\n",
    "\n",
    "def pushdata(features,arr, lookup = 14,scale = False,targets=2):\n",
    "    flag = True\n",
    "    jump = 1\n",
    "    for i in tqdm(arr):\n",
    "        if datafull[datafull.imei == i].shape[0] < 100:\n",
    "            continue\n",
    "        if flag:\n",
    "            ipt,opt = prepdata(features,ime = i, jump = jump, lookup = lookup,targets = targets)\n",
    "            flag = False\n",
    "            continue \n",
    "        a,b = prepdata(features,ime = i,  jump = jump, lookup = lookup,targets = targets)\n",
    "        ipt = np.concatenate((ipt,a))\n",
    "        opt = np.concatenate((opt,b))\n",
    "    print(ipt.shape,opt.shape)\n",
    "    return ipt,opt\n",
    "\n"
   ]
  },
  {
   "cell_type": "code",
   "execution_count": null,
   "metadata": {},
   "outputs": [],
   "source": []
  }
 ],
 "metadata": {
  "kernelspec": {
   "display_name": "Python 3 (ipykernel)",
   "language": "python",
   "name": "python3"
  },
  "language_info": {
   "codemirror_mode": {
    "name": "ipython",
    "version": 3
   },
   "file_extension": ".py",
   "mimetype": "text/x-python",
   "name": "python",
   "nbconvert_exporter": "python",
   "pygments_lexer": "ipython3",
   "version": "3.9.7"
  }
 },
 "nbformat": 4,
 "nbformat_minor": 4
}
